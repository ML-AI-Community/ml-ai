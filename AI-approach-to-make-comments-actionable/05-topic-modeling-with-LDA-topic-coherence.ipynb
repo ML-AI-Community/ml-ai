{
 "cells": [
  {
   "cell_type": "code",
   "execution_count": null,
   "metadata": {
    "colab": {
     "base_uri": "https://localhost:8080/"
    },
    "id": "xnnEITzLKDZu",
    "outputId": "82de7d49-f5ca-43a0-ca76-e8b3a945595f"
   },
   "outputs": [
    {
     "name": "stdout",
     "output_type": "stream",
     "text": [
      "Drive already mounted at /content/drive; to attempt to forcibly remount, call drive.mount(\"/content/drive\", force_remount=True).\n"
     ]
    }
   ],
   "source": [
    "from google.colab import drive\n",
    "drive.mount('/content/drive')"
   ]
  },
  {
   "cell_type": "code",
   "execution_count": null,
   "metadata": {
    "colab": {
     "base_uri": "https://localhost:8080/",
     "height": 693
    },
    "id": "f2rE0_JhK85y",
    "outputId": "26daaf99-ac1e-475d-999d-8a4158924ea8"
   },
   "outputs": [
    {
     "name": "stdout",
     "output_type": "stream",
     "text": [
      "Requirement already satisfied: pyLDAvis in /usr/local/lib/python3.7/dist-packages (3.3.1)\n",
      "Requirement already satisfied: scipy in /usr/local/lib/python3.7/dist-packages (from pyLDAvis) (1.4.1)\n",
      "Requirement already satisfied: sklearn in /usr/local/lib/python3.7/dist-packages (from pyLDAvis) (0.0)\n",
      "Requirement already satisfied: scikit-learn in /usr/local/lib/python3.7/dist-packages (from pyLDAvis) (0.22.2.post1)\n",
      "Requirement already satisfied: setuptools in /usr/local/lib/python3.7/dist-packages (from pyLDAvis) (57.2.0)\n",
      "Requirement already satisfied: funcy in /usr/local/lib/python3.7/dist-packages (from pyLDAvis) (1.16)\n",
      "Requirement already satisfied: gensim in /usr/local/lib/python3.7/dist-packages (from pyLDAvis) (3.6.0)\n",
      "Requirement already satisfied: jinja2 in /usr/local/lib/python3.7/dist-packages (from pyLDAvis) (2.11.3)\n",
      "Collecting pandas>=1.2.0\n",
      "  Using cached pandas-1.3.1-cp37-cp37m-manylinux_2_17_x86_64.manylinux2014_x86_64.whl (11.5 MB)\n",
      "Collecting numpy>=1.20.0\n",
      "  Using cached numpy-1.21.1-cp37-cp37m-manylinux_2_12_x86_64.manylinux2010_x86_64.whl (15.7 MB)\n",
      "Requirement already satisfied: future in /usr/local/lib/python3.7/dist-packages (from pyLDAvis) (0.16.0)\n",
      "Requirement already satisfied: joblib in /usr/local/lib/python3.7/dist-packages (from pyLDAvis) (1.0.1)\n",
      "Requirement already satisfied: numexpr in /usr/local/lib/python3.7/dist-packages (from pyLDAvis) (2.7.3)\n",
      "Requirement already satisfied: python-dateutil>=2.7.3 in /usr/local/lib/python3.7/dist-packages (from pandas>=1.2.0->pyLDAvis) (2.8.1)\n",
      "Requirement already satisfied: pytz>=2017.3 in /usr/local/lib/python3.7/dist-packages (from pandas>=1.2.0->pyLDAvis) (2018.9)\n",
      "Requirement already satisfied: six>=1.5 in /usr/local/lib/python3.7/dist-packages (from python-dateutil>=2.7.3->pandas>=1.2.0->pyLDAvis) (1.15.0)\n",
      "Requirement already satisfied: smart-open>=1.2.1 in /usr/local/lib/python3.7/dist-packages (from gensim->pyLDAvis) (5.1.0)\n",
      "Requirement already satisfied: MarkupSafe>=0.23 in /usr/local/lib/python3.7/dist-packages (from jinja2->pyLDAvis) (2.0.1)\n",
      "Installing collected packages: numpy, pandas\n",
      "  Attempting uninstall: numpy\n",
      "    Found existing installation: numpy 1.19.2\n",
      "    Uninstalling numpy-1.19.2:\n",
      "      Successfully uninstalled numpy-1.19.2\n",
      "  Attempting uninstall: pandas\n",
      "    Found existing installation: pandas 1.1.0\n",
      "    Uninstalling pandas-1.1.0:\n",
      "      Successfully uninstalled pandas-1.1.0\n",
      "\u001b[31mERROR: pip's dependency resolver does not currently take into account all the packages that are installed. This behaviour is the source of the following dependency conflicts.\n",
      "tensorflow 2.5.0 requires numpy~=1.19.2, but you have numpy 1.21.1 which is incompatible.\n",
      "google-colab 1.0.0 requires pandas~=1.1.0; python_version >= \"3.0\", but you have pandas 1.3.1 which is incompatible.\n",
      "albumentations 0.1.12 requires imgaug<0.2.7,>=0.2.5, but you have imgaug 0.2.7 which is incompatible.\u001b[0m\n",
      "Successfully installed numpy-1.21.1 pandas-1.3.1\n"
     ]
    },
    {
     "data": {
      "application/vnd.colab-display-data+json": {
       "pip_warning": {
        "packages": [
         "numpy",
         "pandas"
        ]
       }
      }
     },
     "metadata": {
      "tags": []
     },
     "output_type": "display_data"
    }
   ],
   "source": [
    "!pip install pyLDAvis"
   ]
  },
  {
   "cell_type": "code",
   "execution_count": null,
   "metadata": {
    "colab": {
     "base_uri": "https://localhost:8080/",
     "height": 323
    },
    "id": "j2kmEzUwvp8Q",
    "outputId": "5261aec9-432b-4dec-c0ae-e5d247245a4d"
   },
   "outputs": [
    {
     "name": "stdout",
     "output_type": "stream",
     "text": [
      "Collecting numpy==1.19.2\n",
      "  Using cached numpy-1.19.2-cp37-cp37m-manylinux2010_x86_64.whl (14.5 MB)\n",
      "Installing collected packages: numpy\n",
      "  Attempting uninstall: numpy\n",
      "    Found existing installation: numpy 1.21.1\n",
      "    Uninstalling numpy-1.21.1:\n",
      "      Successfully uninstalled numpy-1.21.1\n",
      "\u001b[31mERROR: pip's dependency resolver does not currently take into account all the packages that are installed. This behaviour is the source of the following dependency conflicts.\n",
      "pyldavis 3.3.1 requires numpy>=1.20.0, but you have numpy 1.19.2 which is incompatible.\n",
      "google-colab 1.0.0 requires pandas~=1.1.0; python_version >= \"3.0\", but you have pandas 1.3.1 which is incompatible.\n",
      "albumentations 0.1.12 requires imgaug<0.2.7,>=0.2.5, but you have imgaug 0.2.7 which is incompatible.\u001b[0m\n",
      "Successfully installed numpy-1.19.2\n"
     ]
    },
    {
     "data": {
      "application/vnd.colab-display-data+json": {
       "pip_warning": {
        "packages": [
         "numpy"
        ]
       }
      }
     },
     "metadata": {
      "tags": []
     },
     "output_type": "display_data"
    }
   ],
   "source": [
    "pip install numpy==1.19.2"
   ]
  },
  {
   "cell_type": "code",
   "execution_count": null,
   "metadata": {
    "colab": {
     "base_uri": "https://localhost:8080/",
     "height": 373
    },
    "id": "mswCuD2jvtpV",
    "outputId": "2b5297c0-648e-4164-fde9-c0cff899158e"
   },
   "outputs": [
    {
     "name": "stdout",
     "output_type": "stream",
     "text": [
      "Collecting pandas==1.1.0\n",
      "  Using cached pandas-1.1.0-cp37-cp37m-manylinux1_x86_64.whl (10.5 MB)\n",
      "Requirement already satisfied: numpy>=1.15.4 in /usr/local/lib/python3.7/dist-packages (from pandas==1.1.0) (1.19.2)\n",
      "Requirement already satisfied: python-dateutil>=2.7.3 in /usr/local/lib/python3.7/dist-packages (from pandas==1.1.0) (2.8.1)\n",
      "Requirement already satisfied: pytz>=2017.2 in /usr/local/lib/python3.7/dist-packages (from pandas==1.1.0) (2018.9)\n",
      "Requirement already satisfied: six>=1.5 in /usr/local/lib/python3.7/dist-packages (from python-dateutil>=2.7.3->pandas==1.1.0) (1.15.0)\n",
      "Installing collected packages: pandas\n",
      "  Attempting uninstall: pandas\n",
      "    Found existing installation: pandas 1.3.1\n",
      "    Uninstalling pandas-1.3.1:\n",
      "      Successfully uninstalled pandas-1.3.1\n",
      "\u001b[31mERROR: pip's dependency resolver does not currently take into account all the packages that are installed. This behaviour is the source of the following dependency conflicts.\n",
      "pyldavis 3.3.1 requires numpy>=1.20.0, but you have numpy 1.19.2 which is incompatible.\n",
      "pyldavis 3.3.1 requires pandas>=1.2.0, but you have pandas 1.1.0 which is incompatible.\u001b[0m\n",
      "Successfully installed pandas-1.1.0\n"
     ]
    },
    {
     "data": {
      "application/vnd.colab-display-data+json": {
       "pip_warning": {
        "packages": [
         "pandas"
        ]
       }
      }
     },
     "metadata": {
      "tags": []
     },
     "output_type": "display_data"
    }
   ],
   "source": [
    "pip install pandas==1.1.0"
   ]
  },
  {
   "cell_type": "code",
   "execution_count": null,
   "metadata": {
    "colab": {
     "base_uri": "https://localhost:8080/"
    },
    "id": "ZLRVX_nqvyni",
    "outputId": "d8b59098-d4dd-47f8-8cf6-e1fed8a82afb"
   },
   "outputs": [
    {
     "name": "stdout",
     "output_type": "stream",
     "text": [
      "Requirement already satisfied: folium==0.2.1 in /usr/local/lib/python3.7/dist-packages (0.2.1)\n",
      "Requirement already satisfied: Jinja2 in /usr/local/lib/python3.7/dist-packages (from folium==0.2.1) (2.11.3)\n",
      "Requirement already satisfied: MarkupSafe>=0.23 in /usr/local/lib/python3.7/dist-packages (from Jinja2->folium==0.2.1) (2.0.1)\n"
     ]
    }
   ],
   "source": [
    "pip install folium==0.2.1"
   ]
  },
  {
   "cell_type": "code",
   "execution_count": null,
   "metadata": {
    "colab": {
     "base_uri": "https://localhost:8080/"
    },
    "id": "k79Ru7Nuv01h",
    "outputId": "fd097e97-3ef3-4249-f0ad-1bd0963f210a"
   },
   "outputs": [
    {
     "name": "stdout",
     "output_type": "stream",
     "text": [
      "Requirement already satisfied: imgaug==0.2.7 in /usr/local/lib/python3.7/dist-packages (0.2.7)\n",
      "Requirement already satisfied: scipy in /usr/local/lib/python3.7/dist-packages (from imgaug==0.2.7) (1.4.1)\n",
      "Requirement already satisfied: Shapely in /usr/local/lib/python3.7/dist-packages (from imgaug==0.2.7) (1.7.1)\n",
      "Requirement already satisfied: six in /usr/local/lib/python3.7/dist-packages (from imgaug==0.2.7) (1.15.0)\n",
      "Requirement already satisfied: numpy>=1.7.0 in /usr/local/lib/python3.7/dist-packages (from imgaug==0.2.7) (1.19.2)\n",
      "Requirement already satisfied: matplotlib in /usr/local/lib/python3.7/dist-packages (from imgaug==0.2.7) (3.2.2)\n",
      "Requirement already satisfied: imageio in /usr/local/lib/python3.7/dist-packages (from imgaug==0.2.7) (2.4.1)\n",
      "Requirement already satisfied: Pillow in /usr/local/lib/python3.7/dist-packages (from imgaug==0.2.7) (7.1.2)\n",
      "Requirement already satisfied: scikit-image>=0.11.0 in /usr/local/lib/python3.7/dist-packages (from imgaug==0.2.7) (0.16.2)\n",
      "Requirement already satisfied: PyWavelets>=0.4.0 in /usr/local/lib/python3.7/dist-packages (from scikit-image>=0.11.0->imgaug==0.2.7) (1.1.1)\n",
      "Requirement already satisfied: networkx>=2.0 in /usr/local/lib/python3.7/dist-packages (from scikit-image>=0.11.0->imgaug==0.2.7) (2.5.1)\n",
      "Requirement already satisfied: python-dateutil>=2.1 in /usr/local/lib/python3.7/dist-packages (from matplotlib->imgaug==0.2.7) (2.8.1)\n",
      "Requirement already satisfied: pyparsing!=2.0.4,!=2.1.2,!=2.1.6,>=2.0.1 in /usr/local/lib/python3.7/dist-packages (from matplotlib->imgaug==0.2.7) (2.4.7)\n",
      "Requirement already satisfied: kiwisolver>=1.0.1 in /usr/local/lib/python3.7/dist-packages (from matplotlib->imgaug==0.2.7) (1.3.1)\n",
      "Requirement already satisfied: cycler>=0.10 in /usr/local/lib/python3.7/dist-packages (from matplotlib->imgaug==0.2.7) (0.10.0)\n",
      "Requirement already satisfied: decorator<5,>=4.3 in /usr/local/lib/python3.7/dist-packages (from networkx>=2.0->scikit-image>=0.11.0->imgaug==0.2.7) (4.4.2)\n"
     ]
    }
   ],
   "source": [
    "pip install imgaug==0.2.7"
   ]
  },
  {
   "cell_type": "code",
   "execution_count": null,
   "metadata": {
    "colab": {
     "base_uri": "https://localhost:8080/"
    },
    "id": "Z5r9sFNJv3K4",
    "outputId": "7b59f490-cfe2-4b44-928a-8e09fe43e647"
   },
   "outputs": [
    {
     "name": "stdout",
     "output_type": "stream",
     "text": [
      "Requirement already satisfied: gensim in /usr/local/lib/python3.7/dist-packages (3.6.0)\n",
      "Requirement already satisfied: scipy>=0.18.1 in /usr/local/lib/python3.7/dist-packages (from gensim) (1.4.1)\n",
      "Requirement already satisfied: six>=1.5.0 in /usr/local/lib/python3.7/dist-packages (from gensim) (1.15.0)\n",
      "Requirement already satisfied: smart-open>=1.2.1 in /usr/local/lib/python3.7/dist-packages (from gensim) (5.1.0)\n",
      "Requirement already satisfied: numpy>=1.11.3 in /usr/local/lib/python3.7/dist-packages (from gensim) (1.19.2)\n"
     ]
    }
   ],
   "source": [
    "pip install gensim"
   ]
  },
  {
   "cell_type": "code",
   "execution_count": null,
   "metadata": {
    "id": "ZXdA7OtET0JH"
   },
   "outputs": [],
   "source": [
    "import pandas as pd\n",
    "import numpy as np\n",
    "import networkx as nx\n",
    "import itertools\n",
    "import collections\n",
    "import spacy\n",
    "from pprint import pprint\n",
    "\n",
    "# Plotting\n",
    "import matplotlib.pyplot as plt\n",
    "import seaborn as sns\n",
    "import pyLDAvis\n",
    "import pyLDAvis.gensim_models\n",
    "\n",
    "# Gensim\n",
    "import gensim\n",
    "import gensim.corpora as corpora\n",
    "from gensim.utils import simple_preprocess\n",
    "from gensim.models import CoherenceModel\n",
    "import subprocess\n",
    "from gensim.models.wrappers import LdaMallet\n",
    "\n",
    "# NLTK\n",
    "from nltk import bigrams\n",
    "from nltk.stem import PorterStemmer\n",
    "\n",
    "sns.set(font_scale=1.5)\n",
    "sns.set_style(\"whitegrid\")\n",
    "\n",
    "import warnings \n",
    "warnings.filterwarnings(\"ignore\", category=DeprecationWarning)\n",
    "\n",
    "%matplotlib inline"
   ]
  },
  {
   "cell_type": "markdown",
   "metadata": {
    "id": "AWEF9rcUU89y"
   },
   "source": [
    "# Import Pre-Processed Data"
   ]
  },
  {
   "cell_type": "code",
   "execution_count": null,
   "metadata": {
    "id": "OA-4wrDPUEko"
   },
   "outputs": [],
   "source": [
    "df = pd.read_pickle('/content/drive/MyDrive/YouTube-Project/pre-processed-reply-merge.pkl')"
   ]
  },
  {
   "cell_type": "code",
   "execution_count": null,
   "metadata": {
    "colab": {
     "base_uri": "https://localhost:8080/"
    },
    "id": "00o6qxtwVGUp",
    "outputId": "32f94879-d707-4a2a-9420-9092d75a621f"
   },
   "outputs": [
    {
     "data": {
      "text/plain": [
       "(47081, 10)"
      ]
     },
     "execution_count": 103,
     "metadata": {
      "tags": []
     },
     "output_type": "execute_result"
    }
   ],
   "source": [
    "df.shape"
   ]
  },
  {
   "cell_type": "code",
   "execution_count": null,
   "metadata": {
    "colab": {
     "base_uri": "https://localhost:8080/"
    },
    "id": "ax1E21wdVwyS",
    "outputId": "92c16424-bd62-4a59-ca8a-300ec6fbc438"
   },
   "outputs": [
    {
     "name": "stdout",
     "output_type": "stream",
     "text": [
      "channel\n",
      "name\n",
      "comment\n",
      "date\n",
      "time\n",
      "likes\n",
      "tidy_comment\n",
      "tidy_comment_tokens\n",
      "tokens_no_stop\n",
      "no_stop_joined\n"
     ]
    }
   ],
   "source": [
    "# iterating the columns\n",
    "for col in df.columns:\n",
    "    print(col)"
   ]
  },
  {
   "cell_type": "code",
   "execution_count": null,
   "metadata": {
    "colab": {
     "base_uri": "https://localhost:8080/"
    },
    "id": "USc070bpVIeM",
    "outputId": "9b0dd187-b884-4167-aac7-7252189003c2"
   },
   "outputs": [
    {
     "name": "stdout",
     "output_type": "stream",
     "text": [
      "       channel  ...                                     no_stop_joined\n",
      "0  Simplilearn  ...  enroll free machine learning course completion...\n",
      "1  Simplilearn  ...                         datasets email tanmaygarde\n",
      "2  Simplilearn  ...  watching sent requested dataset mail show love...\n",
      "3  Simplilearn  ...                   great request data reach nirbhay\n",
      "4  Simplilearn  ...  great tutorial could send datasets used tutori...\n",
      "5  Simplilearn  ...      possible dataset want implement codes advance\n",
      "6  Simplilearn  ...  hello viewing tutorial helpful provide email s...\n",
      "7  Simplilearn  ...   amazing tutorial simplilearn help datasets peppa\n",
      "8  Simplilearn  ...  great tutorial share datasets used mail somosreee\n",
      "9  Simplilearn  ...  nice tutorial send datasets used tutorial pros...\n",
      "\n",
      "[10 rows x 10 columns]\n"
     ]
    }
   ],
   "source": [
    "print(df.head(10))"
   ]
  },
  {
   "cell_type": "markdown",
   "metadata": {
    "id": "rX1N5-QaVkvr"
   },
   "source": [
    "# Bigrams\n"
   ]
  },
  {
   "cell_type": "code",
   "execution_count": null,
   "metadata": {
    "colab": {
     "base_uri": "https://localhost:8080/"
    },
    "id": "NMsZ8vN5VJoT",
    "outputId": "8d6305f2-9aae-4f99-c57c-c21daca194ce"
   },
   "outputs": [
    {
     "data": {
      "text/plain": [
       "[('enroll', 'free'),\n",
       " ('free', 'machine'),\n",
       " ('machine', 'learning'),\n",
       " ('learning', 'course'),\n",
       " ('course', 'completion'),\n",
       " ('completion', 'certificate')]"
      ]
     },
     "execution_count": 106,
     "metadata": {
      "tags": []
     },
     "output_type": "execute_result"
    }
   ],
   "source": [
    "# Create list of lists containing bigrams in comments\n",
    "terms_bigram = [list(bigrams(comment)) for comment in df['tokens_no_stop']]\n",
    "\n",
    "# View bigrams for the first comment\n",
    "terms_bigram[0]"
   ]
  },
  {
   "cell_type": "code",
   "execution_count": null,
   "metadata": {
    "id": "CO5p8HHkV00Z"
   },
   "outputs": [],
   "source": [
    "# Flatten list of bigrams in clean comments\n",
    "bigrams = list(itertools.chain(*terms_bigram))"
   ]
  },
  {
   "cell_type": "code",
   "execution_count": null,
   "metadata": {
    "id": "RJGu5UkFV3SC"
   },
   "outputs": [],
   "source": [
    "# Create counter of words in clean bigrams\n",
    "bigram_counts = collections.Counter(bigrams)"
   ]
  },
  {
   "cell_type": "code",
   "execution_count": null,
   "metadata": {
    "id": "0HgjIFjvV42P"
   },
   "outputs": [],
   "source": [
    "bigram_df = pd.DataFrame(bigram_counts.most_common(25), columns=['bigram', 'count'])\n",
    "# bigram_df = pd.DataFrame(bigram_counts.most_common(), columns=['bigram', 'count'])"
   ]
  },
  {
   "cell_type": "code",
   "execution_count": null,
   "metadata": {
    "colab": {
     "base_uri": "https://localhost:8080/"
    },
    "id": "9xm1EaZHV6yt",
    "outputId": "0f12c7d4-5511-4da3-9ee9-69fe21fcfc81"
   },
   "outputs": [
    {
     "data": {
      "text/plain": [
       "277438"
      ]
     },
     "execution_count": 110,
     "metadata": {
      "tags": []
     },
     "output_type": "execute_result"
    }
   ],
   "source": [
    "len(bigram_counts)\n"
   ]
  },
  {
   "cell_type": "code",
   "execution_count": null,
   "metadata": {
    "colab": {
     "base_uri": "https://localhost:8080/"
    },
    "id": "w_1FivglK5D7",
    "outputId": "68a1524f-390b-4ec3-b777-4798eb4b06ed"
   },
   "outputs": [
    {
     "data": {
      "text/plain": [
       "Index(['bigram', 'count'], dtype='object')"
      ]
     },
     "execution_count": 111,
     "metadata": {
      "tags": []
     },
     "output_type": "execute_result"
    }
   ],
   "source": [
    "bigram_df.columns"
   ]
  },
  {
   "cell_type": "code",
   "execution_count": null,
   "metadata": {
    "colab": {
     "base_uri": "https://localhost:8080/"
    },
    "id": "8czpKKpKV8fF",
    "outputId": "e628bcdb-ae44-403b-aa08-fbe89f86ceb8"
   },
   "outputs": [
    {
     "name": "stdout",
     "output_type": "stream",
     "text": [
      "                    bigram  count\n",
      "0      (machine, learning)   2363\n",
      "1          (data, science)   1857\n",
      "2     (requested, dataset)   1255\n",
      "3          (dataset, mail)   1040\n",
      "4        (neural, network)    857\n",
      "5            (could, send)    822\n",
      "6     (subscribe, channel)    815\n",
      "7        (sent, requested)    777\n",
      "8          (send, dataset)    734\n",
      "9         (deep, learning)    653\n",
      "10         (josh, starmer)    618\n",
      "11      (neural, networks)    579\n",
      "12            (send, data)    518\n",
      "13  (supervised, learning)    505\n",
      "14       (mail, subscribe)    467\n",
      "15       (great, tutorial)    466\n",
      "16        (provide, email)    462\n",
      "17        (watching, sent)    457\n",
      "18    (develops, emotions)    453\n",
      "19       (send, requested)    440\n",
      "20      (helpful, provide)    439\n",
      "21     (object, detection)    436\n",
      "22          (email, could)    432\n",
      "23     (dataset, promptly)    430\n",
      "24       (data, scientist)    429\n"
     ]
    }
   ],
   "source": [
    "print(bigram_df)"
   ]
  },
  {
   "cell_type": "code",
   "execution_count": null,
   "metadata": {
    "id": "p2vSMSJCJtLw"
   },
   "outputs": [],
   "source": [
    "bigram_df.to_excel('bigrams.xlsx', sheet_name='Sheet1')"
   ]
  },
  {
   "cell_type": "code",
   "execution_count": null,
   "metadata": {
    "colab": {
     "base_uri": "https://localhost:8080/",
     "height": 790
    },
    "id": "YQwv8j7aV-UH",
    "outputId": "1d883194-5ada-4977-e734-de7e069e5085"
   },
   "outputs": [
    {
     "name": "stdout",
     "output_type": "stream",
     "text": [
      "Number of Bigrams Identified 25\n"
     ]
    },
    {
     "data": {
      "image/png": "[encoded data removed]",
      "text/plain": [
       "<Figure size 864x720 with 1 Axes>"
      ]
     },
     "metadata": {
      "tags": []
     },
     "output_type": "display_data"
    }
   ],
   "source": [
    "bigram_label = ['machine - learning','data - science', 'requested - dataset', 'dataset - mail','neural - network',\n",
    "                'could - send', 'subscribe - channel','sent - requested','send - dataset','deep - learning',\n",
    "                'josh - starmer','neural - networks','send - data', 'supervised - learning','mail - subscribe',\n",
    "                'great - tutorial','provide - email','watching - sent','develops - emotions','send - requested',\n",
    "                'helpful - provide','object - detection','email - could','dataset - promptly', 'data - scientist']\n",
    "bigram_freq = bigram_df['count'].head(25)\n",
    "index = np.arange(len(bigram_freq))\n",
    "\n",
    "print(\"Number of Bigrams Identified\", len(bigram_df))\n",
    "plt.figure(figsize=(12,10))\n",
    "plt.bar(index, bigram_freq, alpha=0.8, color= 'green')\n",
    "plt.xlabel('Bigrams', fontsize=13)\n",
    "plt.ylabel('Frequency', fontsize=13)\n",
    "plt.xticks(index, bigram_label, fontsize=13, rotation=90, fontweight=\"bold\") \n",
    "plt.title('Top 25 Bigrams', fontsize=14, fontweight=\"bold\")\n",
    "plt.show()"
   ]
  },
  {
   "cell_type": "markdown",
   "metadata": {
    "id": "h712fIYhYLjr"
   },
   "source": [
    "# Visualize bigrams"
   ]
  },
  {
   "cell_type": "code",
   "execution_count": null,
   "metadata": {
    "colab": {
     "base_uri": "https://localhost:8080/",
     "height": 905
    },
    "id": "XrxaQHhRTk4c",
    "outputId": "e01236b6-c16e-4462-9ae7-e105ea59292c"
   },
   "outputs": [
    {
     "data": {
      "image/png": "[encoded data removed]",
      "text/plain": [
       "<Figure size 1440x1152 with 1 Axes>"
      ]
     },
     "metadata": {
      "tags": []
     },
     "output_type": "display_data"
    }
   ],
   "source": [
    "# Create dictionary of bigrams and their counts\n",
    "d = bigram_df.set_index('bigram').T.to_dict('records')\n",
    "# Create network plot \n",
    "G = nx.Graph()\n",
    "\n",
    "# Create connections between nodes\n",
    "for k, v in d[0].items():\n",
    "    G.add_edge(k[0], k[1], weight=(v * 5))\n",
    "\n",
    "fig, ax = plt.subplots(figsize=(20, 16))\n",
    "\n",
    "pos = nx.spring_layout(G, k=2)\n",
    "\n",
    "# Plot networks\n",
    "nx.draw_networkx(G, pos,\n",
    "                 font_size=10,\n",
    "                 width=5,\n",
    "                 edge_color='grey',\n",
    "                 node_color='blue',\n",
    "                 with_labels = False,\n",
    "                 ax=ax)\n",
    "\n",
    "# Create offset labels\n",
    "for key, value in pos.items():\n",
    "    x, y = value[0]+.135, value[1]+.065\n",
    "    ax.text(x, y,\n",
    "            s=key,\n",
    "            bbox=dict(facecolor='red', alpha=0.15),\n",
    "            horizontalalignment='center', fontsize=14)\n",
    "    \n",
    "plt.show()"
   ]
  },
  {
   "cell_type": "markdown",
   "metadata": {
    "id": "9l6dA3vPYeMa"
   },
   "source": [
    "# Bigrams and Trigrams"
   ]
  },
  {
   "cell_type": "code",
   "execution_count": null,
   "metadata": {
    "id": "zT13LZxSYPGT"
   },
   "outputs": [],
   "source": [
    "data = df.no_stop_joined.values.tolist()"
   ]
  },
  {
   "cell_type": "code",
   "execution_count": null,
   "metadata": {
    "colab": {
     "base_uri": "https://localhost:8080/"
    },
    "id": "L4FIE4skYg2P",
    "outputId": "80884cac-0647-4667-c24b-f25deeacff60"
   },
   "outputs": [
    {
     "name": "stdout",
     "output_type": "stream",
     "text": [
      "['enroll free machine learning course completion certificate']\n"
     ]
    }
   ],
   "source": [
    "print(data[:1])"
   ]
  },
  {
   "cell_type": "markdown",
   "metadata": {
    "id": "7DKOm1tzYoPT"
   },
   "source": [
    "# Tokenize"
   ]
  },
  {
   "cell_type": "code",
   "execution_count": null,
   "metadata": {
    "id": "4oZ1ZqSNYi1E"
   },
   "outputs": [],
   "source": [
    "def sent_to_words(sentences):\n",
    "    for sentence in sentences:\n",
    "        yield(gensim.utils.simple_preprocess(str(sentence), deacc=True))  # deacc=True removes punctuations"
   ]
  },
  {
   "cell_type": "code",
   "execution_count": null,
   "metadata": {
    "colab": {
     "base_uri": "https://localhost:8080/"
    },
    "id": "3C2E-juMYsfh",
    "outputId": "f4f9f5c9-e993-41b7-bb97-ef8fd2057c37"
   },
   "outputs": [
    {
     "name": "stdout",
     "output_type": "stream",
     "text": [
      "[['great', 'tutorial', 'helpful', 'course', 'could', 'send', 'datasets', 'used', 'tutorial', 'anshufirefox', 'hungry'], ['provide', 'files', 'singhabhi'], ['wonderful', 'content', 'could', 'send', 'data', 'fabioaosti'], ['much', 'could', 'email', 'data', 'sets', 'used', 'tutorial', 'email', 'zakaria', 'farah'], ['simplilearn', 'provide', 'datasets', 'emailid', 'tuhinkumar'], ['great', 'could', 'share', 'datasets', 'stest'], ['really', 'great', 'tutorial'], ['able', 'send', 'datasets', 'docs', 'implement', 'code', 'email', 'alsacemu'], ['tutorial', 'send', 'data', 'ariamehr'], ['absolutely', 'amazing', 'datasets', 'email', 'maithanhhuy'], ['simplilearn', 'tutorial', 'send', 'data', 'sets', 'power', 'point', 'used', 'tutorial', 'email', 'prasadjs', 'practice', 'implement'], ['provide', 'data', 'used', 'tutorial', 'shashanktr', 'emailid'], ['thankyou', 'tutorial', 'send', 'datasets', 'email', 'rajeshwarsingh'], ['helpful', 'share', 'datasets', 'used', 'tutorials', 'email', 'srivatsanraman'], ['much', 'tutorial', 'helped', 'could', 'share', 'dataset', 'file', 'agarwal', 'harsh', 'helpful', 'simplilearn'], ['nice', 'tutorial', 'send', 'datafile', 'amtmody'], ['amazing', 'like', 'datasets', 'soseiappiah'], ['also', 'means', 'example', 'load', 'china', 'flower', 'image', 'actually', 'taking', 'images', 'confused', 'wanted', 'compress', 'image'], ['code', 'predicting', 'digits', 'logistic', 'regression', 'importing', 'libraries', 'load', 'digits', 'wanted', 'understand', 'something', 'load', 'digits', 'type', 'load', 'digits', 'directory', 'taking', 'digits'], ['great', 'tutorial', 'could', 'share', 'datasets', 'used', 'alexanderpromel'], ['coud', 'send', 'source', 'code', 'vidio', 'birhanut', 'advance'], ['much', 'interesting', 'tutorial', 'machine', 'learning', 'kindly', 'share', 'datasets', 'ipynb', 'files', 'used', 'anandpandey', 'helpful'], ['amazing', 'tutorial', 'found', 'useful', 'beginner', 'could', 'help', 'send', 'datasets', 'applied', 'kennyckk', 'appreciate'], ['could', 'dataset', 'shared', 'email', 'artherius'], ['share', 'datasets', 'files', 'required', 'code', 'email', 'santhvenkat'], ['great', 'tutorial', 'ever', 'found', 'youtube', 'sharing', 'valuable', 'time', 'knowledge', 'great', 'practice', 'datasets', 'description'], ['team', 'could', 'send', 'datasets', 'used', 'well', 'email'], ['good', 'tutorial', 'send', 'datasets', 'needed', 'bhimda'], ['send', 'data', 'email', 'krishna'], ['send', 'data', 'affan'], ['want', 'dataset', 'file', 'though'], ['great', 'tutorial', 'effort', 'really', 'appreciated', 'course', 'easy', 'follow', 'access', 'datasets', 'natalia', 'many'], ['hello', 'possible', 'required', 'tutorial', 'email', 'adress', 'younghaitian']]\n"
     ]
    }
   ],
   "source": [
    "data_words = list(sent_to_words(data))\n",
    "\n",
    "print(data_words[125:158])"
   ]
  },
  {
   "cell_type": "markdown",
   "metadata": {
    "id": "Bc6wI7S_YyHT"
   },
   "source": [
    "# Make Bigrams and Trigrams"
   ]
  },
  {
   "cell_type": "code",
   "execution_count": null,
   "metadata": {
    "colab": {
     "base_uri": "https://localhost:8080/"
    },
    "id": "aSivr3u1Yu0P",
    "outputId": "222f1429-0199-43d3-b83e-c6f18588d182"
   },
   "outputs": [
    {
     "name": "stderr",
     "output_type": "stream",
     "text": [
      "/usr/local/lib/python3.7/dist-packages/gensim/models/phrases.py:598: UserWarning: For a faster implementation, use the gensim.models.phrases.Phraser class\n",
      "  warnings.warn(\"For a faster implementation, use the gensim.models.phrases.Phraser class\")\n"
     ]
    }
   ],
   "source": [
    "# Build the bigram and trigram model\n",
    "bigram = gensim.models.Phrases(data_words, min_count=10, threshold=100)\n",
    "trigram = gensim.models.Phrases(bigram[data_words], threshold=100)\n",
    "\n",
    "# Faster way to get a sentence clubbed as a bigram\n",
    "bigram_mod = gensim.models.phrases.Phraser(bigram)\n",
    "trigram_mod = gensim.models.phrases.Phraser(trigram)"
   ]
  },
  {
   "cell_type": "code",
   "execution_count": null,
   "metadata": {
    "colab": {
     "base_uri": "https://localhost:8080/"
    },
    "id": "f-TLR7O3Y0in",
    "outputId": "a4d58fb8-f430-4028-a0ce-23fd83729df7"
   },
   "outputs": [
    {
     "name": "stdout",
     "output_type": "stream",
     "text": [
      "['possible', 'dataset', 'want', 'implement', 'codes', 'advance']\n"
     ]
    }
   ],
   "source": [
    "# See trigram example\n",
    "print(trigram_mod[bigram_mod[data_words[5]]])"
   ]
  },
  {
   "cell_type": "code",
   "execution_count": null,
   "metadata": {
    "id": "mTed2j9hY4Hn"
   },
   "outputs": [],
   "source": [
    "def make_bigrams(texts):\n",
    "    return [bigram_mod[doc] for doc in texts]\n",
    "\n",
    "def make_trigrams(texts):\n",
    "    return [trigram_mod[bigram_mod[doc]] for doc in texts]"
   ]
  },
  {
   "cell_type": "code",
   "execution_count": null,
   "metadata": {
    "id": "tNDLdn3OY6ZK"
   },
   "outputs": [],
   "source": [
    "# Form Bigrams\n",
    "data_words_bigrams = make_bigrams(data_words)"
   ]
  },
  {
   "cell_type": "markdown",
   "metadata": {
    "id": "j-2BSLvpY_by"
   },
   "source": [
    "# Lemmatization"
   ]
  },
  {
   "cell_type": "code",
   "execution_count": null,
   "metadata": {
    "id": "m8u_8XNVY78U"
   },
   "outputs": [],
   "source": [
    "def lemmatization(comment, allowed_postags=['NOUN', 'ADJ', 'VERB', 'ADV']):\n",
    "    \"\"\"https://spacy.io/api/annotation\"\"\"\n",
    "    comment_out = []\n",
    "    for sent in comment:\n",
    "        doc = nlp(\" \".join(sent)) \n",
    "        comment_out.append([token.lemma_ for token in doc if token.pos_ in allowed_postags])\n",
    "    return comment_out"
   ]
  },
  {
   "cell_type": "code",
   "execution_count": null,
   "metadata": {
    "id": "D6d72scuZDkU"
   },
   "outputs": [],
   "source": [
    "# Initialize spacy 'en' model, keeping only tagger component (for efficiency)\n",
    "# python3 -m spacy download en\n",
    "nlp = spacy.load('en', disable=['parser', 'ner'])"
   ]
  },
  {
   "cell_type": "code",
   "execution_count": null,
   "metadata": {
    "id": "TA3anNqTZFMm"
   },
   "outputs": [],
   "source": [
    "# Do lemmatization keeping only noun, adj, vb, adv\n",
    "df['lemmatized'] = pd.Series(lemmatization(data_words_bigrams, allowed_postags=['NOUN', 'ADJ', 'VERB', 'ADV']))"
   ]
  },
  {
   "cell_type": "code",
   "execution_count": null,
   "metadata": {
    "colab": {
     "base_uri": "https://localhost:8080/"
    },
    "id": "8mHTt-GxZH1z",
    "outputId": "5a94b7e4-5e00-4c17-c9b4-ae39e9e4f0f6"
   },
   "outputs": [
    {
     "name": "stdout",
     "output_type": "stream",
     "text": [
      "           channel  ...                                         lemmatized\n",
      "0      Simplilearn  ...             [enroll, free, machine, learn, course]\n",
      "1      Simplilearn  ...                                                 []\n",
      "2      Simplilearn  ...  [watch, dataset, mail, show, channel, use, but...\n",
      "3      Simplilearn  ...                                     [datum, reach]\n",
      "4      Simplilearn  ...  [great, tutorial, could, send, dataset, use, t...\n",
      "...            ...  ...                                                ...\n",
      "47076      Telusko  ...           [google, rest, coincidentally, uploaded]\n",
      "47077      Telusko  ...                                [angular, tutorial]\n",
      "47078      Telusko  ...                                [wait, next, video]\n",
      "47079      Telusko  ...              [upload, datum, structure, algorithm]\n",
      "47080      Telusko  ...                     [make, playlist, advance, use]\n",
      "\n",
      "[47081 rows x 11 columns]\n"
     ]
    }
   ],
   "source": [
    "print(df)"
   ]
  },
  {
   "cell_type": "code",
   "execution_count": null,
   "metadata": {
    "colab": {
     "base_uri": "https://localhost:8080/"
    },
    "id": "XkXWx_MidWvg",
    "outputId": "3949a947-598b-4717-e5ce-a416b1f7485c"
   },
   "outputs": [
    {
     "name": "stdout",
     "output_type": "stream",
     "text": [
      "<class 'pandas.core.frame.DataFrame'>\n",
      "RangeIndex: 47081 entries, 0 to 47080\n",
      "Data columns (total 11 columns):\n",
      " #   Column               Non-Null Count  Dtype \n",
      "---  ------               --------------  ----- \n",
      " 0   channel              47081 non-null  object\n",
      " 1   name                 47080 non-null  object\n",
      " 2   comment              47081 non-null  object\n",
      " 3   date                 47081 non-null  object\n",
      " 4   time                 47081 non-null  object\n",
      " 5   likes                47081 non-null  int64 \n",
      " 6   tidy_comment         47081 non-null  object\n",
      " 7   tidy_comment_tokens  47081 non-null  object\n",
      " 8   tokens_no_stop       47081 non-null  object\n",
      " 9   no_stop_joined       47081 non-null  object\n",
      " 10  lemmatized           47081 non-null  object\n",
      "dtypes: int64(1), object(10)\n",
      "memory usage: 4.0+ MB\n"
     ]
    }
   ],
   "source": [
    "df.info()"
   ]
  },
  {
   "cell_type": "markdown",
   "metadata": {
    "id": "4QMSTqphgD9E"
   },
   "source": [
    "# Stemming"
   ]
  },
  {
   "cell_type": "code",
   "execution_count": null,
   "metadata": {
    "id": "I1bUtQyIgABQ"
   },
   "outputs": [],
   "source": [
    "stemmer = PorterStemmer()"
   ]
  },
  {
   "cell_type": "code",
   "execution_count": null,
   "metadata": {
    "id": "z3vPr9YngGaP"
   },
   "outputs": [],
   "source": [
    "df['stemmed'] = df['lemmatized'].apply(lambda x : [stemmer.stem(y) for y in x])"
   ]
  },
  {
   "cell_type": "code",
   "execution_count": null,
   "metadata": {
    "colab": {
     "base_uri": "https://localhost:8080/"
    },
    "id": "yqgVynqJgJxS",
    "outputId": "31f349e9-a3c3-48c5-efdb-34db6620aae0"
   },
   "outputs": [
    {
     "name": "stdout",
     "output_type": "stream",
     "text": [
      "           channel  ...                                            stemmed\n",
      "0      Simplilearn  ...                [enrol, free, machin, learn, cours]\n",
      "1      Simplilearn  ...                                                 []\n",
      "2      Simplilearn  ...  [watch, dataset, mail, show, channel, use, but...\n",
      "3      Simplilearn  ...                                     [datum, reach]\n",
      "4      Simplilearn  ...  [great, tutori, could, send, dataset, use, tut...\n",
      "...            ...  ...                                                ...\n",
      "47076      Telusko  ...                  [googl, rest, coincident, upload]\n",
      "47077      Telusko  ...                                  [angular, tutori]\n",
      "47078      Telusko  ...                                [wait, next, video]\n",
      "47079      Telusko  ...               [upload, datum, structur, algorithm]\n",
      "47080      Telusko  ...                      [make, playlist, advanc, use]\n",
      "\n",
      "[47081 rows x 12 columns]\n"
     ]
    }
   ],
   "source": [
    "print(df)"
   ]
  },
  {
   "cell_type": "markdown",
   "metadata": {
    "id": "OKxLOi-qgfaj"
   },
   "source": [
    "# Create Dictionary and Corpus"
   ]
  },
  {
   "cell_type": "code",
   "execution_count": null,
   "metadata": {
    "id": "dWf41R_8gOFR"
   },
   "outputs": [],
   "source": [
    "# Create Dictionary\n",
    "id2word_stemmed = corpora.Dictionary(df['stemmed'])"
   ]
  },
  {
   "cell_type": "code",
   "execution_count": null,
   "metadata": {
    "id": "HEKFSZN4giUp"
   },
   "outputs": [],
   "source": [
    "# Create Dictionary\n",
    "id2word_lemma = corpora.Dictionary(df['tokens_no_stop'])"
   ]
  },
  {
   "cell_type": "code",
   "execution_count": null,
   "metadata": {
    "id": "_GE-RW1mgkJu"
   },
   "outputs": [],
   "source": [
    "# Create Dictionary\n",
    "id2word_tidy = corpora.Dictionary(df['tidy_comment_tokens'])"
   ]
  },
  {
   "cell_type": "code",
   "execution_count": null,
   "metadata": {
    "colab": {
     "base_uri": "https://localhost:8080/"
    },
    "id": "oJSnAyypglni",
    "outputId": "3cf7d400-8e3b-479f-e98b-cf4943912248"
   },
   "outputs": [
    {
     "name": "stdout",
     "output_type": "stream",
     "text": [
      "Dictionary(13246 unique tokens: ['cours', 'enrol', 'free', 'learn', 'machin']...)\n"
     ]
    }
   ],
   "source": [
    "print(id2word_stemmed)"
   ]
  },
  {
   "cell_type": "code",
   "execution_count": null,
   "metadata": {
    "colab": {
     "base_uri": "https://localhost:8080/"
    },
    "id": "-0fayx1JgnzA",
    "outputId": "cf2b5da8-4985-4a81-e891-66752a09aac8"
   },
   "outputs": [
    {
     "name": "stdout",
     "output_type": "stream",
     "text": [
      "Dictionary(29222 unique tokens: ['certificate', 'completion', 'course', 'enroll', 'free']...)\n"
     ]
    }
   ],
   "source": [
    "print(id2word_lemma)"
   ]
  },
  {
   "cell_type": "code",
   "execution_count": null,
   "metadata": {
    "colab": {
     "base_uri": "https://localhost:8080/"
    },
    "id": "k4d2FPEDgp_M",
    "outputId": "175f97ee-2ec2-45c5-c000-4827e8cb7c02"
   },
   "outputs": [
    {
     "name": "stdout",
     "output_type": "stream",
     "text": [
      "Dictionary(29313 unique tokens: ['certificate', 'completion', 'course', 'enroll', 'free']...)\n"
     ]
    }
   ],
   "source": [
    "print(id2word_tidy)"
   ]
  },
  {
   "cell_type": "code",
   "execution_count": null,
   "metadata": {
    "id": "-AhFdV7sgryq"
   },
   "outputs": [],
   "source": [
    "# Create Corpus\n",
    "comment_stemmed = df['stemmed']"
   ]
  },
  {
   "cell_type": "code",
   "execution_count": null,
   "metadata": {
    "colab": {
     "base_uri": "https://localhost:8080/"
    },
    "id": "LEUCPc6Egtqq",
    "outputId": "477d97e3-bd4c-4de1-ea7a-ee5ac09829dc"
   },
   "outputs": [
    {
     "data": {
      "text/plain": [
       "['teach',\n",
       " 'superb',\n",
       " 'even',\n",
       " 'person',\n",
       " 'proper',\n",
       " 'infact',\n",
       " 'first',\n",
       " 'sensit',\n",
       " 'specif',\n",
       " 'accuraci',\n",
       " 'threshold_valu',\n",
       " 'cover',\n",
       " 'session',\n",
       " 'take',\n",
       " 'wide',\n",
       " 'exampl',\n",
       " 'logist',\n",
       " 'clear',\n",
       " 'good',\n",
       " 'switch',\n",
       " 'machin',\n",
       " 'learn',\n",
       " 'cours']"
      ]
     },
     "execution_count": 139,
     "metadata": {
      "tags": []
     },
     "output_type": "execute_result"
    }
   ],
   "source": [
    "df['stemmed'][1267]"
   ]
  },
  {
   "cell_type": "code",
   "execution_count": null,
   "metadata": {
    "colab": {
     "base_uri": "https://localhost:8080/",
     "height": 85
    },
    "id": "oNtrNC1DgvK2",
    "outputId": "447db460-0fc3-4cda-e596-e05ecf0dfd96"
   },
   "outputs": [
    {
     "data": {
      "application/vnd.google.colaboratory.intrinsic+json": {
       "type": "string"
      },
      "text/plain": [
       "'Richard was great.. The way he taught Linear regression was superb even a person who doesn&#39;t have any knowledge of python can understand it. But Mohan is not a proper teacher. Infact first he should go with logistic regression and Sensitivity specificity accuracy threshold value but he doesn&#39;t covered that.. This session is only good becoz of Richard. Mohan you took a wide example for logistic first atleast clear us with binary logistic.. Sorry but not happy with Mohan&#39;s lecture.. And all the best Richard you are a gem. Now switching to some other machine learning course..'"
      ]
     },
     "execution_count": 140,
     "metadata": {
      "tags": []
     },
     "output_type": "execute_result"
    }
   ],
   "source": [
    "df['comment'][1267]"
   ]
  },
  {
   "cell_type": "code",
   "execution_count": null,
   "metadata": {
    "colab": {
     "base_uri": "https://localhost:8080/"
    },
    "id": "emjXw8__gypd",
    "outputId": "95ec7ddb-7b12-4a51-c2cc-90538b268c90"
   },
   "outputs": [
    {
     "data": {
      "text/plain": [
       "0                      [enrol, free, machin, learn, cours]\n",
       "1                                                       []\n",
       "2        [watch, dataset, mail, show, channel, use, but...\n",
       "3                                           [datum, reach]\n",
       "4        [great, tutori, could, send, dataset, use, tut...\n",
       "                               ...                        \n",
       "47076                    [googl, rest, coincident, upload]\n",
       "47077                                    [angular, tutori]\n",
       "47078                                  [wait, next, video]\n",
       "47079                 [upload, datum, structur, algorithm]\n",
       "47080                        [make, playlist, advanc, use]\n",
       "Name: stemmed, Length: 47081, dtype: object"
      ]
     },
     "execution_count": 141,
     "metadata": {
      "tags": []
     },
     "output_type": "execute_result"
    }
   ],
   "source": [
    "comment_stemmed"
   ]
  },
  {
   "cell_type": "code",
   "execution_count": null,
   "metadata": {
    "id": "2aMLVCB0g0Z9"
   },
   "outputs": [],
   "source": [
    "# Term Document Frequency\n",
    "corpus_stemmed = [id2word_stemmed.doc2bow(comment) for comment in comment_stemmed]"
   ]
  },
  {
   "cell_type": "code",
   "execution_count": null,
   "metadata": {
    "colab": {
     "base_uri": "https://localhost:8080/"
    },
    "id": "hhEbSwNHg3hN",
    "outputId": "54c32ef6-5c1b-4071-ecc4-136a2a797164"
   },
   "outputs": [
    {
     "name": "stdout",
     "output_type": "stream",
     "text": [
      "47081\n"
     ]
    }
   ],
   "source": [
    "print(len(corpus_stemmed))"
   ]
  },
  {
   "cell_type": "code",
   "execution_count": null,
   "metadata": {
    "colab": {
     "base_uri": "https://localhost:8080/"
    },
    "id": "4RLccCL_g7K9",
    "outputId": "54155440-34bc-4d8e-cfeb-a440fcff847e"
   },
   "outputs": [
    {
     "name": "stdout",
     "output_type": "stream",
     "text": [
      "[(119, 1), (178, 1), (241, 1)]\n"
     ]
    }
   ],
   "source": [
    "print(corpus_stemmed[36307])"
   ]
  },
  {
   "cell_type": "code",
   "execution_count": null,
   "metadata": {
    "colab": {
     "base_uri": "https://localhost:8080/"
    },
    "id": "2LcjPzt9g8YX",
    "outputId": "a9dc5ea7-1345-4a86-93d7-42ac9cb2bf45"
   },
   "outputs": [
    {
     "data": {
      "text/plain": [
       "[[('cours', 1), ('enrol', 1), ('free', 1), ('learn', 1), ('machin', 1)],\n",
       " [],\n",
       " [('button_wel', 1),\n",
       "  ('channel', 1),\n",
       "  ('cheer', 1),\n",
       "  ('dataset', 1),\n",
       "  ('mail', 1),\n",
       "  ('show', 1),\n",
       "  ('use', 1),\n",
       "  ('watch', 1)]]"
      ]
     },
     "execution_count": 145,
     "metadata": {
      "tags": []
     },
     "output_type": "execute_result"
    }
   ],
   "source": [
    "# Human readable format of corpus (term-frequency)\n",
    "[[(id2word_stemmed[id], freq) for id, freq in cp] for cp in corpus_stemmed[:3]]"
   ]
  },
  {
   "cell_type": "code",
   "execution_count": null,
   "metadata": {
    "id": "cTOmLVDvZ35J"
   },
   "outputs": [],
   "source": [
    "# #Creating Topic Distance Visualization \n",
    "# pyLDAvis.enable_notebook()\n",
    "# pyLDAvis.gensim_models.prepare(lda_model_stemmed, corpus_stemmed, id2word_stemmed)"
   ]
  },
  {
   "cell_type": "markdown",
   "metadata": {
    "id": "Jzi2vJhfhGV9"
   },
   "source": [
    "# Build the LDA Model"
   ]
  },
  {
   "cell_type": "code",
   "execution_count": null,
   "metadata": {
    "colab": {
     "background_save": true
    },
    "id": "Ia4Y7grUhDgf"
   },
   "outputs": [],
   "source": [
    "# Build LDA model\n",
    "lda_model_stemmed = gensim.models.ldamodel.LdaModel(corpus=corpus_stemmed,\n",
    "                                           id2word=id2word_stemmed,\n",
    "                                           num_topics=10, \n",
    "                                           random_state=100,\n",
    "                                           update_every=1,\n",
    "                                           chunksize=100,\n",
    "                                           passes=15,\n",
    "                                           alpha='auto',\n",
    "                                           per_word_topics=True)"
   ]
  },
  {
   "cell_type": "code",
   "execution_count": null,
   "metadata": {
    "colab": {
     "background_save": true,
     "base_uri": "https://localhost:8080/"
    },
    "id": "QwhX-pDUhKId",
    "outputId": "2cd0ea28-0edc-473e-a887-b8d25f18f628"
   },
   "outputs": [
    {
     "name": "stdout",
     "output_type": "stream",
     "text": [
      "[(0,\n",
      "  '0.025*\"error\" + 0.023*\"probabl\" + 0.023*\"take\" + 0.022*\"number\" + '\n",
      "  '0.020*\"mean\" + 0.020*\"predict\" + 0.016*\"get\" + 0.014*\"instal\" + '\n",
      "  '0.013*\"actual\" + 0.013*\"call\"'),\n",
      " (1,\n",
      "  '0.079*\"use\" + 0.074*\"great\" + 0.067*\"work\" + 0.058*\"explain\" + '\n",
      "  '0.057*\"cours\" + 0.042*\"test\" + 0.040*\"also\" + 0.035*\"well\" + 0.033*\"thing\" '\n",
      "  '+ 0.031*\"give\"'),\n",
      " (2,\n",
      "  '0.095*\"much\" + 0.074*\"rest\" + 0.056*\"love\" + 0.031*\"tensorflow\" + '\n",
      "  '0.029*\"awesom\" + 0.026*\"method\" + 0.026*\"even\" + 0.023*\"nice\" + '\n",
      "  '0.022*\"object\" + 0.020*\"stuff\"'),\n",
      " (3,\n",
      "  '0.171*\"help\" + 0.140*\"tutori\" + 0.096*\"could\" + 0.078*\"need\" + 0.037*\"do\" + '\n",
      "  '0.033*\"provid\" + 0.023*\"request\" + 0.021*\"like\" + 0.015*\"seri\" + '\n",
      "  '0.012*\"effort\"'),\n",
      " (4,\n",
      "  '0.103*\"learn\" + 0.093*\"model\" + 0.062*\"explan\" + 0.061*\"know\" + '\n",
      "  '0.052*\"want\" + 0.034*\"question\" + 0.028*\"tri\" + 0.024*\"right\" + '\n",
      "  '0.020*\"alway\" + 0.017*\"program\"'),\n",
      " (5,\n",
      "  '0.122*\"good\" + 0.069*\"datum\" + 0.053*\"time\" + 0.049*\"find\" + 0.028*\"go\" + '\n",
      "  '0.027*\"layer\" + 0.024*\"mani\" + 0.022*\"ever\" + 0.021*\"state\" + '\n",
      "  '0.017*\"variabl\"'),\n",
      " (6,\n",
      "  '0.101*\"think\" + 0.065*\"point\" + 0.051*\"tree\" + 0.039*\"send\" + '\n",
      "  '0.029*\"project\" + 0.023*\"kind\" + 0.020*\"year\" + 0.019*\"absolut\" + '\n",
      "  '0.015*\"email\" + 0.015*\"play\"'),\n",
      " (7,\n",
      "  '0.117*\"realli\" + 0.043*\"inform\" + 0.042*\"tell\" + 0.032*\"messag\" + '\n",
      "  '0.032*\"file\" + 0.031*\"data\" + 0.027*\"sampl\" + 0.026*\"resourc\" + '\n",
      "  '0.026*\"input\" + 0.023*\"final\"'),\n",
      " (8,\n",
      "  '0.060*\"watch\" + 0.046*\"keep\" + 0.046*\"valu\" + 0.045*\"look\" + 0.042*\"say\" + '\n",
      "  '0.039*\"word\" + 0.036*\"still\" + 0.034*\"creat\" + 0.029*\"save\" + '\n",
      "  '0.026*\"instead\"'),\n",
      " (9,\n",
      "  '0.074*\"make\" + 0.048*\"understand\" + 0.044*\"video\" + 0.031*\"train\" + '\n",
      "  '0.022*\"differ\" + 0.021*\"exampl\" + 0.019*\"teach\" + 0.019*\"peopl\" + '\n",
      "  '0.017*\"amaz\" + 0.017*\"start\"')]\n"
     ]
    }
   ],
   "source": [
    "pprint(lda_model_stemmed.print_topics())\n",
    "doc_lda_stemmed = lda_model_stemmed[corpus_stemmed]"
   ]
  },
  {
   "cell_type": "markdown",
   "metadata": {
    "id": "0ZlAxf_nipDl"
   },
   "source": [
    "# Model Perplexity and Coherence Score"
   ]
  },
  {
   "cell_type": "code",
   "execution_count": null,
   "metadata": {
    "colab": {
     "background_save": true
    },
    "id": "gWzdZFXYil4Q",
    "outputId": "37f85302-5175-43e5-c91b-37221b919e53"
   },
   "outputs": [
    {
     "name": "stdout",
     "output_type": "stream",
     "text": [
      "\n",
      "Perplexity:  -7.697790041568471\n",
      "\n",
      "Coherence Score:  0.413909745977321\n"
     ]
    }
   ],
   "source": [
    "# Compute Perplexity\n",
    "print('\\nPerplexity: ', lda_model_stemmed.log_perplexity(corpus_stemmed))  # a measure of how good the model is. lower the better.\n",
    "\n",
    "# Compute Coherence Score\n",
    "coherence_model_lda_stemmed = CoherenceModel(model=lda_model_stemmed, texts=df['stemmed'], dictionary=id2word_stemmed, coherence='c_v')\n",
    "coherence_lda_stemmed = coherence_model_lda_stemmed.get_coherence()\n",
    "print('\\nCoherence Score: ', coherence_lda_stemmed)"
   ]
  },
  {
   "cell_type": "code",
   "execution_count": null,
   "metadata": {
    "colab": {
     "background_save": true
    },
    "id": "aoKYNXkn3EFI"
   },
   "outputs": [],
   "source": [
    "lda_model_stemmed.save('gensim_model.gensim')"
   ]
  },
  {
   "cell_type": "markdown",
   "metadata": {
    "id": "Of-eQvLDiz5F"
   },
   "source": [
    "# Mallet Wrapper"
   ]
  },
  {
   "cell_type": "code",
   "execution_count": null,
   "metadata": {
    "colab": {
     "background_save": true
    },
    "id": "xBHecTL9wy-r",
    "outputId": "f9fa07ee-eb72-4863-fda8-57330e29de9d"
   },
   "outputs": [
    {
     "name": "stdout",
     "output_type": "stream",
     "text": [
      "--2021-08-07 19:44:39--  http://mallet.cs.umass.edu/dist/mallet-2.0.8.zip\n",
      "Resolving mallet.cs.umass.edu (mallet.cs.umass.edu)... 128.119.246.70\n",
      "Connecting to mallet.cs.umass.edu (mallet.cs.umass.edu)|128.119.246.70|:80... connected.\n",
      "HTTP request sent, awaiting response... 200 OK\n",
      "Length: 16184794 (15M) [application/zip]\n",
      "Saving to: ‘mallet-2.0.8.zip.1’\n",
      "\n",
      "mallet-2.0.8.zip.1  100%[===================>]  15.43M  11.8MB/s    in 1.3s    \n",
      "\n",
      "2021-08-07 19:44:40 (11.8 MB/s) - ‘mallet-2.0.8.zip.1’ saved [16184794/16184794]\n",
      "\n"
     ]
    }
   ],
   "source": [
    "!wget http://mallet.cs.umass.edu/dist/mallet-2.0.8.zip"
   ]
  },
  {
   "cell_type": "code",
   "execution_count": null,
   "metadata": {
    "colab": {
     "background_save": true
    },
    "id": "G6BCYJbWw3PX",
    "outputId": "384a71b9-1da4-49ad-923b-6b69b8d567ee"
   },
   "outputs": [
    {
     "name": "stdout",
     "output_type": "stream",
     "text": [
      "Archive:  mallet-2.0.8.zip\n",
      "replace mallet-2.0.8/bin/classifier2info? [y]es, [n]o, [A]ll, [N]one, [r]ename: "
     ]
    }
   ],
   "source": [
    "!unzip mallet-2.0.8.zip"
   ]
  },
  {
   "cell_type": "code",
   "execution_count": null,
   "metadata": {
    "id": "mBgETotuw7kQ"
   },
   "outputs": [],
   "source": [
    "mallet_path = '/content/mallet-2.0.8/bin/mallet'"
   ]
  },
  {
   "cell_type": "code",
   "execution_count": null,
   "metadata": {
    "id": "esqYoKK-itCs"
   },
   "outputs": [],
   "source": [
    "num_topics = 8\n",
    "ldamallet_stemmed = gensim.models.wrappers.LdaMallet(mallet_path, corpus=corpus_stemmed, num_topics=num_topics, id2word=id2word_stemmed)"
   ]
  },
  {
   "cell_type": "code",
   "execution_count": null,
   "metadata": {
    "id": "PRra4dCfi3Al"
   },
   "outputs": [],
   "source": [
    "# # Show Topics\n",
    "pprint(ldamallet_stemmed.show_topics(formatted=False))"
   ]
  },
  {
   "cell_type": "code",
   "execution_count": null,
   "metadata": {
    "id": "-_JVCgLFk1vk"
   },
   "outputs": [],
   "source": [
    "# Compute Coherence Score\n",
    "coherence_model_ldamallet_stemmed = CoherenceModel(model=ldamallet_stemmed, texts=df['stemmed'], dictionary=id2word_stemmed, coherence='c_v')\n",
    "coherence_ldamallet_stemmed = coherence_model_ldamallet_stemmed.get_coherence()\n",
    "print('\\nCoherence Score (Stemmed): ', coherence_ldamallet_stemmed)"
   ]
  },
  {
   "cell_type": "markdown",
   "metadata": {
    "id": "Bl9crcRRk-yt"
   },
   "source": [
    "# Visualize with pyLDAvis"
   ]
  },
  {
   "cell_type": "code",
   "execution_count": null,
   "metadata": {
    "id": "O4eUaZOmk6_-"
   },
   "outputs": [],
   "source": [
    "# Visualize the topics\n",
    "pyLDAvis.enable_notebook()\n",
    "visualisation = pyLDAvis.gensim_models.prepare(lda_model_stemmed, corpus_stemmed, id2word_stemmed)"
   ]
  },
  {
   "cell_type": "code",
   "execution_count": null,
   "metadata": {
    "id": "KEQiG4MwlBQc"
   },
   "outputs": [],
   "source": [
    "visualisation"
   ]
  },
  {
   "cell_type": "markdown",
   "metadata": {
    "id": "9GUdIpWX4UEQ"
   },
   "source": [
    "# Find optimal number of topics"
   ]
  },
  {
   "cell_type": "code",
   "execution_count": null,
   "metadata": {
    "id": "vlEczppB3-bM"
   },
   "outputs": [],
   "source": [
    "def compute_coherence_values(dictionary, corpus, texts, limit, start=2, step=3):\n",
    "    \"\"\"\n",
    "    Compute c_v coherence for various number of topics\n",
    "\n",
    "    Parameters:\n",
    "    ----------\n",
    "    dictionary : Gensim dictionary\n",
    "    corpus : Gensim corpus\n",
    "    texts : List of input texts\n",
    "    limit : Max num of topics\n",
    "\n",
    "    Returns:\n",
    "    -------\n",
    "    model_list : List of LDA topic models\n",
    "    coherence_values : Coherence values corresponding to the LDA model with respective number of topics\n",
    "    \"\"\"\n",
    "    coherence_values = []\n",
    "    model_list = []\n",
    "    for num_topics in range(start, limit, step):\n",
    "        model = gensim.models.wrappers.LdaMallet(mallet_path, corpus=corpus_stemmed, num_topics=num_topics, id2word=id2word_stemmed)\n",
    "        model_list.append(model)\n",
    "        coherencemodel = CoherenceModel(model=model, texts=texts, dictionary=dictionary, coherence='c_v')\n",
    "        coherence_values.append(coherencemodel.get_coherence())\n",
    "\n",
    "    return model_list, coherence_values"
   ]
  },
  {
   "cell_type": "code",
   "execution_count": null,
   "metadata": {
    "id": "tB2oddzm4XwE"
   },
   "outputs": [],
   "source": [
    "model_list, coherence_values = compute_coherence_values(dictionary=id2word_stemmed, corpus=corpus_stemmed, texts=df['stemmed'], start=2, limit=26, step=3)"
   ]
  },
  {
   "cell_type": "code",
   "execution_count": null,
   "metadata": {
    "colab": {
     "base_uri": "https://localhost:8080/",
     "height": 413
    },
    "id": "8_GJlUKu4bVq",
    "outputId": "b4d0b3a7-b686-4733-8752-8407235c2de7"
   },
   "outputs": [
    {
     "data": {
      "image/png": "[encoded data removed]",
      "text/plain": [
       "<Figure size 576x432 with 1 Axes>"
      ]
     },
     "metadata": {
      "tags": []
     },
     "output_type": "display_data"
    }
   ],
   "source": [
    "# Show graph\n",
    "limit=26; start=2; step=3;\n",
    "x = range(start, limit, step)\n",
    "plt.figure(figsize=(8,6))\n",
    "plt.plot(x, coherence_values)\n",
    "plt.title('Coherence Score for different number of topics', fontsize=14, fontweight=\"bold\")\n",
    "plt.xlabel(\"Number of Topics\", fontsize=12)\n",
    "plt.ylabel(\"Coherence score\", fontsize=12)\n",
    "plt.tick_params(axis='both', labelsize=13)\n",
    "plt.legend([\"Coherence Values\"], loc='lower right')\n",
    "plt.show()"
   ]
  },
  {
   "cell_type": "code",
   "execution_count": null,
   "metadata": {
    "colab": {
     "base_uri": "https://localhost:8080/"
    },
    "id": "v8zemnuT4fKG",
    "outputId": "8562c486-2fec-419c-8c94-9c48267cb6e0"
   },
   "outputs": [
    {
     "name": "stdout",
     "output_type": "stream",
     "text": [
      "Num Topics = 2  has Coherence Value of 0.3424\n",
      "Num Topics = 5  has Coherence Value of 0.6243\n",
      "Num Topics = 8  has Coherence Value of 0.6345\n",
      "Num Topics = 11  has Coherence Value of 0.6103\n",
      "Num Topics = 14  has Coherence Value of 0.6035\n",
      "Num Topics = 17  has Coherence Value of 0.5996\n",
      "Num Topics = 20  has Coherence Value of 0.5759\n",
      "Num Topics = 23  has Coherence Value of 0.582\n"
     ]
    }
   ],
   "source": [
    "# Print the coherence scores for different number of topics\n",
    "for m, cv in zip(x, coherence_values):\n",
    "    print(\"Num Topics =\", m, \" has Coherence Value of\", round(cv, 4))"
   ]
  },
  {
   "cell_type": "markdown",
   "metadata": {
    "id": "urFbgqXT40rj"
   },
   "source": [
    "# Optimal Model"
   ]
  },
  {
   "cell_type": "code",
   "execution_count": null,
   "metadata": {
    "colab": {
     "base_uri": "https://localhost:8080/"
    },
    "id": "qFMQgtN942Zb",
    "outputId": "800c202d-30b6-4e9c-f0dc-50384b869d9b"
   },
   "outputs": [
    {
     "name": "stdout",
     "output_type": "stream",
     "text": [
      "[(0,\n",
      "  '0.038*\"model\" + 0.033*\"file\" + 0.027*\"error\" + 0.023*\"line\" + 0.022*\"train\" '\n",
      "  '+ 0.021*\"datum\" + 0.018*\"creat\" + 0.017*\"test\" + 0.017*\"instal\" + '\n",
      "  '0.016*\"problem\" + 0.015*\"supervis\" + 0.014*\"tensorflow\" + 0.014*\"tri\" + '\n",
      "  '0.013*\"step\" + 0.013*\"base\" + 0.012*\"import\" + 0.012*\"follow\" + '\n",
      "  '0.012*\"featur\" + 0.012*\"build\" + 0.011*\"answer\"'),\n",
      " (1,\n",
      "  '0.037*\"time\" + 0.026*\"thing\" + 0.019*\"comput\" + 0.016*\"mani\" + 0.014*\"feel\" '\n",
      "  '+ 0.013*\"write\" + 0.013*\"actual\" + 0.011*\"hour\" + 0.011*\"understand\" + '\n",
      "  '0.010*\"abl\" + 0.010*\"real\" + 0.010*\"long\" + 0.009*\"human\" + 0.009*\"stuff\" + '\n",
      "  '0.009*\"talk\" + 0.009*\"person\" + 0.009*\"world\" + 0.009*\"back\" + 0.009*\"read\" '\n",
      "  '+ 0.008*\"life\"'),\n",
      " (2,\n",
      "  '0.189*\"learn\" + 0.062*\"explan\" + 0.061*\"machin\" + 0.055*\"work\" + '\n",
      "  '0.051*\"understand\" + 0.030*\"code\" + 0.024*\"probabl\" + 0.021*\"part\" + '\n",
      "  '0.020*\"concept\" + 0.019*\"deep\" + 0.019*\"give\" + 0.018*\"basic\" + '\n",
      "  '0.016*\"time\" + 0.016*\"languag\" + 0.016*\"statist\" + 0.015*\"clear\" + '\n",
      "  '0.010*\"book\" + 0.009*\"definit\" + 0.009*\"algorithm\" + 0.007*\"answer\"'),\n",
      " (3,\n",
      "  '0.030*\"valu\" + 0.029*\"number\" + 0.027*\"layer\" + 0.018*\"point\" + '\n",
      "  '0.018*\"neuron\" + 0.018*\"weight\" + 0.017*\"imag\" + 0.017*\"function\" + '\n",
      "  '0.016*\"output\" + 0.015*\"input\" + 0.014*\"chang\" + 0.014*\"network\" + '\n",
      "  '0.014*\"give\" + 0.012*\"calcul\" + 0.011*\"train\" + 0.011*\"activ\" + '\n",
      "  '0.010*\"exampl\" + 0.010*\"result\" + 0.008*\"vector\" + 0.008*\"random\"'),\n",
      " (4,\n",
      "  '0.073*\"good\" + 0.067*\"video\" + 0.063*\"realli\" + 0.048*\"make\" + '\n",
      "  '0.042*\"explain\" + 0.036*\"great\" + 0.035*\"love\" + 0.025*\"teach\" + '\n",
      "  '0.023*\"easi\" + 0.019*\"inform\" + 0.019*\"awesom\" + 0.017*\"work\" + '\n",
      "  '0.016*\"topic\" + 0.016*\"appreci\" + 0.013*\"excel\" + 0.013*\"teacher\" + '\n",
      "  '0.012*\"present\" + 0.011*\"youtub\" + 0.010*\"visual\" + 0.010*\"nice\"'),\n",
      " (5,\n",
      "  '0.101*\"dataset\" + 0.087*\"tutori\" + 0.068*\"send\" + 0.061*\"watch\" + '\n",
      "  '0.059*\"email\" + 0.048*\"share\" + 0.044*\"great\" + 0.038*\"mail\" + 0.032*\"amaz\" '\n",
      "  '+ 0.031*\"provid\" + 0.028*\"cheer\" + 0.028*\"subscrib\" + 0.027*\"check\" + '\n",
      "  '0.020*\"channel\" + 0.020*\"content\" + 0.019*\"comment\" + 0.019*\"show\" + '\n",
      "  '0.019*\"hope\" + 0.018*\"request\" + 0.014*\"view\"'),\n",
      " (6,\n",
      "  '0.056*\"make\" + 0.028*\"find\" + 0.028*\"question\" + 0.025*\"peopl\" + '\n",
      "  '0.024*\"good\" + 0.022*\"differ\" + 0.016*\"simpl\" + 0.016*\"variabl\" + '\n",
      "  '0.015*\"exampl\" + 0.015*\"word\" + 0.014*\"tree\" + 0.012*\"howev\" + '\n",
      "  '0.012*\"possibl\" + 0.012*\"sampl\" + 0.011*\"method\" + 0.011*\"class\" + '\n",
      "  '0.011*\"confus\" + 0.011*\"final\" + 0.010*\"alway\" + 0.009*\"case\"'),\n",
      " (7,\n",
      "  '0.072*\"datum\" + 0.070*\"cours\" + 0.044*\"scienc\" + 0.033*\"data\" + '\n",
      "  '0.032*\"start\" + 0.029*\"program\" + 0.018*\"project\" + 0.018*\"interest\" + '\n",
      "  '0.017*\"math\" + 0.016*\"knowledg\" + 0.015*\"complet\" + 0.014*\"free\" + '\n",
      "  '0.012*\"becom\" + 0.012*\"year\" + 0.012*\"detail\" + 0.011*\"studi\" + '\n",
      "  '0.011*\"find\" + 0.011*\"scientist\" + 0.010*\"recommend\" + 0.010*\"full\"')]\n"
     ]
    }
   ],
   "source": [
    "# Select the model and print the topics\n",
    "optimal_model = model_list[2]\n",
    "model_topics = optimal_model.show_topics(formatted=False)\n",
    "pprint(optimal_model.print_topics(num_words=20))"
   ]
  },
  {
   "cell_type": "markdown",
   "metadata": {
    "id": "YHoNtzaP48Yo"
   },
   "source": [
    "# Dominant Topic"
   ]
  },
  {
   "cell_type": "code",
   "execution_count": null,
   "metadata": {
    "colab": {
     "base_uri": "https://localhost:8080/",
     "height": 511
    },
    "id": "yhMQs91r4665",
    "outputId": "7ea7a630-f769-4a3e-9bb2-a2136ae742ee"
   },
   "outputs": [
    {
     "data": {
      "text/html": [
       "<div>\n",
       "<style scoped>\n",
       "    .dataframe tbody tr th:only-of-type {\n",
       "        vertical-align: middle;\n",
       "    }\n",
       "\n",
       "    .dataframe tbody tr th {\n",
       "        vertical-align: top;\n",
       "    }\n",
       "\n",
       "    .dataframe thead th {\n",
       "        text-align: right;\n",
       "    }\n",
       "</style>\n",
       "<table border=\"1\" class=\"dataframe\">\n",
       "  <thead>\n",
       "    <tr style=\"text-align: right;\">\n",
       "      <th></th>\n",
       "      <th>Document_No</th>\n",
       "      <th>Dominant_Topic</th>\n",
       "      <th>Topic_Perc_Contrib</th>\n",
       "      <th>Keywords</th>\n",
       "      <th>Text</th>\n",
       "    </tr>\n",
       "  </thead>\n",
       "  <tbody>\n",
       "    <tr>\n",
       "      <th>0</th>\n",
       "      <td>0</td>\n",
       "      <td>7.0</td>\n",
       "      <td>0.1682</td>\n",
       "      <td>datum, cours, scienc, data, start, program, pr...</td>\n",
       "      <td>[enrol, free, machin, learn, cours]</td>\n",
       "    </tr>\n",
       "    <tr>\n",
       "      <th>1</th>\n",
       "      <td>1</td>\n",
       "      <td>0.0</td>\n",
       "      <td>0.1250</td>\n",
       "      <td>model, file, error, line, train, datum, creat,...</td>\n",
       "      <td>[]</td>\n",
       "    </tr>\n",
       "    <tr>\n",
       "      <th>2</th>\n",
       "      <td>2</td>\n",
       "      <td>5.0</td>\n",
       "      <td>0.2325</td>\n",
       "      <td>dataset, tutori, send, watch, email, share, gr...</td>\n",
       "      <td>[watch, dataset, mail, show, channel, use, but...</td>\n",
       "    </tr>\n",
       "    <tr>\n",
       "      <th>3</th>\n",
       "      <td>3</td>\n",
       "      <td>7.0</td>\n",
       "      <td>0.1544</td>\n",
       "      <td>datum, cours, scienc, data, start, program, pr...</td>\n",
       "      <td>[datum, reach]</td>\n",
       "    </tr>\n",
       "    <tr>\n",
       "      <th>4</th>\n",
       "      <td>4</td>\n",
       "      <td>5.0</td>\n",
       "      <td>0.1969</td>\n",
       "      <td>dataset, tutori, send, watch, email, share, gr...</td>\n",
       "      <td>[great, tutori, could, send, dataset, use, tut...</td>\n",
       "    </tr>\n",
       "    <tr>\n",
       "      <th>5</th>\n",
       "      <td>5</td>\n",
       "      <td>5.0</td>\n",
       "      <td>0.1500</td>\n",
       "      <td>dataset, tutori, send, watch, email, share, gr...</td>\n",
       "      <td>[possibl, dataset, want, implement, code, advanc]</td>\n",
       "    </tr>\n",
       "    <tr>\n",
       "      <th>6</th>\n",
       "      <td>6</td>\n",
       "      <td>5.0</td>\n",
       "      <td>0.2457</td>\n",
       "      <td>dataset, tutori, send, watch, email, share, gr...</td>\n",
       "      <td>[view, tutori, help, provid, email, send, requ...</td>\n",
       "    </tr>\n",
       "    <tr>\n",
       "      <th>7</th>\n",
       "      <td>7</td>\n",
       "      <td>5.0</td>\n",
       "      <td>0.1864</td>\n",
       "      <td>dataset, tutori, send, watch, email, share, gr...</td>\n",
       "      <td>[amaz, tutori, simplilearn, help, dataset, peppa]</td>\n",
       "    </tr>\n",
       "    <tr>\n",
       "      <th>8</th>\n",
       "      <td>8</td>\n",
       "      <td>5.0</td>\n",
       "      <td>0.2005</td>\n",
       "      <td>dataset, tutori, send, watch, email, share, gr...</td>\n",
       "      <td>[great, tutori, share, dataset, use, mail]</td>\n",
       "    </tr>\n",
       "    <tr>\n",
       "      <th>9</th>\n",
       "      <td>9</td>\n",
       "      <td>5.0</td>\n",
       "      <td>0.1798</td>\n",
       "      <td>dataset, tutori, send, watch, email, share, gr...</td>\n",
       "      <td>[nice, tutori, send, dataset, use, tutori, pro...</td>\n",
       "    </tr>\n",
       "    <tr>\n",
       "      <th>10</th>\n",
       "      <td>10</td>\n",
       "      <td>5.0</td>\n",
       "      <td>0.1830</td>\n",
       "      <td>dataset, tutori, send, watch, email, share, gr...</td>\n",
       "      <td>[good, watch, send, dataset, use, mail, mothuk...</td>\n",
       "    </tr>\n",
       "    <tr>\n",
       "      <th>11</th>\n",
       "      <td>11</td>\n",
       "      <td>5.0</td>\n",
       "      <td>0.1544</td>\n",
       "      <td>dataset, tutori, send, watch, email, share, gr...</td>\n",
       "      <td>[send, bvrit]</td>\n",
       "    </tr>\n",
       "    <tr>\n",
       "      <th>12</th>\n",
       "      <td>12</td>\n",
       "      <td>5.0</td>\n",
       "      <td>0.1619</td>\n",
       "      <td>dataset, tutori, send, watch, email, share, gr...</td>\n",
       "      <td>[great, tutori, dataset]</td>\n",
       "    </tr>\n",
       "    <tr>\n",
       "      <th>13</th>\n",
       "      <td>13</td>\n",
       "      <td>5.0</td>\n",
       "      <td>0.1734</td>\n",
       "      <td>dataset, tutori, send, watch, email, share, gr...</td>\n",
       "      <td>[also, want, dataset, provid, gmail, sweetayus...</td>\n",
       "    </tr>\n",
       "    <tr>\n",
       "      <th>14</th>\n",
       "      <td>14</td>\n",
       "      <td>5.0</td>\n",
       "      <td>0.1553</td>\n",
       "      <td>dataset, tutori, send, watch, email, share, gr...</td>\n",
       "      <td>[great, tutori, share, data, set, nastia]</td>\n",
       "    </tr>\n",
       "  </tbody>\n",
       "</table>\n",
       "</div>"
      ],
      "text/plain": [
       "    Document_No  ...                                               Text\n",
       "0             0  ...                [enrol, free, machin, learn, cours]\n",
       "1             1  ...                                                 []\n",
       "2             2  ...  [watch, dataset, mail, show, channel, use, but...\n",
       "3             3  ...                                     [datum, reach]\n",
       "4             4  ...  [great, tutori, could, send, dataset, use, tut...\n",
       "5             5  ...  [possibl, dataset, want, implement, code, advanc]\n",
       "6             6  ...  [view, tutori, help, provid, email, send, requ...\n",
       "7             7  ...  [amaz, tutori, simplilearn, help, dataset, peppa]\n",
       "8             8  ...         [great, tutori, share, dataset, use, mail]\n",
       "9             9  ...  [nice, tutori, send, dataset, use, tutori, pro...\n",
       "10           10  ...  [good, watch, send, dataset, use, mail, mothuk...\n",
       "11           11  ...                                      [send, bvrit]\n",
       "12           12  ...                           [great, tutori, dataset]\n",
       "13           13  ...  [also, want, dataset, provid, gmail, sweetayus...\n",
       "14           14  ...          [great, tutori, share, data, set, nastia]\n",
       "\n",
       "[15 rows x 5 columns]"
      ]
     },
     "execution_count": 84,
     "metadata": {
      "tags": []
     },
     "output_type": "execute_result"
    }
   ],
   "source": [
    "def format_topics_sentences(ldamodel=ldamallet_stemmed, corpus=corpus_stemmed, texts=data):\n",
    "    # Init output\n",
    "    sent_topics_df = pd.DataFrame()\n",
    "\n",
    "    # Get main topic in each documen\n",
    "    for i, row in enumerate(ldamodel[corpus]):\n",
    "        row = sorted(row, key=lambda x: (x[1]), reverse=True)\n",
    "        # Get the Dominant topic, Perc Contribution and Keywords for each document\n",
    "        for j, (topic_num, prop_topic) in enumerate(row):\n",
    "            if j == 0:  # => dominant topic\n",
    "                wp = ldamodel.show_topic(topic_num)\n",
    "                topic_keywords = \", \".join([word for word, prop in wp])\n",
    "                sent_topics_df = sent_topics_df.append(pd.Series([int(topic_num), round(prop_topic,4), topic_keywords]), ignore_index=True)\n",
    "            else:\n",
    "                break\n",
    "    sent_topics_df.columns = ['Dominant_Topic', 'Perc_Contribution', 'Topic_Keywords']\n",
    "\n",
    "    # Add original text to the end of the output\n",
    "    contents = pd.Series(texts)\n",
    "    sent_topics_df = pd.concat([sent_topics_df, contents], axis=1)\n",
    "    return(sent_topics_df)\n",
    "\n",
    "\n",
    "df_topic_sents_keywords = format_topics_sentences(ldamodel=optimal_model, corpus=corpus_stemmed, texts=df['stemmed'])\n",
    "\n",
    "# Format\n",
    "df_dominant_topic = df_topic_sents_keywords.reset_index()\n",
    "df_dominant_topic.columns = ['Document_No', 'Dominant_Topic', 'Topic_Perc_Contrib', 'Keywords', 'Text']\n",
    "\n",
    "# Show\n",
    "df_dominant_topic.head(15)"
   ]
  },
  {
   "cell_type": "code",
   "execution_count": null,
   "metadata": {
    "colab": {
     "base_uri": "https://localhost:8080/",
     "height": 416
    },
    "id": "tfIr5v7R5Fc8",
    "outputId": "206c39d4-1490-40cf-eee3-94df51e3dca2"
   },
   "outputs": [
    {
     "data": {
      "text/html": [
       "<div>\n",
       "<style scoped>\n",
       "    .dataframe tbody tr th:only-of-type {\n",
       "        vertical-align: middle;\n",
       "    }\n",
       "\n",
       "    .dataframe tbody tr th {\n",
       "        vertical-align: top;\n",
       "    }\n",
       "\n",
       "    .dataframe thead th {\n",
       "        text-align: right;\n",
       "    }\n",
       "</style>\n",
       "<table border=\"1\" class=\"dataframe\">\n",
       "  <thead>\n",
       "    <tr style=\"text-align: right;\">\n",
       "      <th></th>\n",
       "      <th>Document_No</th>\n",
       "      <th>Dominant_Topic</th>\n",
       "      <th>Topic_Perc_Contrib</th>\n",
       "      <th>Keywords</th>\n",
       "      <th>Text</th>\n",
       "    </tr>\n",
       "  </thead>\n",
       "  <tbody>\n",
       "    <tr>\n",
       "      <th>97</th>\n",
       "      <td>97</td>\n",
       "      <td>2.0</td>\n",
       "      <td>0.1422</td>\n",
       "      <td>learn, explan, machin, work, understand, code,...</td>\n",
       "      <td>[watch, machin, learn, cours, youtub, alway, r...</td>\n",
       "    </tr>\n",
       "    <tr>\n",
       "      <th>105</th>\n",
       "      <td>105</td>\n",
       "      <td>2.0</td>\n",
       "      <td>0.1830</td>\n",
       "      <td>learn, explan, machin, work, understand, code,...</td>\n",
       "      <td>[understand, start, basic, program, machin, le...</td>\n",
       "    </tr>\n",
       "    <tr>\n",
       "      <th>112</th>\n",
       "      <td>112</td>\n",
       "      <td>2.0</td>\n",
       "      <td>0.1394</td>\n",
       "      <td>learn, explan, machin, work, understand, code,...</td>\n",
       "      <td>[send, alot]</td>\n",
       "    </tr>\n",
       "    <tr>\n",
       "      <th>113</th>\n",
       "      <td>113</td>\n",
       "      <td>2.0</td>\n",
       "      <td>0.1439</td>\n",
       "      <td>learn, explan, machin, work, understand, code,...</td>\n",
       "      <td>[nice, explan, send, file, harshmehta]</td>\n",
       "    </tr>\n",
       "    <tr>\n",
       "      <th>217</th>\n",
       "      <td>217</td>\n",
       "      <td>2.0</td>\n",
       "      <td>0.2321</td>\n",
       "      <td>learn, explan, machin, work, understand, code,...</td>\n",
       "      <td>[tri, explain, kid, howev, incorrect, descript...</td>\n",
       "    </tr>\n",
       "    <tr>\n",
       "      <th>...</th>\n",
       "      <td>...</td>\n",
       "      <td>...</td>\n",
       "      <td>...</td>\n",
       "      <td>...</td>\n",
       "      <td>...</td>\n",
       "    </tr>\n",
       "    <tr>\n",
       "      <th>47045</th>\n",
       "      <td>47045</td>\n",
       "      <td>2.0</td>\n",
       "      <td>0.1373</td>\n",
       "      <td>learn, explan, machin, work, understand, code,...</td>\n",
       "      <td>[know, make, clear]</td>\n",
       "    </tr>\n",
       "    <tr>\n",
       "      <th>47049</th>\n",
       "      <td>47049</td>\n",
       "      <td>2.0</td>\n",
       "      <td>0.1400</td>\n",
       "      <td>learn, explan, machin, work, understand, code,...</td>\n",
       "      <td>[curl]</td>\n",
       "    </tr>\n",
       "    <tr>\n",
       "      <th>47052</th>\n",
       "      <td>47052</td>\n",
       "      <td>2.0</td>\n",
       "      <td>0.1394</td>\n",
       "      <td>learn, explan, machin, work, understand, code,...</td>\n",
       "      <td>[good, explan, ever]</td>\n",
       "    </tr>\n",
       "    <tr>\n",
       "      <th>47062</th>\n",
       "      <td>47062</td>\n",
       "      <td>2.0</td>\n",
       "      <td>0.1480</td>\n",
       "      <td>learn, explan, machin, work, understand, code,...</td>\n",
       "      <td>[great, work, help, develop, learn, scratch]</td>\n",
       "    </tr>\n",
       "    <tr>\n",
       "      <th>47069</th>\n",
       "      <td>47069</td>\n",
       "      <td>2.0</td>\n",
       "      <td>0.1500</td>\n",
       "      <td>learn, explan, machin, work, understand, code,...</td>\n",
       "      <td>[much, upload, playlist, restapi, interest, le...</td>\n",
       "    </tr>\n",
       "  </tbody>\n",
       "</table>\n",
       "<p>5422 rows × 5 columns</p>\n",
       "</div>"
      ],
      "text/plain": [
       "       Document_No  ...                                               Text\n",
       "97              97  ...  [watch, machin, learn, cours, youtub, alway, r...\n",
       "105            105  ...  [understand, start, basic, program, machin, le...\n",
       "112            112  ...                                       [send, alot]\n",
       "113            113  ...             [nice, explan, send, file, harshmehta]\n",
       "217            217  ...  [tri, explain, kid, howev, incorrect, descript...\n",
       "...            ...  ...                                                ...\n",
       "47045        47045  ...                                [know, make, clear]\n",
       "47049        47049  ...                                             [curl]\n",
       "47052        47052  ...                               [good, explan, ever]\n",
       "47062        47062  ...       [great, work, help, develop, learn, scratch]\n",
       "47069        47069  ...  [much, upload, playlist, restapi, interest, le...\n",
       "\n",
       "[5422 rows x 5 columns]"
      ]
     },
     "execution_count": 85,
     "metadata": {
      "tags": []
     },
     "output_type": "execute_result"
    }
   ],
   "source": [
    "df_dominant_topic[df_dominant_topic.Dominant_Topic == 2.0]"
   ]
  },
  {
   "cell_type": "markdown",
   "metadata": {
    "id": "clFgqXq75JN6"
   },
   "source": [
    "# Total Topic Distrubution across documents "
   ]
  },
  {
   "cell_type": "code",
   "execution_count": null,
   "metadata": {
    "colab": {
     "base_uri": "https://localhost:8080/",
     "height": 295
    },
    "id": "Lx1LjXSy5Kp4",
    "outputId": "57e3b56d-522c-4fb4-a9b7-ee71eb751ecb"
   },
   "outputs": [
    {
     "data": {
      "text/html": [
       "<div>\n",
       "<style scoped>\n",
       "    .dataframe tbody tr th:only-of-type {\n",
       "        vertical-align: middle;\n",
       "    }\n",
       "\n",
       "    .dataframe tbody tr th {\n",
       "        vertical-align: top;\n",
       "    }\n",
       "\n",
       "    .dataframe thead th {\n",
       "        text-align: right;\n",
       "    }\n",
       "</style>\n",
       "<table border=\"1\" class=\"dataframe\">\n",
       "  <thead>\n",
       "    <tr style=\"text-align: right;\">\n",
       "      <th></th>\n",
       "      <th>Dominant_Topic</th>\n",
       "      <th>percentage</th>\n",
       "      <th>Topic_Keywords</th>\n",
       "    </tr>\n",
       "  </thead>\n",
       "  <tbody>\n",
       "    <tr>\n",
       "      <th>0</th>\n",
       "      <td>5.0</td>\n",
       "      <td>0.1601</td>\n",
       "      <td>dataset, tutori, send, watch, email, share, gr...</td>\n",
       "    </tr>\n",
       "    <tr>\n",
       "      <th>1</th>\n",
       "      <td>4.0</td>\n",
       "      <td>0.1600</td>\n",
       "      <td>good, video, realli, make, explain, great, lov...</td>\n",
       "    </tr>\n",
       "    <tr>\n",
       "      <th>2</th>\n",
       "      <td>0.0</td>\n",
       "      <td>0.1468</td>\n",
       "      <td>model, file, error, line, train, datum, creat,...</td>\n",
       "    </tr>\n",
       "    <tr>\n",
       "      <th>3</th>\n",
       "      <td>1.0</td>\n",
       "      <td>0.1265</td>\n",
       "      <td>time, thing, comput, mani, feel, write, actual...</td>\n",
       "    </tr>\n",
       "    <tr>\n",
       "      <th>4</th>\n",
       "      <td>7.0</td>\n",
       "      <td>0.1160</td>\n",
       "      <td>datum, cours, scienc, data, start, program, pr...</td>\n",
       "    </tr>\n",
       "    <tr>\n",
       "      <th>5</th>\n",
       "      <td>2.0</td>\n",
       "      <td>0.1152</td>\n",
       "      <td>learn, explan, machin, work, understand, code,...</td>\n",
       "    </tr>\n",
       "    <tr>\n",
       "      <th>6</th>\n",
       "      <td>3.0</td>\n",
       "      <td>0.0978</td>\n",
       "      <td>valu, number, layer, point, neuron, weight, im...</td>\n",
       "    </tr>\n",
       "    <tr>\n",
       "      <th>7</th>\n",
       "      <td>6.0</td>\n",
       "      <td>0.0777</td>\n",
       "      <td>make, find, question, peopl, good, differ, sim...</td>\n",
       "    </tr>\n",
       "  </tbody>\n",
       "</table>\n",
       "</div>"
      ],
      "text/plain": [
       "   Dominant_Topic  ...                                     Topic_Keywords\n",
       "0             5.0  ...  dataset, tutori, send, watch, email, share, gr...\n",
       "1             4.0  ...  good, video, realli, make, explain, great, lov...\n",
       "2             0.0  ...  model, file, error, line, train, datum, creat,...\n",
       "3             1.0  ...  time, thing, comput, mani, feel, write, actual...\n",
       "4             7.0  ...  datum, cours, scienc, data, start, program, pr...\n",
       "5             2.0  ...  learn, explan, machin, work, understand, code,...\n",
       "6             3.0  ...  valu, number, layer, point, neuron, weight, im...\n",
       "7             6.0  ...  make, find, question, peopl, good, differ, sim...\n",
       "\n",
       "[8 rows x 3 columns]"
      ]
     },
     "execution_count": 86,
     "metadata": {
      "tags": []
     },
     "output_type": "execute_result"
    }
   ],
   "source": [
    "topic_counts = df_topic_sents_keywords['Dominant_Topic'].value_counts()\n",
    "topic_contribution = round(topic_counts/topic_counts.sum(), 4)\n",
    "topic_contribution = topic_contribution.rename_axis('Dominant_Topic').reset_index(name='percentage')\n",
    "\n",
    "topic_num_keywords = df_topic_sents_keywords[['Dominant_Topic', 'Topic_Keywords']].drop_duplicates()\n",
    "topic_num_keywords.index = range(len(topic_num_keywords))\n",
    "\n",
    "df_dominant_topics = pd.merge(topic_contribution, topic_num_keywords, how='inner', on='Dominant_Topic')\n",
    "df_dominant_topics"
   ]
  },
  {
   "cell_type": "code",
   "execution_count": null,
   "metadata": {
    "colab": {
     "base_uri": "https://localhost:8080/",
     "height": 295
    },
    "id": "Q7VV_NZa5PQA",
    "outputId": "c9c21a5b-0975-4478-b3d9-76b5c4aa9de2"
   },
   "outputs": [
    {
     "data": {
      "text/html": [
       "<div>\n",
       "<style scoped>\n",
       "    .dataframe tbody tr th:only-of-type {\n",
       "        vertical-align: middle;\n",
       "    }\n",
       "\n",
       "    .dataframe tbody tr th {\n",
       "        vertical-align: top;\n",
       "    }\n",
       "\n",
       "    .dataframe thead th {\n",
       "        text-align: right;\n",
       "    }\n",
       "</style>\n",
       "<table border=\"1\" class=\"dataframe\">\n",
       "  <thead>\n",
       "    <tr style=\"text-align: right;\">\n",
       "      <th></th>\n",
       "      <th>Topic_Num</th>\n",
       "      <th>Topic_Perc_Contrib</th>\n",
       "      <th>Keywords</th>\n",
       "      <th>Text</th>\n",
       "    </tr>\n",
       "  </thead>\n",
       "  <tbody>\n",
       "    <tr>\n",
       "      <th>0</th>\n",
       "      <td>0.0</td>\n",
       "      <td>0.8355</td>\n",
       "      <td>model, file, error, line, train, datum, creat,...</td>\n",
       "      <td>[help, instal, pycocotool, follow, error, coll...</td>\n",
       "    </tr>\n",
       "    <tr>\n",
       "      <th>1</th>\n",
       "      <td>1.0</td>\n",
       "      <td>0.5050</td>\n",
       "      <td>time, thing, comput, mani, feel, write, actual...</td>\n",
       "      <td>[solv, poem, give, write, regular_express, fol...</td>\n",
       "    </tr>\n",
       "    <tr>\n",
       "      <th>2</th>\n",
       "      <td>2.0</td>\n",
       "      <td>0.5735</td>\n",
       "      <td>learn, explan, machin, work, understand, code,...</td>\n",
       "      <td>[scientist, skill, datum, scienc, role, data, ...</td>\n",
       "    </tr>\n",
       "    <tr>\n",
       "      <th>3</th>\n",
       "      <td>3.0</td>\n",
       "      <td>0.6310</td>\n",
       "      <td>valu, number, layer, point, neuron, weight, im...</td>\n",
       "      <td>[roughli, start, valu, repres, origin, imag, n...</td>\n",
       "    </tr>\n",
       "    <tr>\n",
       "      <th>4</th>\n",
       "      <td>4.0</td>\n",
       "      <td>0.2947</td>\n",
       "      <td>good, video, realli, make, explain, great, lov...</td>\n",
       "      <td>[realli, inspir, love, explain, topic, easili,...</td>\n",
       "    </tr>\n",
       "    <tr>\n",
       "      <th>5</th>\n",
       "      <td>5.0</td>\n",
       "      <td>0.2828</td>\n",
       "      <td>dataset, tutori, send, watch, email, share, gr...</td>\n",
       "      <td>[share, mail, sent_request, dataset, mail, sub...</td>\n",
       "    </tr>\n",
       "    <tr>\n",
       "      <th>6</th>\n",
       "      <td>6.0</td>\n",
       "      <td>0.6139</td>\n",
       "      <td>make, find, question, peopl, good, differ, sim...</td>\n",
       "      <td>[questionnair, peopl, work, tirelessli, find, ...</td>\n",
       "    </tr>\n",
       "    <tr>\n",
       "      <th>7</th>\n",
       "      <td>7.0</td>\n",
       "      <td>0.4623</td>\n",
       "      <td>datum, cours, scienc, data, start, program, pr...</td>\n",
       "      <td>[studi, scienc, train, bangalor, certifi, expe...</td>\n",
       "    </tr>\n",
       "  </tbody>\n",
       "</table>\n",
       "</div>"
      ],
      "text/plain": [
       "   Topic_Num  ...                                               Text\n",
       "0        0.0  ...  [help, instal, pycocotool, follow, error, coll...\n",
       "1        1.0  ...  [solv, poem, give, write, regular_express, fol...\n",
       "2        2.0  ...  [scientist, skill, datum, scienc, role, data, ...\n",
       "3        3.0  ...  [roughli, start, valu, repres, origin, imag, n...\n",
       "4        4.0  ...  [realli, inspir, love, explain, topic, easili,...\n",
       "5        5.0  ...  [share, mail, sent_request, dataset, mail, sub...\n",
       "6        6.0  ...  [questionnair, peopl, work, tirelessli, find, ...\n",
       "7        7.0  ...  [studi, scienc, train, bangalor, certifi, expe...\n",
       "\n",
       "[8 rows x 4 columns]"
      ]
     },
     "execution_count": 87,
     "metadata": {
      "tags": []
     },
     "output_type": "execute_result"
    }
   ],
   "source": [
    "# Group top 5 sentences under each topic\n",
    "sent_topics_sorteddf_mallet = pd.DataFrame()\n",
    "\n",
    "sent_topics_outdf_grpd = df_topic_sents_keywords.groupby('Dominant_Topic')\n",
    "\n",
    "for i, grp in sent_topics_outdf_grpd:\n",
    "    sent_topics_sorteddf_mallet = pd.concat([sent_topics_sorteddf_mallet, \n",
    "                                             grp.sort_values(['Perc_Contribution'], ascending=[0]).head(1)], \n",
    "                                            axis=0)\n",
    "\n",
    "# Reset Index    \n",
    "sent_topics_sorteddf_mallet.reset_index(drop=True, inplace=True)\n",
    "\n",
    "# Format\n",
    "sent_topics_sorteddf_mallet.columns = ['Topic_Num', \"Topic_Perc_Contrib\", \"Keywords\", \"Text\"]\n",
    "\n",
    "# Show\n",
    "sent_topics_sorteddf_mallet"
   ]
  },
  {
   "cell_type": "code",
   "execution_count": null,
   "metadata": {
    "id": "Ab00cKww5RUY"
   },
   "outputs": [],
   "source": [
    "print(sent_topics_sorteddf_mallet['Text'][1765])"
   ]
  },
  {
   "cell_type": "code",
   "execution_count": null,
   "metadata": {
    "id": "mVJ_f_n-5Tlw"
   },
   "outputs": [],
   "source": [
    "# Number of Documents for Each Topic\n",
    "topic_counts = df_topic_sents_keywords['Dominant_Topic'].value_counts()\n",
    "\n",
    "# Percentage of Documents for Each Topic\n",
    "topic_contribution = round(topic_counts/topic_counts.sum(), 4)\n",
    "\n",
    "# Topic Number and Keywords\n",
    "topic_num_keywords = sent_topics_sorteddf_mallet[['Topic_Num', 'Keywords']]\n",
    "\n",
    "# Concatenate Column wise\n",
    "df_dominant_topics = pd.concat([topic_num_keywords, topic_counts.sort_index(), topic_contribution.sort_index()], axis=1)\n",
    "\n",
    "# Change Column names\n",
    "df_dominant_topics.columns = ['Topic', 'Topic_Keywords', 'Num_comment', 'Perc_comment']\n",
    "\n",
    "# Show\n",
    "df_dominant_topics['Perc_comment'] = df_dominant_topics['Perc_comment'] * 100"
   ]
  },
  {
   "cell_type": "code",
   "execution_count": null,
   "metadata": {
    "id": "Xz8GFbc95Vaw"
   },
   "outputs": [],
   "source": [
    "df_dominant_topics['Text'] = sent_topics_sorteddf_mallet['Text']"
   ]
  },
  {
   "cell_type": "code",
   "execution_count": null,
   "metadata": {
    "colab": {
     "base_uri": "https://localhost:8080/",
     "height": 295
    },
    "id": "RCasRCOz5XGM",
    "outputId": "93c5b9a2-d62d-407d-84c7-1077c9e1b147"
   },
   "outputs": [
    {
     "data": {
      "text/html": [
       "<div>\n",
       "<style scoped>\n",
       "    .dataframe tbody tr th:only-of-type {\n",
       "        vertical-align: middle;\n",
       "    }\n",
       "\n",
       "    .dataframe tbody tr th {\n",
       "        vertical-align: top;\n",
       "    }\n",
       "\n",
       "    .dataframe thead th {\n",
       "        text-align: right;\n",
       "    }\n",
       "</style>\n",
       "<table border=\"1\" class=\"dataframe\">\n",
       "  <thead>\n",
       "    <tr style=\"text-align: right;\">\n",
       "      <th></th>\n",
       "      <th>Topic</th>\n",
       "      <th>Topic_Keywords</th>\n",
       "      <th>Num_comment</th>\n",
       "      <th>Perc_comment</th>\n",
       "      <th>Text</th>\n",
       "    </tr>\n",
       "  </thead>\n",
       "  <tbody>\n",
       "    <tr>\n",
       "      <th>0.0</th>\n",
       "      <td>0.0</td>\n",
       "      <td>model, file, error, line, train, datum, creat,...</td>\n",
       "      <td>6911</td>\n",
       "      <td>14.68</td>\n",
       "      <td>[help, instal, pycocotool, follow, error, coll...</td>\n",
       "    </tr>\n",
       "    <tr>\n",
       "      <th>1.0</th>\n",
       "      <td>1.0</td>\n",
       "      <td>time, thing, comput, mani, feel, write, actual...</td>\n",
       "      <td>5955</td>\n",
       "      <td>12.65</td>\n",
       "      <td>[solv, poem, give, write, regular_express, fol...</td>\n",
       "    </tr>\n",
       "    <tr>\n",
       "      <th>2.0</th>\n",
       "      <td>2.0</td>\n",
       "      <td>learn, explan, machin, work, understand, code,...</td>\n",
       "      <td>5422</td>\n",
       "      <td>11.52</td>\n",
       "      <td>[scientist, skill, datum, scienc, role, data, ...</td>\n",
       "    </tr>\n",
       "    <tr>\n",
       "      <th>3.0</th>\n",
       "      <td>3.0</td>\n",
       "      <td>valu, number, layer, point, neuron, weight, im...</td>\n",
       "      <td>4603</td>\n",
       "      <td>9.78</td>\n",
       "      <td>[roughli, start, valu, repres, origin, imag, n...</td>\n",
       "    </tr>\n",
       "    <tr>\n",
       "      <th>4.0</th>\n",
       "      <td>4.0</td>\n",
       "      <td>good, video, realli, make, explain, great, lov...</td>\n",
       "      <td>7532</td>\n",
       "      <td>16.00</td>\n",
       "      <td>[realli, inspir, love, explain, topic, easili,...</td>\n",
       "    </tr>\n",
       "    <tr>\n",
       "      <th>5.0</th>\n",
       "      <td>5.0</td>\n",
       "      <td>dataset, tutori, send, watch, email, share, gr...</td>\n",
       "      <td>7539</td>\n",
       "      <td>16.01</td>\n",
       "      <td>[share, mail, sent_request, dataset, mail, sub...</td>\n",
       "    </tr>\n",
       "    <tr>\n",
       "      <th>6.0</th>\n",
       "      <td>6.0</td>\n",
       "      <td>make, find, question, peopl, good, differ, sim...</td>\n",
       "      <td>3657</td>\n",
       "      <td>7.77</td>\n",
       "      <td>[questionnair, peopl, work, tirelessli, find, ...</td>\n",
       "    </tr>\n",
       "    <tr>\n",
       "      <th>7.0</th>\n",
       "      <td>7.0</td>\n",
       "      <td>datum, cours, scienc, data, start, program, pr...</td>\n",
       "      <td>5462</td>\n",
       "      <td>11.60</td>\n",
       "      <td>[studi, scienc, train, bangalor, certifi, expe...</td>\n",
       "    </tr>\n",
       "  </tbody>\n",
       "</table>\n",
       "</div>"
      ],
      "text/plain": [
       "     Topic  ...                                               Text\n",
       "0.0    0.0  ...  [help, instal, pycocotool, follow, error, coll...\n",
       "1.0    1.0  ...  [solv, poem, give, write, regular_express, fol...\n",
       "2.0    2.0  ...  [scientist, skill, datum, scienc, role, data, ...\n",
       "3.0    3.0  ...  [roughli, start, valu, repres, origin, imag, n...\n",
       "4.0    4.0  ...  [realli, inspir, love, explain, topic, easili,...\n",
       "5.0    5.0  ...  [share, mail, sent_request, dataset, mail, sub...\n",
       "6.0    6.0  ...  [questionnair, peopl, work, tirelessli, find, ...\n",
       "7.0    7.0  ...  [studi, scienc, train, bangalor, certifi, expe...\n",
       "\n",
       "[8 rows x 5 columns]"
      ]
     },
     "execution_count": 91,
     "metadata": {
      "tags": []
     },
     "output_type": "execute_result"
    }
   ],
   "source": [
    "df_dominant_topics"
   ]
  },
  {
   "cell_type": "code",
   "execution_count": null,
   "metadata": {
    "colab": {
     "base_uri": "https://localhost:8080/",
     "height": 430
    },
    "id": "oVGxdrtV5ZOQ",
    "outputId": "834658f6-ea72-4d34-b331-c126f5d6707a"
   },
   "outputs": [
    {
     "name": "stdout",
     "output_type": "stream",
     "text": [
      "Total comment 47081\n"
     ]
    },
    {
     "data": {
      "image/png": "[encoded data removed]",
      "text/plain": [
       "<Figure size 576x432 with 1 Axes>"
      ]
     },
     "metadata": {
      "tags": []
     },
     "output_type": "display_data"
    }
   ],
   "source": [
    "sns.set_style(\"white\")\n",
    "label = ['Topic 0', 'Topic 1', 'Topic 2', 'Topic 3', 'Topic 4', 'Topic 5', 'Topic 6', 'Topic 7']\n",
    "freq = df_dominant_topics['Num_comment']\n",
    "index = np.arange(len(freq))\n",
    "\n",
    "print(\"Total comment\", df_dominant_topics['Num_comment'].sum())\n",
    "plt.figure(figsize=(8,6), facecolor='white')\n",
    "plt.bar(index, freq, alpha=0.8, color= 'green', width=0.7)\n",
    "plt.xlabel('Topics', fontsize=13)\n",
    "plt.ylabel('Number of comment', fontsize=13)\n",
    "plt.xticks(index, label, fontsize=11, fontweight=\"bold\")\n",
    "plt.tick_params(axis='both', which='major', labelsize=12)\n",
    "plt.title('Topic Distribution', fontsize=14, fontweight=\"bold\")\n",
    "plt.show()"
   ]
  },
  {
   "cell_type": "markdown",
   "metadata": {
    "id": "197ak7jA5eBp"
   },
   "source": [
    "# Save Results"
   ]
  },
  {
   "cell_type": "code",
   "execution_count": null,
   "metadata": {
    "id": "vh2CzhBf5c_5"
   },
   "outputs": [],
   "source": [
    "df_dominant_topics.to_pickle('/content/drive/MyDrive/YouTube-Project/topic-modeling-reply-merge.pkl')"
   ]
  },
  {
   "cell_type": "code",
   "execution_count": null,
   "metadata": {
    "id": "UQJGP7e066em"
   },
   "outputs": [],
   "source": []
  }
 ],
 "metadata": {
  "accelerator": "GPU",
  "colab": {
   "collapsed_sections": [],
   "name": "04. capstone-youtube-topic-modeling-with-mallet-wrapper",
   "provenance": [],
   "toc_visible": true
  },
  "kernelspec": {
   "display_name": "Python 3 (ipykernel)",
   "language": "python",
   "name": "python3"
  },
  "language_info": {
   "codemirror_mode": {
    "name": "ipython",
    "version": 3
   },
   "file_extension": ".py",
   "mimetype": "text/x-python",
   "name": "python",
   "nbconvert_exporter": "python",
   "pygments_lexer": "ipython3",
   "version": "3.9.6"
  }
 },
 "nbformat": 4,
 "nbformat_minor": 1
}
