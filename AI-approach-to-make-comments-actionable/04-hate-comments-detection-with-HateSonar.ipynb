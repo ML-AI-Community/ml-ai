{
 "cells": [
  {
   "cell_type": "code",
   "execution_count": null,
   "metadata": {
    "colab": {
     "base_uri": "https://localhost:8080/"
    },
    "id": "f3DzJLR16arJ",
    "outputId": "3d8aceab-4c07-4711-abe8-7ffea30d892c"
   },
   "outputs": [
    {
     "name": "stdout",
     "output_type": "stream",
     "text": [
      "Requirement already satisfied: hatesonar in /usr/local/lib/python3.7/dist-packages (0.0.7)\n",
      "Requirement already satisfied: pandas>=0.22.0 in /usr/local/lib/python3.7/dist-packages (from hatesonar) (1.1.5)\n",
      "Requirement already satisfied: scikit-learn>=0.19.1 in /usr/local/lib/python3.7/dist-packages (from hatesonar) (0.22.2.post1)\n",
      "Requirement already satisfied: numpy>=1.14.0 in /usr/local/lib/python3.7/dist-packages (from hatesonar) (1.19.5)\n",
      "Requirement already satisfied: joblib>=0.16.0 in /usr/local/lib/python3.7/dist-packages (from hatesonar) (1.0.1)\n",
      "Requirement already satisfied: scipy>=1.0.0 in /usr/local/lib/python3.7/dist-packages (from hatesonar) (1.4.1)\n",
      "Requirement already satisfied: python-dateutil>=2.7.3 in /usr/local/lib/python3.7/dist-packages (from pandas>=0.22.0->hatesonar) (2.8.2)\n",
      "Requirement already satisfied: pytz>=2017.2 in /usr/local/lib/python3.7/dist-packages (from pandas>=0.22.0->hatesonar) (2018.9)\n",
      "Requirement already satisfied: six>=1.5 in /usr/local/lib/python3.7/dist-packages (from python-dateutil>=2.7.3->pandas>=0.22.0->hatesonar) (1.15.0)\n"
     ]
    }
   ],
   "source": [
    "pip install hatesonar"
   ]
  },
  {
   "cell_type": "code",
   "execution_count": null,
   "metadata": {
    "id": "9XxIz9ziE1QI"
   },
   "outputs": [],
   "source": [
    "import pandas as pd\n",
    "import numpy as np\n",
    "import seaborn as sns\n",
    "import matplotlib.pyplot as plt\n",
    "import numpy as np\n",
    "import _pickle as pickle\n",
    "\n",
    "from hatesonar import Sonar # This is the hate speech detection library\n",
    "\n",
    "\n",
    "import warnings\n",
    "warnings.filterwarnings('ignore')"
   ]
  },
  {
   "cell_type": "code",
   "execution_count": null,
   "metadata": {
    "colab": {
     "base_uri": "https://localhost:8080/"
    },
    "id": "UZzguMWY5rQt",
    "outputId": "ac3004d1-cfad-448f-f08d-76ed5fc504be"
   },
   "outputs": [
    {
     "name": "stdout",
     "output_type": "stream",
     "text": [
      "Drive already mounted at /content/drive; to attempt to forcibly remount, call drive.mount(\"/content/drive\", force_remount=True).\n"
     ]
    }
   ],
   "source": [
    "from google.colab import drive\n",
    "drive.mount('/content/drive')"
   ]
  },
  {
   "cell_type": "code",
   "execution_count": null,
   "metadata": {
    "id": "ikjjSvvsFHY1"
   },
   "outputs": [],
   "source": [
    "# comments \n",
    "df = pd.read_pickle('/content/drive/MyDrive/YouTube-Project/vader-sentiment.pkl')"
   ]
  },
  {
   "cell_type": "code",
   "execution_count": null,
   "metadata": {
    "id": "NnrdCfLmEqBZ"
   },
   "outputs": [],
   "source": [
    "df.reset_index(drop=True, inplace=True)"
   ]
  },
  {
   "cell_type": "code",
   "execution_count": null,
   "metadata": {
    "colab": {
     "base_uri": "https://localhost:8080/"
    },
    "id": "1WDF2DgIH9Ao",
    "outputId": "e0c59038-b577-4114-c14f-2b75484606b5"
   },
   "outputs": [
    {
     "data": {
      "text/plain": [
       "(39740, 6)"
      ]
     },
     "execution_count": 56,
     "metadata": {
      "tags": []
     },
     "output_type": "execute_result"
    }
   ],
   "source": [
    "df.shape"
   ]
  },
  {
   "cell_type": "code",
   "execution_count": null,
   "metadata": {
    "colab": {
     "base_uri": "https://localhost:8080/",
     "height": 204
    },
    "id": "wXgDJkUOH-4P",
    "outputId": "8db83d0d-b53e-4fdc-e276-17537b832228"
   },
   "outputs": [
    {
     "data": {
      "text/html": [
       "<div>\n",
       "<style scoped>\n",
       "    .dataframe tbody tr th:only-of-type {\n",
       "        vertical-align: middle;\n",
       "    }\n",
       "\n",
       "    .dataframe tbody tr th {\n",
       "        vertical-align: top;\n",
       "    }\n",
       "\n",
       "    .dataframe thead th {\n",
       "        text-align: right;\n",
       "    }\n",
       "</style>\n",
       "<table border=\"1\" class=\"dataframe\">\n",
       "  <thead>\n",
       "    <tr style=\"text-align: right;\">\n",
       "      <th></th>\n",
       "      <th>comment</th>\n",
       "      <th>negative</th>\n",
       "      <th>neutral</th>\n",
       "      <th>positive</th>\n",
       "      <th>compound</th>\n",
       "      <th>sentiment</th>\n",
       "    </tr>\n",
       "  </thead>\n",
       "  <tbody>\n",
       "    <tr>\n",
       "      <th>0</th>\n",
       "      <td>Is it possible to get the dataset? I want to i...</td>\n",
       "      <td>0.0</td>\n",
       "      <td>0.808</td>\n",
       "      <td>0.192</td>\n",
       "      <td>0.4215</td>\n",
       "      <td>1</td>\n",
       "    </tr>\n",
       "    <tr>\n",
       "      <th>1</th>\n",
       "      <td>Hello, thanks for viewing our tutorial. It wou...</td>\n",
       "      <td>0.0</td>\n",
       "      <td>0.781</td>\n",
       "      <td>0.219</td>\n",
       "      <td>0.9042</td>\n",
       "      <td>1</td>\n",
       "    </tr>\n",
       "    <tr>\n",
       "      <th>2</th>\n",
       "      <td>Hii,thanks for the great tutorial,could u plzz...</td>\n",
       "      <td>0.0</td>\n",
       "      <td>0.760</td>\n",
       "      <td>0.240</td>\n",
       "      <td>0.6249</td>\n",
       "      <td>1</td>\n",
       "    </tr>\n",
       "    <tr>\n",
       "      <th>3</th>\n",
       "      <td>Thank you for the great tutorial. Can I have 1...</td>\n",
       "      <td>0.0</td>\n",
       "      <td>0.473</td>\n",
       "      <td>0.527</td>\n",
       "      <td>0.8360</td>\n",
       "      <td>1</td>\n",
       "    </tr>\n",
       "    <tr>\n",
       "      <th>4</th>\n",
       "      <td>can I get the slide used in this tutorial?</td>\n",
       "      <td>0.0</td>\n",
       "      <td>1.000</td>\n",
       "      <td>0.000</td>\n",
       "      <td>0.0000</td>\n",
       "      <td>0</td>\n",
       "    </tr>\n",
       "  </tbody>\n",
       "</table>\n",
       "</div>"
      ],
      "text/plain": [
       "                                             comment  ...  sentiment\n",
       "0  Is it possible to get the dataset? I want to i...  ...          1\n",
       "1  Hello, thanks for viewing our tutorial. It wou...  ...          1\n",
       "2  Hii,thanks for the great tutorial,could u plzz...  ...          1\n",
       "3  Thank you for the great tutorial. Can I have 1...  ...          1\n",
       "4         can I get the slide used in this tutorial?  ...          0\n",
       "\n",
       "[5 rows x 6 columns]"
      ]
     },
     "execution_count": 57,
     "metadata": {
      "tags": []
     },
     "output_type": "execute_result"
    }
   ],
   "source": [
    "df.head()\n"
   ]
  },
  {
   "cell_type": "code",
   "execution_count": null,
   "metadata": {
    "colab": {
     "base_uri": "https://localhost:8080/",
     "height": 297
    },
    "id": "mnKqj4wwIBP-",
    "outputId": "6a04adaa-e527-41b1-d2a4-2b6e72e09178"
   },
   "outputs": [
    {
     "data": {
      "text/html": [
       "<div>\n",
       "<style scoped>\n",
       "    .dataframe tbody tr th:only-of-type {\n",
       "        vertical-align: middle;\n",
       "    }\n",
       "\n",
       "    .dataframe tbody tr th {\n",
       "        vertical-align: top;\n",
       "    }\n",
       "\n",
       "    .dataframe thead th {\n",
       "        text-align: right;\n",
       "    }\n",
       "</style>\n",
       "<table border=\"1\" class=\"dataframe\">\n",
       "  <thead>\n",
       "    <tr style=\"text-align: right;\">\n",
       "      <th></th>\n",
       "      <th>negative</th>\n",
       "      <th>neutral</th>\n",
       "      <th>positive</th>\n",
       "      <th>compound</th>\n",
       "      <th>sentiment</th>\n",
       "    </tr>\n",
       "  </thead>\n",
       "  <tbody>\n",
       "    <tr>\n",
       "      <th>count</th>\n",
       "      <td>39740.000000</td>\n",
       "      <td>39740.000000</td>\n",
       "      <td>39740.000000</td>\n",
       "      <td>39740.000000</td>\n",
       "      <td>39740.000000</td>\n",
       "    </tr>\n",
       "    <tr>\n",
       "      <th>mean</th>\n",
       "      <td>0.028632</td>\n",
       "      <td>0.761598</td>\n",
       "      <td>0.209768</td>\n",
       "      <td>0.405809</td>\n",
       "      <td>0.591369</td>\n",
       "    </tr>\n",
       "    <tr>\n",
       "      <th>std</th>\n",
       "      <td>0.071183</td>\n",
       "      <td>0.188704</td>\n",
       "      <td>0.190575</td>\n",
       "      <td>0.427619</td>\n",
       "      <td>0.665448</td>\n",
       "    </tr>\n",
       "    <tr>\n",
       "      <th>min</th>\n",
       "      <td>0.000000</td>\n",
       "      <td>0.000000</td>\n",
       "      <td>0.000000</td>\n",
       "      <td>-0.990500</td>\n",
       "      <td>-1.000000</td>\n",
       "    </tr>\n",
       "    <tr>\n",
       "      <th>25%</th>\n",
       "      <td>0.000000</td>\n",
       "      <td>0.643000</td>\n",
       "      <td>0.000000</td>\n",
       "      <td>0.000000</td>\n",
       "      <td>0.000000</td>\n",
       "    </tr>\n",
       "    <tr>\n",
       "      <th>50%</th>\n",
       "      <td>0.000000</td>\n",
       "      <td>0.782000</td>\n",
       "      <td>0.182000</td>\n",
       "      <td>0.476700</td>\n",
       "      <td>1.000000</td>\n",
       "    </tr>\n",
       "    <tr>\n",
       "      <th>75%</th>\n",
       "      <td>0.000000</td>\n",
       "      <td>0.907000</td>\n",
       "      <td>0.326000</td>\n",
       "      <td>0.788200</td>\n",
       "      <td>1.000000</td>\n",
       "    </tr>\n",
       "    <tr>\n",
       "      <th>max</th>\n",
       "      <td>1.000000</td>\n",
       "      <td>1.000000</td>\n",
       "      <td>1.000000</td>\n",
       "      <td>0.999200</td>\n",
       "      <td>1.000000</td>\n",
       "    </tr>\n",
       "  </tbody>\n",
       "</table>\n",
       "</div>"
      ],
      "text/plain": [
       "           negative       neutral      positive      compound     sentiment\n",
       "count  39740.000000  39740.000000  39740.000000  39740.000000  39740.000000\n",
       "mean       0.028632      0.761598      0.209768      0.405809      0.591369\n",
       "std        0.071183      0.188704      0.190575      0.427619      0.665448\n",
       "min        0.000000      0.000000      0.000000     -0.990500     -1.000000\n",
       "25%        0.000000      0.643000      0.000000      0.000000      0.000000\n",
       "50%        0.000000      0.782000      0.182000      0.476700      1.000000\n",
       "75%        0.000000      0.907000      0.326000      0.788200      1.000000\n",
       "max        1.000000      1.000000      1.000000      0.999200      1.000000"
      ]
     },
     "execution_count": 58,
     "metadata": {
      "tags": []
     },
     "output_type": "execute_result"
    }
   ],
   "source": [
    "df.describe()"
   ]
  },
  {
   "cell_type": "code",
   "execution_count": null,
   "metadata": {
    "colab": {
     "base_uri": "https://localhost:8080/"
    },
    "id": "R_zzuuVJICO3",
    "outputId": "22fd12e4-b0a4-4ffa-a35b-18f2654a53bf"
   },
   "outputs": [
    {
     "data": {
      "text/plain": [
       "str"
      ]
     },
     "execution_count": 59,
     "metadata": {
      "tags": []
     },
     "output_type": "execute_result"
    }
   ],
   "source": [
    "type(df['comment'][1])"
   ]
  },
  {
   "cell_type": "markdown",
   "metadata": {
    "id": "14UngmfGIK6v"
   },
   "source": [
    "### Function to classify Comments"
   ]
  },
  {
   "cell_type": "code",
   "execution_count": null,
   "metadata": {
    "id": "IUvNv2T1IBYm"
   },
   "outputs": [],
   "source": [
    "# Create an object of Sonar Hate Speech Detection\n",
    "sonar = Sonar()"
   ]
  },
  {
   "cell_type": "code",
   "execution_count": null,
   "metadata": {
    "id": "XS_cQdf9IOzY"
   },
   "outputs": [],
   "source": [
    "Class = []\n",
    "hate = []\n",
    "offensive = []\n",
    "neither = []"
   ]
  },
  {
   "cell_type": "code",
   "execution_count": null,
   "metadata": {
    "id": "R6uAwvf_IQev"
   },
   "outputs": [],
   "source": [
    "def hate_speech_classifier(df, Class, hate, offensive, neither):\n",
    "    for i in df['comment']:\n",
    "        sonar_dict = sonar.ping(text=i)\n",
    "        Class.append(list(sonar_dict.values())[1])\n",
    "        hate.append(list(list(sonar_dict.values())[2][0].values())[1])\n",
    "        offensive.append(list(list(sonar_dict.values())[2][1].values())[1])\n",
    "        neither.append(list(list(sonar_dict.values())[2][2].values())[1])"
   ]
  },
  {
   "cell_type": "code",
   "execution_count": null,
   "metadata": {
    "id": "buaLF92jISCv"
   },
   "outputs": [],
   "source": [
    "# Function calling \n",
    "hate_speech_classifier(df, Class, hate, offensive, neither)"
   ]
  },
  {
   "cell_type": "code",
   "execution_count": null,
   "metadata": {
    "id": "eij5BFW4IUJ4"
   },
   "outputs": [],
   "source": [
    "# Prepare columns to add the scores later\n",
    "df[\"Class\"] = Class\n",
    "df[\"hate\"] = hate\n",
    "df[\"offensive\"] = offensive\n",
    "df[\"neither\"] = neither"
   ]
  },
  {
   "cell_type": "code",
   "execution_count": null,
   "metadata": {
    "colab": {
     "base_uri": "https://localhost:8080/"
    },
    "id": "humyJTAdIVmn",
    "outputId": "2a8bf4a9-2015-4d10-def8-ae2fe153cff0"
   },
   "outputs": [
    {
     "data": {
      "text/plain": [
       "neither               38797\n",
       "offensive_language      930\n",
       "hate_speech              13\n",
       "Name: Class, dtype: int64"
      ]
     },
     "execution_count": 65,
     "metadata": {
      "tags": []
     },
     "output_type": "execute_result"
    }
   ],
   "source": [
    "df.Class.value_counts()"
   ]
  },
  {
   "cell_type": "code",
   "execution_count": null,
   "metadata": {
    "colab": {
     "base_uri": "https://localhost:8080/"
    },
    "id": "TLLl_hZ2IYU4",
    "outputId": "a7701e20-e385-412e-9ff7-7a9f2c94416d"
   },
   "outputs": [
    {
     "data": {
      "text/plain": [
       "0.49522799575821846"
      ]
     },
     "execution_count": 66,
     "metadata": {
      "tags": []
     },
     "output_type": "execute_result"
    }
   ],
   "source": [
    "467/(df.Class.value_counts()[-1] + df.Class.value_counts()[1])"
   ]
  },
  {
   "cell_type": "markdown",
   "metadata": {
    "id": "xjcOUbXuIaFn"
   },
   "source": [
    "### Number of Comments by Hate Speech Classification"
   ]
  },
  {
   "cell_type": "code",
   "execution_count": null,
   "metadata": {
    "colab": {
     "base_uri": "https://localhost:8080/",
     "height": 412
    },
    "id": "mWr3yR5cIbxQ",
    "outputId": "6777d12c-d322-46a1-d447-69d0c3c506a6"
   },
   "outputs": [
    {
     "data": {
      "image/png": "[encoded data removed]",
      "text/plain": [
       "<Figure size 800x480 with 1 Axes>"
      ]
     },
     "metadata": {
      "tags": []
     },
     "output_type": "display_data"
    }
   ],
   "source": [
    "# Draw Plot\n",
    "fig, ax = plt.subplots(figsize=(10, 6), subplot_kw=dict(aspect=\"equal\"), dpi= 80)\n",
    "\n",
    "data = [df.Class.value_counts()[-1], df.Class.value_counts()[1], df.Class.value_counts()[0]]\n",
    "categories = ['Hate Speech', 'Offensive', 'Neither']\n",
    "explode = [0.05,0.05,0.05]\n",
    "\n",
    "def func(pct, allvals):\n",
    "    absolute = int(pct/100.*np.sum(allvals))\n",
    "    return \"{:.1f}% ({:d} )\".format(pct, absolute)\n",
    "\n",
    "wedges, texts, autotexts = ax.pie(data, \n",
    "                                  autopct=lambda pct: func(pct, data),\n",
    "                                  textprops=dict(color=\"w\"), \n",
    "                                  colors=['blue', 'red', '#3c6382'],\n",
    "                                  startangle=140,\n",
    "                                  explode=explode)\n",
    "\n",
    "# Decoration\n",
    "ax.legend(wedges, categories, title=\"Comment contains:\", loc=\"center left\", bbox_to_anchor=(1, 0.2, 0.5, 1))\n",
    "plt.setp(autotexts, size=10, weight=700)\n",
    "ax.set_title(\"Hate Speech Detection\", fontsize=12)\n",
    "plt.show()"
   ]
  },
  {
   "cell_type": "markdown",
   "metadata": {
    "id": "qJt_yPFXIg9A"
   },
   "source": [
    "### Histogram"
   ]
  },
  {
   "cell_type": "code",
   "execution_count": null,
   "metadata": {
    "colab": {
     "base_uri": "https://localhost:8080/",
     "height": 353
    },
    "id": "hpIdrvQyIiSI",
    "outputId": "74ae1f30-86a2-48d4-e609-84007866cdd9"
   },
   "outputs": [
    {
     "data": {
      "image/png": "[encoded data removed]",
      "text/plain": [
       "<Figure size 288x360 with 1 Axes>"
      ]
     },
     "metadata": {
      "needs_background": "light",
      "tags": []
     },
     "output_type": "display_data"
    }
   ],
   "source": [
    "labels = ['Hateful & Offensive', 'Neither']\n",
    "freq = [df.Class.value_counts()[-1] + df.Class.value_counts()[1], df.Class.value_counts()[0]]\n",
    "index = np.arange(len(freq))\n",
    "\n",
    "plt.figure(figsize=(4,5))\n",
    "plt.bar(index, freq, alpha=0.8, width=0.5, color=['red','#3c6382','black'])\n",
    "plt.xlabel('Contains', fontsize=13)\n",
    "plt.ylabel('Number of Comments', fontsize=13)\n",
    "plt.xticks(index, labels, fontsize=11) \n",
    "plt.title(\"Distribution of the dataset\", fontsize=12)\n",
    "plt.ylim(0, len(df['comment']))\n",
    "plt.show()"
   ]
  },
  {
   "cell_type": "code",
   "execution_count": null,
   "metadata": {
    "id": "fc9e2qKuIe3I"
   },
   "outputs": [],
   "source": [
    "labels = ['Hate Speech', 'Offensive Language']\n",
    "freq1 = [df.Class.value_counts()[-1], df.Class.value_counts()[1]]\n",
    "index1 = np.arange(len(freq1))"
   ]
  },
  {
   "cell_type": "code",
   "execution_count": null,
   "metadata": {
    "colab": {
     "base_uri": "https://localhost:8080/",
     "height": 353
    },
    "id": "qUua2CMgInQv",
    "outputId": "ce5930ce-38b0-4f38-e593-edc8ea4c4090"
   },
   "outputs": [
    {
     "data": {
      "image/png": "[encoded data removed]",
      "text/plain": [
       "<Figure size 288x360 with 1 Axes>"
      ]
     },
     "metadata": {
      "needs_background": "light",
      "tags": []
     },
     "output_type": "display_data"
    }
   ],
   "source": [
    "plt.figure(figsize=(4,5))\n",
    "plt.bar(index1, freq1, alpha=0.8, width=0.5, color=['red','black'])\n",
    "plt.xlabel('Contains', fontsize=13)\n",
    "plt.ylabel('Number of comments', fontsize=13)\n",
    "plt.xticks(index, labels, fontsize=11) \n",
    "plt.title(\"Problematic comments\", fontsize=12)\n",
    "plt.ylim(0, 1050)\n",
    "plt.show()"
   ]
  },
  {
   "cell_type": "markdown",
   "metadata": {
    "id": "F0Z_jTqLIpPX"
   },
   "source": [
    "###  Seperate the dataset accordingly to contining hateful comments, offensive language and neither"
   ]
  },
  {
   "cell_type": "code",
   "execution_count": null,
   "metadata": {
    "id": "I9G9ilCSIqzw"
   },
   "outputs": [],
   "source": [
    "df_hate = df[df['Class']=='hate_speech']\n",
    "df_offensive = df[df['Class']=='offensive_language']\n",
    "df_neither = df[df['Class']=='neither']"
   ]
  },
  {
   "cell_type": "code",
   "execution_count": null,
   "metadata": {
    "colab": {
     "base_uri": "https://localhost:8080/"
    },
    "id": "78cMlUCiItRo",
    "outputId": "302b8987-c785-4a68-9a0d-ed1f0eba06d7"
   },
   "outputs": [
    {
     "data": {
      "text/plain": [
       " 1    26962\n",
       " 0     8067\n",
       "-1     3768\n",
       "Name: sentiment, dtype: int64"
      ]
     },
     "execution_count": 72,
     "metadata": {
      "tags": []
     },
     "output_type": "execute_result"
    }
   ],
   "source": [
    "df_neither.sentiment.value_counts()"
   ]
  },
  {
   "cell_type": "code",
   "execution_count": null,
   "metadata": {
    "colab": {
     "base_uri": "https://localhost:8080/"
    },
    "id": "LJhRe38MIvuZ",
    "outputId": "de4522f7-bd7b-4e6f-e17d-ea3bf159c6c7"
   },
   "outputs": [
    {
     "data": {
      "text/plain": [
       " 1    529\n",
       "-1    224\n",
       " 0    177\n",
       "Name: sentiment, dtype: int64"
      ]
     },
     "execution_count": 73,
     "metadata": {
      "tags": []
     },
     "output_type": "execute_result"
    }
   ],
   "source": [
    "df_offensive.sentiment.value_counts()"
   ]
  },
  {
   "cell_type": "markdown",
   "metadata": {
    "id": "yhg9HZFJL1vZ"
   },
   "source": [
    "### Analyzed offensive and neutral Comments"
   ]
  },
  {
   "cell_type": "code",
   "execution_count": null,
   "metadata": {
    "colab": {
     "base_uri": "https://localhost:8080/",
     "height": 407
    },
    "id": "hqpKWTPoI31Q",
    "outputId": "f0a118a4-59e4-4978-c3ca-64e9367ab00b"
   },
   "outputs": [
    {
     "data": {
      "image/png": "[encoded data removed]",
      "text/plain": [
       "<Figure size 360x432 with 1 Axes>"
      ]
     },
     "metadata": {
      "needs_background": "light",
      "tags": []
     },
     "output_type": "display_data"
    }
   ],
   "source": [
    "labels = ['Negative', 'Positive', 'Neutral']\n",
    "freq = [df_offensive.sentiment.value_counts()[-1], df_offensive.sentiment.value_counts()[1], df_offensive.sentiment.value_counts()[0]]\n",
    "index = np.arange(len(freq))\n",
    "\n",
    "plt.figure(figsize=(5,6))\n",
    "\n",
    "# Chart 2: Sentiment of Comments classified as Offensive\n",
    "plt.barh(index, freq, alpha=0.8, color=['#e74c3c','#3c6382','black'])\n",
    "plt.xlabel('Number of comments', fontsize=13)\n",
    "plt.ylabel('Sentiment', fontsize=13)\n",
    "plt.yticks(index, labels, fontsize=11) \n",
    "plt.title(\"Offensive Language by Sentiment\", fontsize=12)\n",
    "plt.show()"
   ]
  },
  {
   "cell_type": "code",
   "execution_count": null,
   "metadata": {
    "colab": {
     "base_uri": "https://localhost:8080/",
     "height": 407
    },
    "id": "27iOoJH4I8N3",
    "outputId": "4090163b-6462-4108-9267-f3a3b370d464"
   },
   "outputs": [
    {
     "data": {
      "image/png": "[encoded data removed]",
      "text/plain": [
       "<Figure size 360x432 with 1 Axes>"
      ]
     },
     "metadata": {
      "needs_background": "light",
      "tags": []
     },
     "output_type": "display_data"
    }
   ],
   "source": [
    "labels = ['Negative', 'Positive', 'Neutral']\n",
    "freq = [df_neither.sentiment.value_counts()[-1], df_neither.sentiment.value_counts()[1], df_neither.sentiment.value_counts()[0]]\n",
    "index = np.arange(len(freq))\n",
    "\n",
    "plt.figure(figsize=(5,6))\n",
    "\n",
    "# Chart 3: Sentiment of Comments classified as Neither\n",
    "plt.barh(index, freq, alpha=0.8, color=['#e74c3c','#3c6382','black'])\n",
    "plt.xlabel('Number of comments', fontsize=13)\n",
    "plt.ylabel('Sentiment', fontsize=13)\n",
    "plt.yticks(index, labels, fontsize=11) \n",
    "plt.title(\"Normal Comments by Sentiment\", fontsize=12)\n",
    "plt.show()"
   ]
  },
  {
   "cell_type": "markdown",
   "metadata": {
    "id": "B1RYOXjEI-t5"
   },
   "source": [
    "### Scatter Plot of Hate Score"
   ]
  },
  {
   "cell_type": "code",
   "execution_count": null,
   "metadata": {
    "colab": {
     "base_uri": "https://localhost:8080/",
     "height": 400
    },
    "id": "_xpdu9vjI-QX",
    "outputId": "c9ab4e73-761c-4612-c9ed-7f366249fa1c"
   },
   "outputs": [
    {
     "data": {
      "text/plain": [
       "<Figure size 1440x360 with 0 Axes>"
      ]
     },
     "metadata": {
      "tags": []
     },
     "output_type": "display_data"
    },
    {
     "data": {
      "image/png": "[encoded data removed]",
      "text/plain": [
       "<Figure size 360x360 with 1 Axes>"
      ]
     },
     "metadata": {
      "needs_background": "light",
      "tags": []
     },
     "output_type": "display_data"
    }
   ],
   "source": [
    "# Provide a dictionary to the palette argument\n",
    "plt.figure(figsize=(20,5))\n",
    "sns.lmplot( x=\"compound\", y=\"hate\", data=df_hate, fit_reg=False, hue='Class', legend=False, palette=dict(neither=\"black\", offensive_language=\"#3c6382\", hate_speech=\"#e74c3c\"))\n",
    " \n",
    "# Move the legend to an empty part of the plot\n",
    "plt.legend(loc='lower right')\n",
    "plt.show()"
   ]
  },
  {
   "cell_type": "markdown",
   "metadata": {
    "id": "W1L_M_40JC_g"
   },
   "source": [
    "### Top 10 Hateful Comments"
   ]
  },
  {
   "cell_type": "code",
   "execution_count": null,
   "metadata": {
    "id": "jD-l8SFoJEGw"
   },
   "outputs": [],
   "source": [
    "df_hate.sort_values('hate', inplace=True, ascending=False)"
   ]
  },
  {
   "cell_type": "code",
   "execution_count": null,
   "metadata": {
    "id": "7YZ6ipOtJGv4"
   },
   "outputs": [],
   "source": [
    "df_hate.reset_index(drop=True, inplace=True)"
   ]
  },
  {
   "cell_type": "code",
   "execution_count": null,
   "metadata": {
    "colab": {
     "base_uri": "https://localhost:8080/",
     "height": 359
    },
    "id": "v5eg8EgIJIA4",
    "outputId": "36f25d58-a872-42ce-d57c-3d3c852d7a0a"
   },
   "outputs": [
    {
     "data": {
      "text/html": [
       "<div>\n",
       "<style scoped>\n",
       "    .dataframe tbody tr th:only-of-type {\n",
       "        vertical-align: middle;\n",
       "    }\n",
       "\n",
       "    .dataframe tbody tr th {\n",
       "        vertical-align: top;\n",
       "    }\n",
       "\n",
       "    .dataframe thead th {\n",
       "        text-align: right;\n",
       "    }\n",
       "</style>\n",
       "<table border=\"1\" class=\"dataframe\">\n",
       "  <thead>\n",
       "    <tr style=\"text-align: right;\">\n",
       "      <th></th>\n",
       "      <th>comment</th>\n",
       "      <th>negative</th>\n",
       "      <th>neutral</th>\n",
       "      <th>positive</th>\n",
       "      <th>compound</th>\n",
       "      <th>sentiment</th>\n",
       "      <th>Class</th>\n",
       "      <th>hate</th>\n",
       "      <th>offensive</th>\n",
       "      <th>neither</th>\n",
       "    </tr>\n",
       "  </thead>\n",
       "  <tbody>\n",
       "    <tr>\n",
       "      <th>0</th>\n",
       "      <td>Don&amp;#39;t show this video to a feminist they a...</td>\n",
       "      <td>0.116</td>\n",
       "      <td>0.785</td>\n",
       "      <td>0.098</td>\n",
       "      <td>-0.1449</td>\n",
       "      <td>-1</td>\n",
       "      <td>hate_speech</td>\n",
       "      <td>0.541514</td>\n",
       "      <td>0.052400</td>\n",
       "      <td>0.406085</td>\n",
       "    </tr>\n",
       "    <tr>\n",
       "      <th>1</th>\n",
       "      <td>wide neck nigga</td>\n",
       "      <td>0.000</td>\n",
       "      <td>1.000</td>\n",
       "      <td>0.000</td>\n",
       "      <td>0.0000</td>\n",
       "      <td>0</td>\n",
       "      <td>hate_speech</td>\n",
       "      <td>0.522910</td>\n",
       "      <td>0.470754</td>\n",
       "      <td>0.006336</td>\n",
       "    </tr>\n",
       "    <tr>\n",
       "      <th>2</th>\n",
       "      <td>Spocchio Stfu stupid.</td>\n",
       "      <td>0.630</td>\n",
       "      <td>0.370</td>\n",
       "      <td>0.000</td>\n",
       "      <td>-0.5267</td>\n",
       "      <td>-1</td>\n",
       "      <td>hate_speech</td>\n",
       "      <td>0.506014</td>\n",
       "      <td>0.166733</td>\n",
       "      <td>0.327253</td>\n",
       "    </tr>\n",
       "    <tr>\n",
       "      <th>3</th>\n",
       "      <td>&amp;quot;Mastering Python&amp;quot; By Michael B. Whi...</td>\n",
       "      <td>0.000</td>\n",
       "      <td>0.734</td>\n",
       "      <td>0.266</td>\n",
       "      <td>0.4404</td>\n",
       "      <td>1</td>\n",
       "      <td>hate_speech</td>\n",
       "      <td>0.505481</td>\n",
       "      <td>0.431400</td>\n",
       "      <td>0.063118</td>\n",
       "    </tr>\n",
       "    <tr>\n",
       "      <th>4</th>\n",
       "      <td>the negative weights will make the sum higher ...</td>\n",
       "      <td>0.107</td>\n",
       "      <td>0.678</td>\n",
       "      <td>0.215</td>\n",
       "      <td>0.5478</td>\n",
       "      <td>1</td>\n",
       "      <td>hate_speech</td>\n",
       "      <td>0.501181</td>\n",
       "      <td>0.419648</td>\n",
       "      <td>0.079171</td>\n",
       "    </tr>\n",
       "    <tr>\n",
       "      <th>5</th>\n",
       "      <td>Your white board text property is like z-index...</td>\n",
       "      <td>0.000</td>\n",
       "      <td>0.815</td>\n",
       "      <td>0.185</td>\n",
       "      <td>0.3612</td>\n",
       "      <td>1</td>\n",
       "      <td>hate_speech</td>\n",
       "      <td>0.485133</td>\n",
       "      <td>0.461374</td>\n",
       "      <td>0.053492</td>\n",
       "    </tr>\n",
       "    <tr>\n",
       "      <th>6</th>\n",
       "      <td>Letters are more similar to numbers than white...</td>\n",
       "      <td>0.000</td>\n",
       "      <td>0.943</td>\n",
       "      <td>0.057</td>\n",
       "      <td>0.2382</td>\n",
       "      <td>1</td>\n",
       "      <td>hate_speech</td>\n",
       "      <td>0.473595</td>\n",
       "      <td>0.419502</td>\n",
       "      <td>0.106903</td>\n",
       "    </tr>\n",
       "    <tr>\n",
       "      <th>7</th>\n",
       "      <td>Answer &amp;quot;D&amp;quot; Singularity may kill mank...</td>\n",
       "      <td>0.485</td>\n",
       "      <td>0.515</td>\n",
       "      <td>0.000</td>\n",
       "      <td>-0.6908</td>\n",
       "      <td>-1</td>\n",
       "      <td>hate_speech</td>\n",
       "      <td>0.450524</td>\n",
       "      <td>0.150170</td>\n",
       "      <td>0.399306</td>\n",
       "    </tr>\n",
       "    <tr>\n",
       "      <th>8</th>\n",
       "      <td>Thats just the color value, where black is 0 a...</td>\n",
       "      <td>0.000</td>\n",
       "      <td>0.833</td>\n",
       "      <td>0.167</td>\n",
       "      <td>0.3400</td>\n",
       "      <td>1</td>\n",
       "      <td>hate_speech</td>\n",
       "      <td>0.446531</td>\n",
       "      <td>0.363368</td>\n",
       "      <td>0.190101</td>\n",
       "    </tr>\n",
       "    <tr>\n",
       "      <th>9</th>\n",
       "      <td>One thing I&amp;#39;d think about doing is that we...</td>\n",
       "      <td>0.092</td>\n",
       "      <td>0.888</td>\n",
       "      <td>0.020</td>\n",
       "      <td>-0.6908</td>\n",
       "      <td>-1</td>\n",
       "      <td>hate_speech</td>\n",
       "      <td>0.443883</td>\n",
       "      <td>0.416093</td>\n",
       "      <td>0.140024</td>\n",
       "    </tr>\n",
       "  </tbody>\n",
       "</table>\n",
       "</div>"
      ],
      "text/plain": [
       "                                             comment  ...   neither\n",
       "0  Don&#39;t show this video to a feminist they a...  ...  0.406085\n",
       "1                                    wide neck nigga  ...  0.006336\n",
       "2                              Spocchio Stfu stupid.  ...  0.327253\n",
       "3  &quot;Mastering Python&quot; By Michael B. Whi...  ...  0.063118\n",
       "4  the negative weights will make the sum higher ...  ...  0.079171\n",
       "5  Your white board text property is like z-index...  ...  0.053492\n",
       "6  Letters are more similar to numbers than white...  ...  0.106903\n",
       "7  Answer &quot;D&quot; Singularity may kill mank...  ...  0.399306\n",
       "8  Thats just the color value, where black is 0 a...  ...  0.190101\n",
       "9  One thing I&#39;d think about doing is that we...  ...  0.140024\n",
       "\n",
       "[10 rows x 10 columns]"
      ]
     },
     "execution_count": 79,
     "metadata": {
      "tags": []
     },
     "output_type": "execute_result"
    }
   ],
   "source": [
    "df_hate.head(10)"
   ]
  },
  {
   "cell_type": "markdown",
   "metadata": {
    "id": "8MMQR_0PJJ94"
   },
   "source": [
    "###  Top 10 Offensive Comments"
   ]
  },
  {
   "cell_type": "code",
   "execution_count": null,
   "metadata": {
    "id": "Q7LijP9pJLPA"
   },
   "outputs": [],
   "source": [
    "df_offensive.sort_values('offensive',inplace=True, ascending=False)"
   ]
  },
  {
   "cell_type": "code",
   "execution_count": null,
   "metadata": {
    "id": "TM1ZdXi_JNKQ"
   },
   "outputs": [],
   "source": [
    "df_offensive.reset_index(drop=True, inplace=True)"
   ]
  },
  {
   "cell_type": "code",
   "execution_count": null,
   "metadata": {
    "colab": {
     "base_uri": "https://localhost:8080/",
     "height": 359
    },
    "id": "QzuqKuGVJO8A",
    "outputId": "c089444a-c7bf-4f65-d1c0-edde0bef8d15"
   },
   "outputs": [
    {
     "data": {
      "text/html": [
       "<div>\n",
       "<style scoped>\n",
       "    .dataframe tbody tr th:only-of-type {\n",
       "        vertical-align: middle;\n",
       "    }\n",
       "\n",
       "    .dataframe tbody tr th {\n",
       "        vertical-align: top;\n",
       "    }\n",
       "\n",
       "    .dataframe thead th {\n",
       "        text-align: right;\n",
       "    }\n",
       "</style>\n",
       "<table border=\"1\" class=\"dataframe\">\n",
       "  <thead>\n",
       "    <tr style=\"text-align: right;\">\n",
       "      <th></th>\n",
       "      <th>comment</th>\n",
       "      <th>negative</th>\n",
       "      <th>neutral</th>\n",
       "      <th>positive</th>\n",
       "      <th>compound</th>\n",
       "      <th>sentiment</th>\n",
       "      <th>Class</th>\n",
       "      <th>hate</th>\n",
       "      <th>offensive</th>\n",
       "      <th>neither</th>\n",
       "    </tr>\n",
       "  </thead>\n",
       "  <tbody>\n",
       "    <tr>\n",
       "      <th>0</th>\n",
       "      <td>bitch you don&amp;#39;t know my life</td>\n",
       "      <td>0.432</td>\n",
       "      <td>0.568</td>\n",
       "      <td>0.000</td>\n",
       "      <td>-0.5859</td>\n",
       "      <td>-1</td>\n",
       "      <td>offensive_language</td>\n",
       "      <td>0.009290</td>\n",
       "      <td>0.990682</td>\n",
       "      <td>0.000028</td>\n",
       "    </tr>\n",
       "    <tr>\n",
       "      <th>1</th>\n",
       "      <td>Shit, this episode screws me</td>\n",
       "      <td>0.651</td>\n",
       "      <td>0.349</td>\n",
       "      <td>0.000</td>\n",
       "      <td>-0.6808</td>\n",
       "      <td>-1</td>\n",
       "      <td>offensive_language</td>\n",
       "      <td>0.036303</td>\n",
       "      <td>0.963268</td>\n",
       "      <td>0.000429</td>\n",
       "    </tr>\n",
       "    <tr>\n",
       "      <th>2</th>\n",
       "      <td>Good shit man. Good shit. &lt;br&gt;&lt;br&gt;Keep it up.</td>\n",
       "      <td>0.424</td>\n",
       "      <td>0.235</td>\n",
       "      <td>0.341</td>\n",
       "      <td>-0.3400</td>\n",
       "      <td>-1</td>\n",
       "      <td>offensive_language</td>\n",
       "      <td>0.037729</td>\n",
       "      <td>0.962258</td>\n",
       "      <td>0.000013</td>\n",
       "    </tr>\n",
       "    <tr>\n",
       "      <th>3</th>\n",
       "      <td>i know why the teachers giving shit</td>\n",
       "      <td>0.360</td>\n",
       "      <td>0.400</td>\n",
       "      <td>0.240</td>\n",
       "      <td>-0.2960</td>\n",
       "      <td>-1</td>\n",
       "      <td>offensive_language</td>\n",
       "      <td>0.034702</td>\n",
       "      <td>0.961402</td>\n",
       "      <td>0.003896</td>\n",
       "    </tr>\n",
       "    <tr>\n",
       "      <th>4</th>\n",
       "      <td>@pinned By code with Harry shit</td>\n",
       "      <td>0.474</td>\n",
       "      <td>0.526</td>\n",
       "      <td>0.000</td>\n",
       "      <td>-0.5574</td>\n",
       "      <td>-1</td>\n",
       "      <td>offensive_language</td>\n",
       "      <td>0.035983</td>\n",
       "      <td>0.960616</td>\n",
       "      <td>0.003401</td>\n",
       "    </tr>\n",
       "    <tr>\n",
       "      <th>5</th>\n",
       "      <td>i always watch these when im high and this shi...</td>\n",
       "      <td>0.235</td>\n",
       "      <td>0.609</td>\n",
       "      <td>0.155</td>\n",
       "      <td>-0.3506</td>\n",
       "      <td>-1</td>\n",
       "      <td>offensive_language</td>\n",
       "      <td>0.032298</td>\n",
       "      <td>0.959196</td>\n",
       "      <td>0.008507</td>\n",
       "    </tr>\n",
       "    <tr>\n",
       "      <th>6</th>\n",
       "      <td>Its best and still i dont get it&lt;br&gt;Shit</td>\n",
       "      <td>0.000</td>\n",
       "      <td>0.588</td>\n",
       "      <td>0.412</td>\n",
       "      <td>0.6369</td>\n",
       "      <td>1</td>\n",
       "      <td>offensive_language</td>\n",
       "      <td>0.037381</td>\n",
       "      <td>0.959034</td>\n",
       "      <td>0.003585</td>\n",
       "    </tr>\n",
       "    <tr>\n",
       "      <th>7</th>\n",
       "      <td>W3school is pretty useless shit. Use the Headf...</td>\n",
       "      <td>0.386</td>\n",
       "      <td>0.422</td>\n",
       "      <td>0.193</td>\n",
       "      <td>-0.4939</td>\n",
       "      <td>-1</td>\n",
       "      <td>offensive_language</td>\n",
       "      <td>0.028291</td>\n",
       "      <td>0.953240</td>\n",
       "      <td>0.018470</td>\n",
       "    </tr>\n",
       "    <tr>\n",
       "      <th>8</th>\n",
       "      <td>oh shit my bad i figured it out u gotta use qu...</td>\n",
       "      <td>0.372</td>\n",
       "      <td>0.628</td>\n",
       "      <td>0.000</td>\n",
       "      <td>-0.7964</td>\n",
       "      <td>-1</td>\n",
       "      <td>offensive_language</td>\n",
       "      <td>0.022658</td>\n",
       "      <td>0.953011</td>\n",
       "      <td>0.024331</td>\n",
       "    </tr>\n",
       "    <tr>\n",
       "      <th>9</th>\n",
       "      <td>Ruined by shit audio</td>\n",
       "      <td>0.770</td>\n",
       "      <td>0.230</td>\n",
       "      <td>0.000</td>\n",
       "      <td>-0.7717</td>\n",
       "      <td>-1</td>\n",
       "      <td>offensive_language</td>\n",
       "      <td>0.046552</td>\n",
       "      <td>0.948359</td>\n",
       "      <td>0.005090</td>\n",
       "    </tr>\n",
       "  </tbody>\n",
       "</table>\n",
       "</div>"
      ],
      "text/plain": [
       "                                             comment  ...   neither\n",
       "0                   bitch you don&#39;t know my life  ...  0.000028\n",
       "1                       Shit, this episode screws me  ...  0.000429\n",
       "2      Good shit man. Good shit. <br><br>Keep it up.  ...  0.000013\n",
       "3                i know why the teachers giving shit  ...  0.003896\n",
       "4                    @pinned By code with Harry shit  ...  0.003401\n",
       "5  i always watch these when im high and this shi...  ...  0.008507\n",
       "6           Its best and still i dont get it<br>Shit  ...  0.003585\n",
       "7  W3school is pretty useless shit. Use the Headf...  ...  0.018470\n",
       "8  oh shit my bad i figured it out u gotta use qu...  ...  0.024331\n",
       "9                               Ruined by shit audio  ...  0.005090\n",
       "\n",
       "[10 rows x 10 columns]"
      ]
     },
     "execution_count": 82,
     "metadata": {
      "tags": []
     },
     "output_type": "execute_result"
    }
   ],
   "source": [
    "df_offensive.head(10)"
   ]
  },
  {
   "cell_type": "code",
   "execution_count": null,
   "metadata": {
    "id": "dupNJKSSRJ3u"
   },
   "outputs": [],
   "source": [
    "df_offensive.to_excel(\"df_offensive.xlsx\")"
   ]
  },
  {
   "cell_type": "markdown",
   "metadata": {
    "id": "fT_vYp55JSGy"
   },
   "source": [
    "### Trying on Specific Comments"
   ]
  },
  {
   "cell_type": "code",
   "execution_count": null,
   "metadata": {
    "colab": {
     "base_uri": "https://localhost:8080/"
    },
    "id": "tYCGdkr9JTEJ",
    "outputId": "af49c14e-14b4-4ce8-ef33-976f127f91a7"
   },
   "outputs": [
    {
     "data": {
      "text/plain": [
       "['U kept ur words.u made us understand simple.thank u.can I get datasets.',\n",
       " 'neither',\n",
       " [{'class_name': 'hate_speech', 'confidence': 0.08186037153545485},\n",
       "  {'class_name': 'offensive_language', 'confidence': 0.3260903532344106},\n",
       "  {'class_name': 'neither', 'confidence': 0.5920492752301345}]]"
      ]
     },
     "execution_count": 84,
     "metadata": {
      "tags": []
     },
     "output_type": "execute_result"
    }
   ],
   "source": [
    "list(sonar.ping(text=df['comment'].iloc[189]).values())"
   ]
  },
  {
   "cell_type": "code",
   "execution_count": null,
   "metadata": {
    "colab": {
     "base_uri": "https://localhost:8080/"
    },
    "id": "RIYPLbGlJUqX",
    "outputId": "ddeeb2bf-b56e-4d7b-8148-149775d70c6e"
   },
   "outputs": [
    {
     "data": {
      "text/plain": [
       "{'classes': [{'class_name': 'hate_speech', 'confidence': 0.07837191429579946},\n",
       "  {'class_name': 'offensive_language', 'confidence': 0.4040704050522746},\n",
       "  {'class_name': 'neither', 'confidence': 0.5175576806519259}],\n",
       " 'text': 'What a bullshit video',\n",
       " 'top_class': 'neither'}"
      ]
     },
     "execution_count": 85,
     "metadata": {
      "tags": []
     },
     "output_type": "execute_result"
    }
   ],
   "source": [
    "sonar.ping(text=\"What a bullshit video\")"
   ]
  },
  {
   "cell_type": "code",
   "execution_count": null,
   "metadata": {
    "colab": {
     "base_uri": "https://localhost:8080/"
    },
    "id": "NaHbowGDTIFN",
    "outputId": "6cf31e47-7686-4d6c-d1fa-7bcd6e06bc53"
   },
   "outputs": [
    {
     "data": {
      "text/plain": [
       "{'classes': [{'class_name': 'hate_speech', 'confidence': 0.03981285152760139},\n",
       "  {'class_name': 'offensive_language', 'confidence': 0.32427200631375713},\n",
       "  {'class_name': 'neither', 'confidence': 0.6359151421586414}],\n",
       " 'text': 'An excellent narration',\n",
       " 'top_class': 'neither'}"
      ]
     },
     "execution_count": 86,
     "metadata": {
      "tags": []
     },
     "output_type": "execute_result"
    }
   ],
   "source": [
    "sonar.ping(text=\"An excellent narration\")"
   ]
  },
  {
   "cell_type": "markdown",
   "metadata": {
    "id": "60i9ScbmJaLp"
   },
   "source": [
    "### Saving Results"
   ]
  },
  {
   "cell_type": "code",
   "execution_count": null,
   "metadata": {
    "id": "ZsNRnkTLJY0Q"
   },
   "outputs": [],
   "source": [
    "df.drop(['negative', 'neutral', 'positive', 'compound', 'sentiment'],axis=1, inplace=True)\n",
    "df.to_pickle('/content/drive/MyDrive/YouTube-Project/hate-sonar.pkl')"
   ]
  },
  {
   "cell_type": "code",
   "execution_count": null,
   "metadata": {
    "id": "VylWCeEtMe2z"
   },
   "outputs": [],
   "source": [
    ""
   ]
  }
 ],
 "metadata": {
  "colab": {
   "collapsed_sections": [],
   "name": "04. capstone-youtube-hatesonar-hate-speech-detection",
   "provenance": []
  },
  "kernelspec": {
   "display_name": "Python 3",
   "name": "python3"
  },
  "language_info": {
   "name": "python"
  }
 },
 "nbformat": 4,
 "nbformat_minor": 0
}
