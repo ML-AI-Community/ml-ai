{
 "cells": [
  {
   "cell_type": "markdown",
   "metadata": {},
   "source": [
    "# Brahmanand Singh\r\n",
    "# Association Analysis\r\n"
   ]
  },
  {
   "cell_type": "markdown",
   "metadata": {},
   "source": [
    " One Item set with support greater than 0.5 : 4 \r\n",
    "\r\n",
    "\r\n",
    "Two Items set with Support greater than 0.5 :  4\r\n",
    "\r\n",
    "Three Items set with Support greater than 0.5 : 0"
   ]
  },
  {
   "cell_type": "code",
   "execution_count": 34,
   "metadata": {},
   "outputs": [
    {
     "name": "stdout",
     "output_type": "stream",
     "text": [
      "<class 'pandas.core.frame.DataFrame'>\n",
      "RangeIndex: 11 entries, 0 to 10\n",
      "Data columns (total 2 columns):\n",
      " #   Column          Non-Null Count  Dtype \n",
      "---  ------          --------------  ----- \n",
      " 0   Transaction_ID  11 non-null     int64 \n",
      " 1   Items           11 non-null     object\n",
      "dtypes: int64(1), object(1)\n",
      "memory usage: 304.0+ bytes\n"
     ]
    },
    {
     "data": {
      "text/html": "<div>\n<style scoped>\n    .dataframe tbody tr th:only-of-type {\n        vertical-align: middle;\n    }\n\n    .dataframe tbody tr th {\n        vertical-align: top;\n    }\n\n    .dataframe thead th {\n        text-align: right;\n    }\n</style>\n<table border=\"1\" class=\"dataframe\">\n  <thead>\n    <tr style=\"text-align: right;\">\n      <th></th>\n      <th>Transaction_ID</th>\n      <th>Items</th>\n    </tr>\n  </thead>\n  <tbody>\n    <tr>\n      <th>0</th>\n      <td>1</td>\n      <td>{item1,item2,item3,item4,item5}</td>\n    </tr>\n    <tr>\n      <th>1</th>\n      <td>2</td>\n      <td>{item2,item4}</td>\n    </tr>\n    <tr>\n      <th>2</th>\n      <td>3</td>\n      <td>{item1,item2,item3,item5}</td>\n    </tr>\n    <tr>\n      <th>3</th>\n      <td>4</td>\n      <td>{item2}</td>\n    </tr>\n    <tr>\n      <th>4</th>\n      <td>5</td>\n      <td>{item2,item3,item4,item5}</td>\n    </tr>\n    <tr>\n      <th>5</th>\n      <td>6</td>\n      <td>{item1}</td>\n    </tr>\n    <tr>\n      <th>6</th>\n      <td>7</td>\n      <td>{item1,item2,item4,item5}</td>\n    </tr>\n    <tr>\n      <th>7</th>\n      <td>8</td>\n      <td>{item1,item3,item5}</td>\n    </tr>\n    <tr>\n      <th>8</th>\n      <td>9</td>\n      <td>{item1,item2,item3,item5}</td>\n    </tr>\n    <tr>\n      <th>9</th>\n      <td>10</td>\n      <td>{item2,item3}</td>\n    </tr>\n    <tr>\n      <th>10</th>\n      <td>11</td>\n      <td>{item1,item2,item3,item5}</td>\n    </tr>\n  </tbody>\n</table>\n</div>",
      "text/plain": "    Transaction_ID                            Items\n0                1  {item1,item2,item3,item4,item5}\n1                2                    {item2,item4}\n2                3        {item1,item2,item3,item5}\n3                4                          {item2}\n4                5        {item2,item3,item4,item5}\n5                6                          {item1}\n6                7        {item1,item2,item4,item5}\n7                8              {item1,item3,item5}\n8                9        {item1,item2,item3,item5}\n9               10                    {item2,item3}\n10              11        {item1,item2,item3,item5}"
     },
     "execution_count": 34,
     "metadata": {},
     "output_type": "execute_result"
    }
   ],
   "source": [
    "import pandas as pd # data processing\r\n",
    "\r\n",
    "#Read the input file\r\n",
    "df = pd.read_csv(\"~/input.csv\",quoting=True)\r\n",
    "df.info()\r\n",
    "df"
   ]
  },
  {
   "cell_type": "markdown",
   "metadata": {},
   "source": [
    "#Cleaning the items by removing the curly Braces ({})"
   ]
  },
  {
   "cell_type": "code",
   "execution_count": 35,
   "metadata": {},
   "outputs": [
    {
     "name": "stderr",
     "output_type": "stream",
     "text": [
      "ipykernel_launcher:1: FutureWarning: The default value of regex will change from True to False in a future version. In addition, single character regular expressions will *not* be treated as literal strings when regex=True.\n"
     ]
    },
    {
     "data": {
      "text/html": "<div>\n<style scoped>\n    .dataframe tbody tr th:only-of-type {\n        vertical-align: middle;\n    }\n\n    .dataframe tbody tr th {\n        vertical-align: top;\n    }\n\n    .dataframe thead th {\n        text-align: right;\n    }\n</style>\n<table border=\"1\" class=\"dataframe\">\n  <thead>\n    <tr style=\"text-align: right;\">\n      <th></th>\n      <th>Transaction_ID</th>\n      <th>Items</th>\n    </tr>\n  </thead>\n  <tbody>\n    <tr>\n      <th>0</th>\n      <td>1</td>\n      <td>item1,item2,item3,item4,item5</td>\n    </tr>\n    <tr>\n      <th>1</th>\n      <td>2</td>\n      <td>item2,item4</td>\n    </tr>\n    <tr>\n      <th>2</th>\n      <td>3</td>\n      <td>item1,item2,item3,item5</td>\n    </tr>\n    <tr>\n      <th>3</th>\n      <td>4</td>\n      <td>item2</td>\n    </tr>\n    <tr>\n      <th>4</th>\n      <td>5</td>\n      <td>item2,item3,item4,item5</td>\n    </tr>\n    <tr>\n      <th>5</th>\n      <td>6</td>\n      <td>item1</td>\n    </tr>\n    <tr>\n      <th>6</th>\n      <td>7</td>\n      <td>item1,item2,item4,item5</td>\n    </tr>\n    <tr>\n      <th>7</th>\n      <td>8</td>\n      <td>item1,item3,item5</td>\n    </tr>\n    <tr>\n      <th>8</th>\n      <td>9</td>\n      <td>item1,item2,item3,item5</td>\n    </tr>\n    <tr>\n      <th>9</th>\n      <td>10</td>\n      <td>item2,item3</td>\n    </tr>\n    <tr>\n      <th>10</th>\n      <td>11</td>\n      <td>item1,item2,item3,item5</td>\n    </tr>\n  </tbody>\n</table>\n</div>",
      "text/plain": "    Transaction_ID                          Items\n0                1  item1,item2,item3,item4,item5\n1                2                    item2,item4\n2                3        item1,item2,item3,item5\n3                4                          item2\n4                5        item2,item3,item4,item5\n5                6                          item1\n6                7        item1,item2,item4,item5\n7                8              item1,item3,item5\n8                9        item1,item2,item3,item5\n9               10                    item2,item3\n10              11        item1,item2,item3,item5"
     },
     "execution_count": 35,
     "metadata": {},
     "output_type": "execute_result"
    }
   ],
   "source": [
    "df['Items']=df['Items'].str.replace('{','').str.replace('}','')\r\n",
    "df"
   ]
  },
  {
   "cell_type": "markdown",
   "metadata": {},
   "source": [
    "Dropping the transaction ID as this is not needed"
   ]
  },
  {
   "cell_type": "code",
   "execution_count": 36,
   "metadata": {},
   "outputs": [],
   "source": [
    "df.drop([\"Transaction_ID\"], axis=1, inplace=True)"
   ]
  },
  {
   "cell_type": "markdown",
   "metadata": {},
   "source": [
    "#Adding values in a list and then splitting them in order to encode them properly"
   ]
  },
  {
   "cell_type": "code",
   "execution_count": 37,
   "metadata": {},
   "outputs": [
    {
     "data": {
      "text/plain": "[['item1,item2,item3,item4,item5'],\n ['item2,item4'],\n ['item1,item2,item3,item5'],\n ['item2'],\n ['item2,item3,item4,item5'],\n ['item1'],\n ['item1,item2,item4,item5'],\n ['item1,item3,item5'],\n ['item1,item2,item3,item5'],\n ['item2,item3'],\n ['item1,item2,item3,item5']]"
     },
     "execution_count": 37,
     "metadata": {},
     "output_type": "execute_result"
    }
   ],
   "source": [
    "transactions = [] \r\n",
    "for i in range(0,len(df)): \r\n",
    "    transactions.append(list(df.iloc[i,].values))\r\n",
    "transactions\r\n"
   ]
  },
  {
   "cell_type": "markdown",
   "metadata": {},
   "source": [
    "As all the items are coming as single element, need to split them for different elements"
   ]
  },
  {
   "cell_type": "code",
   "execution_count": 38,
   "metadata": {},
   "outputs": [
    {
     "data": {
      "text/plain": "[['item1', 'item2', 'item3', 'item4', 'item5'],\n ['item2', 'item4'],\n ['item1', 'item2', 'item3', 'item5'],\n ['item2'],\n ['item2', 'item3', 'item4', 'item5'],\n ['item1'],\n ['item1', 'item2', 'item4', 'item5'],\n ['item1', 'item3', 'item5'],\n ['item1', 'item2', 'item3', 'item5'],\n ['item2', 'item3'],\n ['item1', 'item2', 'item3', 'item5']]"
     },
     "execution_count": 38,
     "metadata": {},
     "output_type": "execute_result"
    }
   ],
   "source": [
    "final_trans = [sublist[0].split(',') for sublist in transactions]\r\n",
    "final_trans"
   ]
  },
  {
   "cell_type": "markdown",
   "metadata": {},
   "source": [
    "Need to encode the values in 1/0 , or True Flase and then convert into dataframe\r\n",
    "Making as an array"
   ]
  },
  {
   "cell_type": "code",
   "execution_count": 39,
   "metadata": {},
   "outputs": [
    {
     "data": {
      "text/plain": "array([[1, 1, 1, 1, 1],\n       [0, 1, 0, 1, 0],\n       [1, 1, 1, 0, 1],\n       [0, 1, 0, 0, 0],\n       [0, 1, 1, 1, 1],\n       [1, 0, 0, 0, 0],\n       [1, 1, 0, 1, 1],\n       [1, 0, 1, 0, 1],\n       [1, 1, 1, 0, 1],\n       [0, 1, 1, 0, 0],\n       [1, 1, 1, 0, 1]])"
     },
     "execution_count": 39,
     "metadata": {},
     "output_type": "execute_result"
    }
   ],
   "source": [
    "from mlxtend.preprocessing import TransactionEncoder\r\n",
    "te = TransactionEncoder()\r\n",
    "te_ary = te.fit(final_trans).transform(final_trans)\r\n",
    "te_ary.astype(\"int\")  #this will print the 1 or 0\r\n",
    "# te_ary #this will print in True or False Format "
   ]
  },
  {
   "cell_type": "markdown",
   "metadata": {},
   "source": [
    "# Displaying the final data, each items are encoded properly for True/false"
   ]
  },
  {
   "cell_type": "code",
   "execution_count": 40,
   "metadata": {},
   "outputs": [
    {
     "data": {
      "text/html": "<div>\n<style scoped>\n    .dataframe tbody tr th:only-of-type {\n        vertical-align: middle;\n    }\n\n    .dataframe tbody tr th {\n        vertical-align: top;\n    }\n\n    .dataframe thead th {\n        text-align: right;\n    }\n</style>\n<table border=\"1\" class=\"dataframe\">\n  <thead>\n    <tr style=\"text-align: right;\">\n      <th></th>\n      <th>item1</th>\n      <th>item2</th>\n      <th>item3</th>\n      <th>item4</th>\n      <th>item5</th>\n    </tr>\n  </thead>\n  <tbody>\n    <tr>\n      <th>0</th>\n      <td>True</td>\n      <td>True</td>\n      <td>True</td>\n      <td>True</td>\n      <td>True</td>\n    </tr>\n    <tr>\n      <th>1</th>\n      <td>False</td>\n      <td>True</td>\n      <td>False</td>\n      <td>True</td>\n      <td>False</td>\n    </tr>\n    <tr>\n      <th>2</th>\n      <td>True</td>\n      <td>True</td>\n      <td>True</td>\n      <td>False</td>\n      <td>True</td>\n    </tr>\n    <tr>\n      <th>3</th>\n      <td>False</td>\n      <td>True</td>\n      <td>False</td>\n      <td>False</td>\n      <td>False</td>\n    </tr>\n    <tr>\n      <th>4</th>\n      <td>False</td>\n      <td>True</td>\n      <td>True</td>\n      <td>True</td>\n      <td>True</td>\n    </tr>\n    <tr>\n      <th>5</th>\n      <td>True</td>\n      <td>False</td>\n      <td>False</td>\n      <td>False</td>\n      <td>False</td>\n    </tr>\n    <tr>\n      <th>6</th>\n      <td>True</td>\n      <td>True</td>\n      <td>False</td>\n      <td>True</td>\n      <td>True</td>\n    </tr>\n    <tr>\n      <th>7</th>\n      <td>True</td>\n      <td>False</td>\n      <td>True</td>\n      <td>False</td>\n      <td>True</td>\n    </tr>\n    <tr>\n      <th>8</th>\n      <td>True</td>\n      <td>True</td>\n      <td>True</td>\n      <td>False</td>\n      <td>True</td>\n    </tr>\n    <tr>\n      <th>9</th>\n      <td>False</td>\n      <td>True</td>\n      <td>True</td>\n      <td>False</td>\n      <td>False</td>\n    </tr>\n    <tr>\n      <th>10</th>\n      <td>True</td>\n      <td>True</td>\n      <td>True</td>\n      <td>False</td>\n      <td>True</td>\n    </tr>\n  </tbody>\n</table>\n</div>",
      "text/plain": "    item1  item2  item3  item4  item5\n0    True   True   True   True   True\n1   False   True  False   True  False\n2    True   True   True  False   True\n3   False   True  False  False  False\n4   False   True   True   True   True\n5    True  False  False  False  False\n6    True   True  False   True   True\n7    True  False   True  False   True\n8    True   True   True  False   True\n9   False   True   True  False  False\n10   True   True   True  False   True"
     },
     "execution_count": 40,
     "metadata": {},
     "output_type": "execute_result"
    }
   ],
   "source": [
    "final_df=pd.DataFrame(te_ary, columns=te.columns_)\r\n",
    "final_df"
   ]
  },
  {
   "cell_type": "code",
   "execution_count": 41,
   "metadata": {},
   "outputs": [
    {
     "data": {
      "text/html": "<div>\n<style scoped>\n    .dataframe tbody tr th:only-of-type {\n        vertical-align: middle;\n    }\n\n    .dataframe tbody tr th {\n        vertical-align: top;\n    }\n\n    .dataframe thead th {\n        text-align: right;\n    }\n</style>\n<table border=\"1\" class=\"dataframe\">\n  <thead>\n    <tr style=\"text-align: right;\">\n      <th></th>\n      <th>item1</th>\n      <th>item2</th>\n      <th>item3</th>\n      <th>item4</th>\n      <th>item5</th>\n    </tr>\n  </thead>\n  <tbody>\n    <tr>\n      <th>0</th>\n      <td>1</td>\n      <td>1</td>\n      <td>1</td>\n      <td>1</td>\n      <td>1</td>\n    </tr>\n    <tr>\n      <th>1</th>\n      <td>0</td>\n      <td>1</td>\n      <td>0</td>\n      <td>1</td>\n      <td>0</td>\n    </tr>\n    <tr>\n      <th>2</th>\n      <td>1</td>\n      <td>1</td>\n      <td>1</td>\n      <td>0</td>\n      <td>1</td>\n    </tr>\n    <tr>\n      <th>3</th>\n      <td>0</td>\n      <td>1</td>\n      <td>0</td>\n      <td>0</td>\n      <td>0</td>\n    </tr>\n    <tr>\n      <th>4</th>\n      <td>0</td>\n      <td>1</td>\n      <td>1</td>\n      <td>1</td>\n      <td>1</td>\n    </tr>\n    <tr>\n      <th>5</th>\n      <td>1</td>\n      <td>0</td>\n      <td>0</td>\n      <td>0</td>\n      <td>0</td>\n    </tr>\n    <tr>\n      <th>6</th>\n      <td>1</td>\n      <td>1</td>\n      <td>0</td>\n      <td>1</td>\n      <td>1</td>\n    </tr>\n    <tr>\n      <th>7</th>\n      <td>1</td>\n      <td>0</td>\n      <td>1</td>\n      <td>0</td>\n      <td>1</td>\n    </tr>\n    <tr>\n      <th>8</th>\n      <td>1</td>\n      <td>1</td>\n      <td>1</td>\n      <td>0</td>\n      <td>1</td>\n    </tr>\n    <tr>\n      <th>9</th>\n      <td>0</td>\n      <td>1</td>\n      <td>1</td>\n      <td>0</td>\n      <td>0</td>\n    </tr>\n    <tr>\n      <th>10</th>\n      <td>1</td>\n      <td>1</td>\n      <td>1</td>\n      <td>0</td>\n      <td>1</td>\n    </tr>\n  </tbody>\n</table>\n</div>",
      "text/plain": "    item1  item2  item3  item4  item5\n0       1      1      1      1      1\n1       0      1      0      1      0\n2       1      1      1      0      1\n3       0      1      0      0      0\n4       0      1      1      1      1\n5       1      0      0      0      0\n6       1      1      0      1      1\n7       1      0      1      0      1\n8       1      1      1      0      1\n9       0      1      1      0      0\n10      1      1      1      0      1"
     },
     "execution_count": 41,
     "metadata": {},
     "output_type": "execute_result"
    }
   ],
   "source": [
    "final_df=pd.DataFrame(te_ary.astype(\"int\"), columns=te.columns_)\r\n",
    "final_df"
   ]
  },
  {
   "cell_type": "markdown",
   "metadata": {},
   "source": [
    "As we have data in Binary format in the DF, we can sum it and count the number of rows and then compute the percentage \r\n",
    "This will help in answering questions like which item is ordered most / least etc."
   ]
  },
  {
   "cell_type": "code",
   "execution_count": 42,
   "metadata": {},
   "outputs": [],
   "source": [
    "item_sum = final_df.sum().sort_values(ascending = False).reset_index().head()\r\n",
    "item_sum.rename(columns={item_sum.columns[0]:'Item_name',item_sum.columns[1]:'Item_count'}, inplace=True)"
   ]
  },
  {
   "cell_type": "code",
   "execution_count": 43,
   "metadata": {},
   "outputs": [
    {
     "data": {
      "text/html": "<div>\n<style scoped>\n    .dataframe tbody tr th:only-of-type {\n        vertical-align: middle;\n    }\n\n    .dataframe tbody tr th {\n        vertical-align: top;\n    }\n\n    .dataframe thead th {\n        text-align: right;\n    }\n</style>\n<table border=\"1\" class=\"dataframe\">\n  <thead>\n    <tr style=\"text-align: right;\">\n      <th></th>\n      <th>Item_name</th>\n      <th>Item_count</th>\n      <th>Item_percent</th>\n      <th>Tot_percent</th>\n    </tr>\n  </thead>\n  <tbody>\n    <tr>\n      <th>0</th>\n      <td>item2</td>\n      <td>9</td>\n      <td>0.264706</td>\n      <td>0.264706</td>\n    </tr>\n    <tr>\n      <th>1</th>\n      <td>item1</td>\n      <td>7</td>\n      <td>0.205882</td>\n      <td>0.470588</td>\n    </tr>\n    <tr>\n      <th>2</th>\n      <td>item3</td>\n      <td>7</td>\n      <td>0.205882</td>\n      <td>0.676471</td>\n    </tr>\n    <tr>\n      <th>3</th>\n      <td>item5</td>\n      <td>7</td>\n      <td>0.205882</td>\n      <td>0.882353</td>\n    </tr>\n    <tr>\n      <th>4</th>\n      <td>item4</td>\n      <td>4</td>\n      <td>0.117647</td>\n      <td>1.000000</td>\n    </tr>\n  </tbody>\n</table>\n</div>",
      "text/plain": "  Item_name  Item_count  Item_percent  Tot_percent\n0     item2           9      0.264706     0.264706\n1     item1           7      0.205882     0.470588\n2     item3           7      0.205882     0.676471\n3     item5           7      0.205882     0.882353\n4     item4           4      0.117647     1.000000"
     },
     "execution_count": 43,
     "metadata": {},
     "output_type": "execute_result"
    }
   ],
   "source": [
    "# item percent and then cumulative percent.\r\n",
    "tot_item_count = sum(final_df.sum()) # Answer is 34\r\n",
    "item_sum['Item_percent'] = item_sum['Item_count']/tot_item_count\r\n",
    "item_sum['Tot_percent'] = item_sum.Item_percent.cumsum()\r\n",
    "item_sum.head() # List of items with cumulative percentage"
   ]
  },
  {
   "cell_type": "code",
   "execution_count": 44,
   "metadata": {},
   "outputs": [
    {
     "data": {
      "text/plain": "Text(0.5, 1.0, 'Item sales distribution')"
     },
     "execution_count": 44,
     "metadata": {},
     "output_type": "execute_result"
    },
    {
     "data": {
      "image/png": "[encoded data removed]",
      "text/plain": "<Figure size 432x288 with 1 Axes>"
     },
     "metadata": {
      "needs_background": "light"
     },
     "output_type": "display_data"
    }
   ],
   "source": [
    "import matplotlib.pyplot as plt\r\n",
    "import numpy as np\r\n",
    "obj = (list(item_sum['Item_name'].head(n=20)))\r\n",
    "y_pos = np.arange(len(obj))\r\n",
    "performance = list(item_sum['Item_count'].head(n=20))\r\n",
    "\r\n",
    "\r\n",
    "plt.bar(y_pos, performance, align='center', alpha=0.5)\r\n",
    "plt.xticks(y_pos, obj, rotation='vertical')\r\n",
    "plt.ylabel('Item count')\r\n",
    "plt.title('Item sales distribution')"
   ]
  },
  {
   "cell_type": "markdown",
   "metadata": {},
   "source": [
    "# From the above graph we can see the most sold Item is item2 and least sold item is Item4"
   ]
  },
  {
   "cell_type": "markdown",
   "metadata": {},
   "source": [
    "Now data is ready, I am going to use MLXtend implementation of Apriori algorithm"
   ]
  },
  {
   "cell_type": "code",
   "execution_count": 45,
   "metadata": {},
   "outputs": [
    {
     "data": {
      "text/plain": "support     31\nitemsets    31\ndtype: int64"
     },
     "execution_count": 45,
     "metadata": {},
     "output_type": "execute_result"
    }
   ],
   "source": [
    "from mlxtend.frequent_patterns import apriori, association_rules\r\n",
    "# Applying the Apriori Algorithm and using column names for itemset\r\n",
    "ap_out= apriori(final_df, min_support=0.0001,use_colnames=True)\r\n",
    "ap_out.count()  #number of records in the dataframe"
   ]
  },
  {
   "cell_type": "markdown",
   "metadata": {},
   "source": [
    "Need to count the number of item sets which are having single item and 2 items\r\n",
    "We can generate the length column and then apply filter on that"
   ]
  },
  {
   "cell_type": "code",
   "execution_count": 46,
   "metadata": {},
   "outputs": [
    {
     "data": {
      "text/html": "<div>\n<style scoped>\n    .dataframe tbody tr th:only-of-type {\n        vertical-align: middle;\n    }\n\n    .dataframe tbody tr th {\n        vertical-align: top;\n    }\n\n    .dataframe thead th {\n        text-align: right;\n    }\n</style>\n<table border=\"1\" class=\"dataframe\">\n  <thead>\n    <tr style=\"text-align: right;\">\n      <th></th>\n      <th>support</th>\n      <th>itemsets</th>\n      <th>length</th>\n    </tr>\n  </thead>\n  <tbody>\n    <tr>\n      <th>0</th>\n      <td>0.636364</td>\n      <td>(item1)</td>\n      <td>1</td>\n    </tr>\n    <tr>\n      <th>1</th>\n      <td>0.818182</td>\n      <td>(item2)</td>\n      <td>1</td>\n    </tr>\n    <tr>\n      <th>2</th>\n      <td>0.636364</td>\n      <td>(item3)</td>\n      <td>1</td>\n    </tr>\n    <tr>\n      <th>3</th>\n      <td>0.363636</td>\n      <td>(item4)</td>\n      <td>1</td>\n    </tr>\n    <tr>\n      <th>4</th>\n      <td>0.636364</td>\n      <td>(item5)</td>\n      <td>1</td>\n    </tr>\n    <tr>\n      <th>5</th>\n      <td>0.454545</td>\n      <td>(item1, item2)</td>\n      <td>2</td>\n    </tr>\n    <tr>\n      <th>6</th>\n      <td>0.454545</td>\n      <td>(item3, item1)</td>\n      <td>2</td>\n    </tr>\n    <tr>\n      <th>7</th>\n      <td>0.181818</td>\n      <td>(item4, item1)</td>\n      <td>2</td>\n    </tr>\n    <tr>\n      <th>8</th>\n      <td>0.545455</td>\n      <td>(item1, item5)</td>\n      <td>2</td>\n    </tr>\n    <tr>\n      <th>9</th>\n      <td>0.545455</td>\n      <td>(item3, item2)</td>\n      <td>2</td>\n    </tr>\n    <tr>\n      <th>10</th>\n      <td>0.363636</td>\n      <td>(item4, item2)</td>\n      <td>2</td>\n    </tr>\n    <tr>\n      <th>11</th>\n      <td>0.545455</td>\n      <td>(item5, item2)</td>\n      <td>2</td>\n    </tr>\n    <tr>\n      <th>12</th>\n      <td>0.181818</td>\n      <td>(item4, item3)</td>\n      <td>2</td>\n    </tr>\n    <tr>\n      <th>13</th>\n      <td>0.545455</td>\n      <td>(item3, item5)</td>\n      <td>2</td>\n    </tr>\n    <tr>\n      <th>14</th>\n      <td>0.272727</td>\n      <td>(item4, item5)</td>\n      <td>2</td>\n    </tr>\n    <tr>\n      <th>15</th>\n      <td>0.363636</td>\n      <td>(item3, item1, item2)</td>\n      <td>3</td>\n    </tr>\n    <tr>\n      <th>16</th>\n      <td>0.181818</td>\n      <td>(item4, item1, item2)</td>\n      <td>3</td>\n    </tr>\n    <tr>\n      <th>17</th>\n      <td>0.454545</td>\n      <td>(item1, item5, item2)</td>\n      <td>3</td>\n    </tr>\n    <tr>\n      <th>18</th>\n      <td>0.090909</td>\n      <td>(item4, item3, item1)</td>\n      <td>3</td>\n    </tr>\n    <tr>\n      <th>19</th>\n      <td>0.454545</td>\n      <td>(item3, item1, item5)</td>\n      <td>3</td>\n    </tr>\n    <tr>\n      <th>20</th>\n      <td>0.181818</td>\n      <td>(item4, item1, item5)</td>\n      <td>3</td>\n    </tr>\n    <tr>\n      <th>21</th>\n      <td>0.181818</td>\n      <td>(item4, item3, item2)</td>\n      <td>3</td>\n    </tr>\n    <tr>\n      <th>22</th>\n      <td>0.454545</td>\n      <td>(item3, item5, item2)</td>\n      <td>3</td>\n    </tr>\n    <tr>\n      <th>23</th>\n      <td>0.272727</td>\n      <td>(item4, item5, item2)</td>\n      <td>3</td>\n    </tr>\n    <tr>\n      <th>24</th>\n      <td>0.181818</td>\n      <td>(item4, item3, item5)</td>\n      <td>3</td>\n    </tr>\n    <tr>\n      <th>25</th>\n      <td>0.090909</td>\n      <td>(item4, item3, item1, item2)</td>\n      <td>4</td>\n    </tr>\n    <tr>\n      <th>26</th>\n      <td>0.363636</td>\n      <td>(item3, item1, item5, item2)</td>\n      <td>4</td>\n    </tr>\n    <tr>\n      <th>27</th>\n      <td>0.181818</td>\n      <td>(item4, item1, item5, item2)</td>\n      <td>4</td>\n    </tr>\n    <tr>\n      <th>28</th>\n      <td>0.090909</td>\n      <td>(item4, item3, item1, item5)</td>\n      <td>4</td>\n    </tr>\n    <tr>\n      <th>29</th>\n      <td>0.181818</td>\n      <td>(item4, item3, item5, item2)</td>\n      <td>4</td>\n    </tr>\n    <tr>\n      <th>30</th>\n      <td>0.090909</td>\n      <td>(item5, item1, item2, item4, item3)</td>\n      <td>5</td>\n    </tr>\n  </tbody>\n</table>\n</div>",
      "text/plain": "     support                             itemsets  length\n0   0.636364                              (item1)       1\n1   0.818182                              (item2)       1\n2   0.636364                              (item3)       1\n3   0.363636                              (item4)       1\n4   0.636364                              (item5)       1\n5   0.454545                       (item1, item2)       2\n6   0.454545                       (item3, item1)       2\n7   0.181818                       (item4, item1)       2\n8   0.545455                       (item1, item5)       2\n9   0.545455                       (item3, item2)       2\n10  0.363636                       (item4, item2)       2\n11  0.545455                       (item5, item2)       2\n12  0.181818                       (item4, item3)       2\n13  0.545455                       (item3, item5)       2\n14  0.272727                       (item4, item5)       2\n15  0.363636                (item3, item1, item2)       3\n16  0.181818                (item4, item1, item2)       3\n17  0.454545                (item1, item5, item2)       3\n18  0.090909                (item4, item3, item1)       3\n19  0.454545                (item3, item1, item5)       3\n20  0.181818                (item4, item1, item5)       3\n21  0.181818                (item4, item3, item2)       3\n22  0.454545                (item3, item5, item2)       3\n23  0.272727                (item4, item5, item2)       3\n24  0.181818                (item4, item3, item5)       3\n25  0.090909         (item4, item3, item1, item2)       4\n26  0.363636         (item3, item1, item5, item2)       4\n27  0.181818         (item4, item1, item5, item2)       4\n28  0.090909         (item4, item3, item1, item5)       4\n29  0.181818         (item4, item3, item5, item2)       4\n30  0.090909  (item5, item1, item2, item4, item3)       5"
     },
     "execution_count": 46,
     "metadata": {},
     "output_type": "execute_result"
    }
   ],
   "source": [
    "#generating all the itemsets with min_support > 0.001 (so that all the combination gets listed)\r\n",
    "frequent_itemsets = apriori(final_df, min_support=0.001, use_colnames=True)\r\n",
    "frequent_itemsets['length'] = frequent_itemsets['itemsets'].apply(lambda x: len(x))\r\n",
    "frequent_itemsets"
   ]
  },
  {
   "cell_type": "code",
   "execution_count": 47,
   "metadata": {},
   "outputs": [
    {
     "data": {
      "text/html": "<div>\n<style scoped>\n    .dataframe tbody tr th:only-of-type {\n        vertical-align: middle;\n    }\n\n    .dataframe tbody tr th {\n        vertical-align: top;\n    }\n\n    .dataframe thead th {\n        text-align: right;\n    }\n</style>\n<table border=\"1\" class=\"dataframe\">\n  <thead>\n    <tr style=\"text-align: right;\">\n      <th></th>\n      <th>support</th>\n      <th>itemsets</th>\n      <th>length</th>\n    </tr>\n  </thead>\n  <tbody>\n    <tr>\n      <th>0</th>\n      <td>0.636364</td>\n      <td>(item1)</td>\n      <td>1</td>\n    </tr>\n    <tr>\n      <th>1</th>\n      <td>0.818182</td>\n      <td>(item2)</td>\n      <td>1</td>\n    </tr>\n    <tr>\n      <th>2</th>\n      <td>0.636364</td>\n      <td>(item3)</td>\n      <td>1</td>\n    </tr>\n    <tr>\n      <th>4</th>\n      <td>0.636364</td>\n      <td>(item5)</td>\n      <td>1</td>\n    </tr>\n    <tr>\n      <th>8</th>\n      <td>0.545455</td>\n      <td>(item1, item5)</td>\n      <td>2</td>\n    </tr>\n    <tr>\n      <th>9</th>\n      <td>0.545455</td>\n      <td>(item3, item2)</td>\n      <td>2</td>\n    </tr>\n    <tr>\n      <th>11</th>\n      <td>0.545455</td>\n      <td>(item5, item2)</td>\n      <td>2</td>\n    </tr>\n    <tr>\n      <th>13</th>\n      <td>0.545455</td>\n      <td>(item3, item5)</td>\n      <td>2</td>\n    </tr>\n  </tbody>\n</table>\n</div>",
      "text/plain": "     support        itemsets  length\n0   0.636364         (item1)       1\n1   0.818182         (item2)       1\n2   0.636364         (item3)       1\n4   0.636364         (item5)       1\n8   0.545455  (item1, item5)       2\n9   0.545455  (item3, item2)       2\n11  0.545455  (item5, item2)       2\n13  0.545455  (item3, item5)       2"
     },
     "execution_count": 47,
     "metadata": {},
     "output_type": "execute_result"
    }
   ],
   "source": [
    "# now , we can select the results that satisfy our desired criteria as follows:\r\n",
    "# Itemsets with length 1 or 2 and support greater than 0.5\r\n",
    "\r\n",
    "frequent_itemsets[ ((frequent_itemsets['length'] == 1) | (frequent_itemsets['length'] == 2)) & (frequent_itemsets['support'] >= 0.5) ]"
   ]
  },
  {
   "cell_type": "code",
   "execution_count": 48,
   "metadata": {},
   "outputs": [
    {
     "data": {
      "text/html": "<div>\n<style scoped>\n    .dataframe tbody tr th:only-of-type {\n        vertical-align: middle;\n    }\n\n    .dataframe tbody tr th {\n        vertical-align: top;\n    }\n\n    .dataframe thead th {\n        text-align: right;\n    }\n</style>\n<table border=\"1\" class=\"dataframe\">\n  <thead>\n    <tr style=\"text-align: right;\">\n      <th></th>\n      <th>support</th>\n      <th>itemsets</th>\n    </tr>\n    <tr>\n      <th>length</th>\n      <th></th>\n      <th></th>\n    </tr>\n  </thead>\n  <tbody>\n    <tr>\n      <th>1</th>\n      <td>4</td>\n      <td>4</td>\n    </tr>\n    <tr>\n      <th>2</th>\n      <td>4</td>\n      <td>4</td>\n    </tr>\n  </tbody>\n</table>\n</div>",
      "text/plain": "        support  itemsets\nlength                   \n1             4         4\n2             4         4"
     },
     "execution_count": 48,
     "metadata": {},
     "output_type": "execute_result"
    }
   ],
   "source": [
    "out=frequent_itemsets[ ((frequent_itemsets['length'] == 1) | (frequent_itemsets['length'] == 2)) & (frequent_itemsets['support'] >= 0.5) ]\r\n",
    "out.groupby(['length']).count()"
   ]
  },
  {
   "cell_type": "markdown",
   "metadata": {},
   "source": [
    "# From above output we can conclude that we have 4 itemsets with confidence greater than 0.5 for one item and two items"
   ]
  },
  {
   "cell_type": "code",
   "execution_count": 49,
   "metadata": {},
   "outputs": [
    {
     "data": {
      "text/html": "<div>\n<style scoped>\n    .dataframe tbody tr th:only-of-type {\n        vertical-align: middle;\n    }\n\n    .dataframe tbody tr th {\n        vertical-align: top;\n    }\n\n    .dataframe thead th {\n        text-align: right;\n    }\n</style>\n<table border=\"1\" class=\"dataframe\">\n  <thead>\n    <tr style=\"text-align: right;\">\n      <th></th>\n      <th>support</th>\n      <th>itemsets</th>\n      <th>length</th>\n    </tr>\n  </thead>\n  <tbody>\n  </tbody>\n</table>\n</div>",
      "text/plain": "Empty DataFrame\nColumns: [support, itemsets, length]\nIndex: []"
     },
     "execution_count": 49,
     "metadata": {},
     "output_type": "execute_result"
    }
   ],
   "source": [
    "# now , we can select the results that satisfy our desired criteria as follows:\r\n",
    "# Itemsets with length 3 and support greater than 0.5\r\n",
    "\r\n",
    "frequent_itemsets[ (frequent_itemsets['length'] == 3) & (frequent_itemsets['support'] >= 0.5) ]\r\n",
    "\r\n",
    "# we are not having any itemset which is of length 3 and support value greater or equal to 0.5"
   ]
  },
  {
   "cell_type": "code",
   "execution_count": 50,
   "metadata": {},
   "outputs": [
    {
     "data": {
      "text/html": "<div>\n<style scoped>\n    .dataframe tbody tr th:only-of-type {\n        vertical-align: middle;\n    }\n\n    .dataframe tbody tr th {\n        vertical-align: top;\n    }\n\n    .dataframe thead th {\n        text-align: right;\n    }\n</style>\n<table border=\"1\" class=\"dataframe\">\n  <thead>\n    <tr style=\"text-align: right;\">\n      <th></th>\n      <th>support</th>\n      <th>itemsets</th>\n      <th>length</th>\n    </tr>\n  </thead>\n  <tbody>\n    <tr>\n      <th>15</th>\n      <td>0.363636</td>\n      <td>(item3, item1, item2)</td>\n      <td>3</td>\n    </tr>\n    <tr>\n      <th>16</th>\n      <td>0.181818</td>\n      <td>(item4, item1, item2)</td>\n      <td>3</td>\n    </tr>\n    <tr>\n      <th>17</th>\n      <td>0.454545</td>\n      <td>(item1, item5, item2)</td>\n      <td>3</td>\n    </tr>\n    <tr>\n      <th>18</th>\n      <td>0.090909</td>\n      <td>(item4, item3, item1)</td>\n      <td>3</td>\n    </tr>\n    <tr>\n      <th>19</th>\n      <td>0.454545</td>\n      <td>(item3, item1, item5)</td>\n      <td>3</td>\n    </tr>\n    <tr>\n      <th>20</th>\n      <td>0.181818</td>\n      <td>(item4, item1, item5)</td>\n      <td>3</td>\n    </tr>\n    <tr>\n      <th>21</th>\n      <td>0.181818</td>\n      <td>(item4, item3, item2)</td>\n      <td>3</td>\n    </tr>\n    <tr>\n      <th>22</th>\n      <td>0.454545</td>\n      <td>(item3, item5, item2)</td>\n      <td>3</td>\n    </tr>\n    <tr>\n      <th>23</th>\n      <td>0.272727</td>\n      <td>(item4, item5, item2)</td>\n      <td>3</td>\n    </tr>\n    <tr>\n      <th>24</th>\n      <td>0.181818</td>\n      <td>(item4, item3, item5)</td>\n      <td>3</td>\n    </tr>\n  </tbody>\n</table>\n</div>",
      "text/plain": "     support               itemsets  length\n15  0.363636  (item3, item1, item2)       3\n16  0.181818  (item4, item1, item2)       3\n17  0.454545  (item1, item5, item2)       3\n18  0.090909  (item4, item3, item1)       3\n19  0.454545  (item3, item1, item5)       3\n20  0.181818  (item4, item1, item5)       3\n21  0.181818  (item4, item3, item2)       3\n22  0.454545  (item3, item5, item2)       3\n23  0.272727  (item4, item5, item2)       3\n24  0.181818  (item4, item3, item5)       3"
     },
     "execution_count": 50,
     "metadata": {},
     "output_type": "execute_result"
    }
   ],
   "source": [
    "frequent_itemsets[ (frequent_itemsets['length'] == 3) ]"
   ]
  },
  {
   "cell_type": "code",
   "execution_count": 51,
   "metadata": {},
   "outputs": [
    {
     "data": {
      "text/html": "<div>\n<style scoped>\n    .dataframe tbody tr th:only-of-type {\n        vertical-align: middle;\n    }\n\n    .dataframe tbody tr th {\n        vertical-align: top;\n    }\n\n    .dataframe thead th {\n        text-align: right;\n    }\n</style>\n<table border=\"1\" class=\"dataframe\">\n  <thead>\n    <tr style=\"text-align: right;\">\n      <th></th>\n      <th>support</th>\n      <th>itemsets</th>\n    </tr>\n    <tr>\n      <th>length</th>\n      <th></th>\n      <th></th>\n    </tr>\n  </thead>\n  <tbody>\n    <tr>\n      <th>3</th>\n      <td>0.454545</td>\n      <td>(item4, item3, item5)</td>\n    </tr>\n  </tbody>\n</table>\n</div>",
      "text/plain": "         support               itemsets\nlength                                 \n3       0.454545  (item4, item3, item5)"
     },
     "execution_count": 51,
     "metadata": {},
     "output_type": "execute_result"
    }
   ],
   "source": [
    "out=frequent_itemsets[ (frequent_itemsets['length'] == 3) ]\r\n",
    "out.groupby(['length']).max()"
   ]
  },
  {
   "cell_type": "markdown",
   "metadata": {},
   "source": [
    "# From above Dataset we can see that for 3 items max support is 0.45"
   ]
  },
  {
   "cell_type": "markdown",
   "metadata": {},
   "source": [
    "Now running the association Rule package to get the support,confidence and lift"
   ]
  },
  {
   "cell_type": "code",
   "execution_count": 52,
   "metadata": {},
   "outputs": [
    {
     "data": {
      "text/html": "<div>\n<style scoped>\n    .dataframe tbody tr th:only-of-type {\n        vertical-align: middle;\n    }\n\n    .dataframe tbody tr th {\n        vertical-align: top;\n    }\n\n    .dataframe thead th {\n        text-align: right;\n    }\n</style>\n<table border=\"1\" class=\"dataframe\">\n  <thead>\n    <tr style=\"text-align: right;\">\n      <th></th>\n      <th>antecedents</th>\n      <th>consequents</th>\n      <th>antecedent support</th>\n      <th>consequent support</th>\n      <th>support</th>\n      <th>confidence</th>\n      <th>lift</th>\n      <th>leverage</th>\n      <th>conviction</th>\n    </tr>\n  </thead>\n  <tbody>\n    <tr>\n      <th>0</th>\n      <td>(item1)</td>\n      <td>(item2)</td>\n      <td>0.636364</td>\n      <td>0.818182</td>\n      <td>0.454545</td>\n      <td>0.714286</td>\n      <td>0.873016</td>\n      <td>-0.066116</td>\n      <td>0.636364</td>\n    </tr>\n    <tr>\n      <th>1</th>\n      <td>(item2)</td>\n      <td>(item1)</td>\n      <td>0.818182</td>\n      <td>0.636364</td>\n      <td>0.454545</td>\n      <td>0.555556</td>\n      <td>0.873016</td>\n      <td>-0.066116</td>\n      <td>0.818182</td>\n    </tr>\n    <tr>\n      <th>2</th>\n      <td>(item3)</td>\n      <td>(item1)</td>\n      <td>0.636364</td>\n      <td>0.636364</td>\n      <td>0.454545</td>\n      <td>0.714286</td>\n      <td>1.122449</td>\n      <td>0.049587</td>\n      <td>1.272727</td>\n    </tr>\n    <tr>\n      <th>3</th>\n      <td>(item1)</td>\n      <td>(item3)</td>\n      <td>0.636364</td>\n      <td>0.636364</td>\n      <td>0.454545</td>\n      <td>0.714286</td>\n      <td>1.122449</td>\n      <td>0.049587</td>\n      <td>1.272727</td>\n    </tr>\n    <tr>\n      <th>4</th>\n      <td>(item4)</td>\n      <td>(item1)</td>\n      <td>0.363636</td>\n      <td>0.636364</td>\n      <td>0.181818</td>\n      <td>0.500000</td>\n      <td>0.785714</td>\n      <td>-0.049587</td>\n      <td>0.727273</td>\n    </tr>\n    <tr>\n      <th>...</th>\n      <td>...</td>\n      <td>...</td>\n      <td>...</td>\n      <td>...</td>\n      <td>...</td>\n      <td>...</td>\n      <td>...</td>\n      <td>...</td>\n      <td>...</td>\n    </tr>\n    <tr>\n      <th>175</th>\n      <td>(item5)</td>\n      <td>(item4, item3, item1, item2)</td>\n      <td>0.636364</td>\n      <td>0.090909</td>\n      <td>0.090909</td>\n      <td>0.142857</td>\n      <td>1.571429</td>\n      <td>0.033058</td>\n      <td>1.060606</td>\n    </tr>\n    <tr>\n      <th>176</th>\n      <td>(item1)</td>\n      <td>(item4, item3, item5, item2)</td>\n      <td>0.636364</td>\n      <td>0.181818</td>\n      <td>0.090909</td>\n      <td>0.142857</td>\n      <td>0.785714</td>\n      <td>-0.024793</td>\n      <td>0.954545</td>\n    </tr>\n    <tr>\n      <th>177</th>\n      <td>(item2)</td>\n      <td>(item4, item3, item1, item5)</td>\n      <td>0.818182</td>\n      <td>0.090909</td>\n      <td>0.090909</td>\n      <td>0.111111</td>\n      <td>1.222222</td>\n      <td>0.016529</td>\n      <td>1.022727</td>\n    </tr>\n    <tr>\n      <th>178</th>\n      <td>(item4)</td>\n      <td>(item3, item1, item5, item2)</td>\n      <td>0.363636</td>\n      <td>0.363636</td>\n      <td>0.090909</td>\n      <td>0.250000</td>\n      <td>0.687500</td>\n      <td>-0.041322</td>\n      <td>0.848485</td>\n    </tr>\n    <tr>\n      <th>179</th>\n      <td>(item3)</td>\n      <td>(item4, item1, item5, item2)</td>\n      <td>0.636364</td>\n      <td>0.181818</td>\n      <td>0.090909</td>\n      <td>0.142857</td>\n      <td>0.785714</td>\n      <td>-0.024793</td>\n      <td>0.954545</td>\n    </tr>\n  </tbody>\n</table>\n<p>180 rows × 9 columns</p>\n</div>",
      "text/plain": "    antecedents                   consequents  antecedent support  \\\n0       (item1)                       (item2)            0.636364   \n1       (item2)                       (item1)            0.818182   \n2       (item3)                       (item1)            0.636364   \n3       (item1)                       (item3)            0.636364   \n4       (item4)                       (item1)            0.363636   \n..          ...                           ...                 ...   \n175     (item5)  (item4, item3, item1, item2)            0.636364   \n176     (item1)  (item4, item3, item5, item2)            0.636364   \n177     (item2)  (item4, item3, item1, item5)            0.818182   \n178     (item4)  (item3, item1, item5, item2)            0.363636   \n179     (item3)  (item4, item1, item5, item2)            0.636364   \n\n     consequent support   support  confidence      lift  leverage  conviction  \n0              0.818182  0.454545    0.714286  0.873016 -0.066116    0.636364  \n1              0.636364  0.454545    0.555556  0.873016 -0.066116    0.818182  \n2              0.636364  0.454545    0.714286  1.122449  0.049587    1.272727  \n3              0.636364  0.454545    0.714286  1.122449  0.049587    1.272727  \n4              0.636364  0.181818    0.500000  0.785714 -0.049587    0.727273  \n..                  ...       ...         ...       ...       ...         ...  \n175            0.090909  0.090909    0.142857  1.571429  0.033058    1.060606  \n176            0.181818  0.090909    0.142857  0.785714 -0.024793    0.954545  \n177            0.090909  0.090909    0.111111  1.222222  0.016529    1.022727  \n178            0.363636  0.090909    0.250000  0.687500 -0.041322    0.848485  \n179            0.181818  0.090909    0.142857  0.785714 -0.024793    0.954545  \n\n[180 rows x 9 columns]"
     },
     "execution_count": 52,
     "metadata": {},
     "output_type": "execute_result"
    }
   ],
   "source": [
    "rule=association_rules(frequent_itemsets, metric='confidence', min_threshold=0.01, support_only=False)\r\n",
    "rule"
   ]
  },
  {
   "cell_type": "markdown",
   "metadata": {},
   "source": [
    "# Now applying filter based on given association Rules\r\n",
    "R1: {item1,item2} => {item3}\r\n",
    "\r\n",
    "R2: {item3,item5} => {item2}"
   ]
  },
  {
   "cell_type": "code",
   "execution_count": 53,
   "metadata": {},
   "outputs": [
    {
     "data": {
      "text/html": "<div>\n<style scoped>\n    .dataframe tbody tr th:only-of-type {\n        vertical-align: middle;\n    }\n\n    .dataframe tbody tr th {\n        vertical-align: top;\n    }\n\n    .dataframe thead th {\n        text-align: right;\n    }\n</style>\n<table border=\"1\" class=\"dataframe\">\n  <thead>\n    <tr style=\"text-align: right;\">\n      <th></th>\n      <th>antecedents</th>\n      <th>consequents</th>\n      <th>support</th>\n      <th>confidence</th>\n      <th>lift</th>\n    </tr>\n  </thead>\n  <tbody>\n    <tr>\n      <th>22</th>\n      <td>(item1, item2)</td>\n      <td>(item3)</td>\n      <td>0.363636</td>\n      <td>0.8</td>\n      <td>1.257143</td>\n    </tr>\n  </tbody>\n</table>\n</div>",
      "text/plain": "       antecedents consequents   support  confidence      lift\n22  (item1, item2)     (item3)  0.363636         0.8  1.257143"
     },
     "execution_count": 53,
     "metadata": {},
     "output_type": "execute_result"
    }
   ],
   "source": [
    "selected_rule1=rule[(rule['antecedents'] == {'item1', 'item2'}) & (rule['consequents']=={'item3'}) ] \r\n",
    "#selecting the required columns from the dataframe\r\n",
    "selected_rule1[['antecedents','consequents','support','confidence','lift']]\r\n"
   ]
  },
  {
   "cell_type": "code",
   "execution_count": 54,
   "metadata": {},
   "outputs": [
    {
     "data": {
      "text/html": "<div>\n<style scoped>\n    .dataframe tbody tr th:only-of-type {\n        vertical-align: middle;\n    }\n\n    .dataframe tbody tr th {\n        vertical-align: top;\n    }\n\n    .dataframe thead th {\n        text-align: right;\n    }\n</style>\n<table border=\"1\" class=\"dataframe\">\n  <thead>\n    <tr style=\"text-align: right;\">\n      <th></th>\n      <th>antecedents</th>\n      <th>consequents</th>\n      <th>support</th>\n      <th>confidence</th>\n      <th>lift</th>\n    </tr>\n  </thead>\n  <tbody>\n    <tr>\n      <th>62</th>\n      <td>(item3, item5)</td>\n      <td>(item2)</td>\n      <td>0.454545</td>\n      <td>0.833333</td>\n      <td>1.018519</td>\n    </tr>\n  </tbody>\n</table>\n</div>",
      "text/plain": "       antecedents consequents   support  confidence      lift\n62  (item3, item5)     (item2)  0.454545    0.833333  1.018519"
     },
     "execution_count": 54,
     "metadata": {},
     "output_type": "execute_result"
    }
   ],
   "source": [
    "selected_rule2=rule[(rule['antecedents'] == {'item3', 'item5'}) & (rule['consequents']=={'item2'}) ] \r\n",
    "#selecting the required columns from the dataframe\r\n",
    "selected_rule2[['antecedents','consequents','support','confidence','lift']]"
   ]
  },
  {
   "cell_type": "markdown",
   "metadata": {},
   "source": [
    "# Combining the both the rules into single dataframe for comparision"
   ]
  },
  {
   "cell_type": "code",
   "execution_count": 55,
   "metadata": {},
   "outputs": [
    {
     "data": {
      "text/html": "<div>\n<style scoped>\n    .dataframe tbody tr th:only-of-type {\n        vertical-align: middle;\n    }\n\n    .dataframe tbody tr th {\n        vertical-align: top;\n    }\n\n    .dataframe thead th {\n        text-align: right;\n    }\n</style>\n<table border=\"1\" class=\"dataframe\">\n  <thead>\n    <tr style=\"text-align: right;\">\n      <th></th>\n      <th>antecedents</th>\n      <th>consequents</th>\n      <th>antecedent support</th>\n      <th>consequent support</th>\n      <th>support</th>\n      <th>confidence</th>\n      <th>lift</th>\n      <th>leverage</th>\n      <th>conviction</th>\n    </tr>\n  </thead>\n  <tbody>\n    <tr>\n      <th>22</th>\n      <td>(item1, item2)</td>\n      <td>(item3)</td>\n      <td>0.454545</td>\n      <td>0.636364</td>\n      <td>0.363636</td>\n      <td>0.800000</td>\n      <td>1.257143</td>\n      <td>0.074380</td>\n      <td>1.818182</td>\n    </tr>\n    <tr>\n      <th>62</th>\n      <td>(item3, item5)</td>\n      <td>(item2)</td>\n      <td>0.545455</td>\n      <td>0.818182</td>\n      <td>0.454545</td>\n      <td>0.833333</td>\n      <td>1.018519</td>\n      <td>0.008264</td>\n      <td>1.090909</td>\n    </tr>\n  </tbody>\n</table>\n</div>",
      "text/plain": "       antecedents consequents  antecedent support  consequent support  \\\n22  (item1, item2)     (item3)            0.454545            0.636364   \n62  (item3, item5)     (item2)            0.545455            0.818182   \n\n     support  confidence      lift  leverage  conviction  \n22  0.363636    0.800000  1.257143  0.074380    1.818182  \n62  0.454545    0.833333  1.018519  0.008264    1.090909  "
     },
     "execution_count": 55,
     "metadata": {},
     "output_type": "execute_result"
    }
   ],
   "source": [
    "frames = [selected_rule1,selected_rule2]\r\n",
    "result=pd.concat(frames)\r\n",
    "result"
   ]
  },
  {
   "cell_type": "markdown",
   "metadata": {},
   "source": [
    "# Based on the above output, we can see that Rule2 confidence value is more than Rule1 Confidence Value\r\n",
    "the confidence of a rule A->C is the probability of seeing the consequent in a transaction given that it also contains the antecedent\r\n",
    "# Based on given data, we should go with Rule2 for better prediction of cross sale."
   ]
  },
  {
   "cell_type": "markdown",
   "metadata": {},
   "source": [
    "# Visualizing the metrics\r\n",
    "\r\n",
    "# Support vs Confidence"
   ]
  },
  {
   "cell_type": "code",
   "execution_count": 56,
   "metadata": {},
   "outputs": [
    {
     "data": {
      "image/png": "[encoded data removed]",
      "text/plain": "<Figure size 432x288 with 1 Axes>"
     },
     "metadata": {
      "needs_background": "light"
     },
     "output_type": "display_data"
    }
   ],
   "source": [
    "plt.scatter(rule['support'], rule['confidence'], alpha=0.5)\r\n",
    "plt.xlabel('support')\r\n",
    "plt.ylabel('confidence')\r\n",
    "plt.title('Support vs Confidence')\r\n",
    "plt.show()"
   ]
  },
  {
   "cell_type": "markdown",
   "metadata": {},
   "source": [
    "# Support vs Lift"
   ]
  },
  {
   "cell_type": "code",
   "execution_count": 57,
   "metadata": {},
   "outputs": [
    {
     "data": {
      "image/png": "[encoded data removed]",
      "text/plain": "<Figure size 432x288 with 1 Axes>"
     },
     "metadata": {
      "needs_background": "light"
     },
     "output_type": "display_data"
    }
   ],
   "source": [
    "plt.scatter(rule['support'], rule['lift'], alpha=0.5)\r\n",
    "plt.xlabel('support')\r\n",
    "plt.ylabel('lift')\r\n",
    "plt.title('Support vs Lift')\r\n",
    "plt.show()"
   ]
  },
  {
   "cell_type": "markdown",
   "metadata": {},
   "source": [
    "# Lift vs Confidence"
   ]
  },
  {
   "cell_type": "code",
   "execution_count": 58,
   "metadata": {},
   "outputs": [
    {
     "data": {
      "text/plain": "[<matplotlib.lines.Line2D at 0x1cf4b8e2f88>,\n <matplotlib.lines.Line2D at 0x1cf4b8cc4c8>]"
     },
     "execution_count": 58,
     "metadata": {},
     "output_type": "execute_result"
    },
    {
     "data": {
      "image/png": "[encoded data removed]",
      "text/plain": "<Figure size 432x288 with 1 Axes>"
     },
     "metadata": {
      "needs_background": "light"
     },
     "output_type": "display_data"
    }
   ],
   "source": [
    "fit = np.polyfit(rule['lift'], rule['confidence'], 1)\r\n",
    "fit_fn = np.poly1d(fit)\r\n",
    "plt.title('Lift vs Confidence')\r\n",
    "plt.plot(rule['lift'], rule['confidence'], 'yo', rule['lift'], fit_fn(rule['lift']))"
   ]
  }
 ],
 "metadata": {
  "kernelspec": {
   "display_name": "Python 3.7.9 64-bit",
   "metadata": {
    "interpreter": {
     "hash": "e5e5e68ca2163f981fed45c5fb290be80254bcfc6b622e2760d998bc6f0faa1c"
    }
   },
   "name": "python3"
  },
  "language_info": {
   "codemirror_mode": {
    "name": "ipython",
    "version": 3
   },
   "file_extension": ".py",
   "mimetype": "text/x-python",
   "name": "python",
   "nbconvert_exporter": "python",
   "pygments_lexer": "ipython3",
   "version": "3.7.9"
  },
  "orig_nbformat": 2
 },
 "nbformat": 4,
 "nbformat_minor": 2
}